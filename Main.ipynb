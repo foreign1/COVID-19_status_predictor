{
 "cells": [
  {
   "cell_type": "code",
   "execution_count": 5,
   "metadata": {},
   "outputs": [],
   "source": [
    "import pandas as pd\n",
    "import matplotlib.pyplot as plt\n",
    "import pickle\n",
    "from sklearn import preprocessing\n",
    "from sklearn.model_selection import train_test_split\n",
    "from sklearn import svm\n",
    "from sklearn.neighbors import KNeighborsClassifier\n",
    "import matplotlib.pyplot as plt\n",
    "import seaborn as sns\n",
    "from sklearn.metrics import classification_report, confusion_matrix, accuracy_score"
   ]
  },
  {
   "cell_type": "code",
   "execution_count": 22,
   "metadata": {},
   "outputs": [],
   "source": [
    "df = pd.read_excel(\"./data/Ogundoyin_Jan_2022.xlsx\")\n"
   ]
  },
  {
   "cell_type": "code",
   "execution_count": 23,
   "metadata": {},
   "outputs": [],
   "source": [
    "# select relevant datafields\n",
    "slctdt = [\"AGE (YR)\", \"SEX\" ,\"SYMPTOMATIC\", \"COMMENTS(TRAVEL HISTORY)\", \"COMMENTS (CONTACT)\", \"FEVER (DEGREE CELCIOUS)\", \"SUBJECTIVE FEVER (felt feverish)\", \"CHILLS\", \"MUSCLE ACHES (MYALGIA)\", \"RUNNY NOSE\", \"SORE THROAT\", \"COUGH\", \"SHORTNESS OF BREATH\", \"NAUSEA\", \"HEADACHE\", \"ABDOMINAL PAIN\", \"DIARRHEA\", \"CHRONI LUNG DISEASE\", \"DIABETES MELLITUS\", \"CARDIOVASCULAR\", \"CHRONIC RENAL DISEASE\", \"CHRNIC LIVER DISEASE\", \"IMMUNOCOMPROMISED CONDITION\", \"NEUROLOGIC/NEURODEVELOPMENT\", \"OTHER CHRONIC CONDITION\", \"IF FEMALE, CURRENTLY PREGNANT\", \"CURRENT SMOKER\", \"FORMER SMOKER\", \"FINAL RESULT INTERPRETATION. (POSITIVE, NEGATIVE, OR DISCARDED)\"]\n",
    "df = df[slctdt]\n",
    "# rename variables\n",
    "field_names = {\n",
    "    \"AGE (YR)\": \"Age\",\n",
    "    \"SEX\": \"Sex\",\n",
    "    \"COMMENTS(TRAVEL HISTORY)\": \"Travel_History\",\n",
    "    \"COMMENTS (CONTACT)\": \"Contact_With_Infected\", \n",
    "    \"FEVER (DEGREE CELCIOUS)\": \"Fever\", \n",
    "    \"SUBJECTIVE FEVER (felt feverish)\": \"Subjective_Fever\", \n",
    "    \"CHILLS\": \"Chills\", \n",
    "    \"MUSCLE ACHES (MYALGIA)\": \"Muscle_Ache\", \n",
    "    \"RUNNY NOSE\": \"Runny_Nose\", \n",
    "    \"SORE THROAT\": \"Sore_throat\", \n",
    "    \"COUGH\": \"Cough\", \n",
    "    \"SHORTNESS OF BREATH\": \"Shortness_Of_Breath\", \n",
    "    \"NAUSEA\": \"Nausea\", \n",
    "    \"HEADACHE\": \"Headache\", \n",
    "    \"ABDOMINAL PAIN\": \"Abdominal_Pain\", \n",
    "    \"DIARRHEA\": \"Diarrhea\", \n",
    "    \"CHRONI LUNG DISEASE\": \"Chronic_Lung_Disease\", \n",
    "    \"DIABETES MELLITUS\": \"Diabetes_Mellitus\", \n",
    "    \"CARDIOVASCULAR\": \"Cardiovascular\", \n",
    "    \"CHRONIC RENAL DISEASE\": \"Chronic_Renal_Disease\", \n",
    "    \"CHRNIC LIVER DISEASE\": \"Chronic_Liver_Disease\", \n",
    "    \"IMMUNOCOMPROMISED CONDITION\": \"Immunocompromised_Condition\", \n",
    "    \"NEUROLOGIC/NEURODEVELOPMENT\": \"Neurological_Neurodevelopment\", \n",
    "    \"OTHER CHRONIC CONDITION\": \"Other_Chronic_Condition\", \n",
    "    \"IF FEMALE, CURRENTLY PREGNANT\": \"Is_Currently_Pregrant_Female\", \n",
    "    \"CURRENT SMOKER\": \"Current_Smoker\", \n",
    "    \"FORMER SMOKER\": \"Former_Smoker\", \n",
    "    \"SYMPTOMATIC\": \"Symptomatic\",\n",
    "    \"FINAL RESULT INTERPRETATION. (POSITIVE, NEGATIVE, OR DISCARDED)\": \"Outcome\"     \n",
    "}\n",
    "df.rename(columns=field_names, inplace=True)\n",
    "# df.rename(columns={'oldName1': 'newName1', 'oldName2': 'newName2'}, inplace=True)"
   ]
  },
  {
   "cell_type": "code",
   "execution_count": 24,
   "metadata": {},
   "outputs": [
    {
     "data": {
      "text/html": [
       "<div>\n",
       "<style scoped>\n",
       "    .dataframe tbody tr th:only-of-type {\n",
       "        vertical-align: middle;\n",
       "    }\n",
       "\n",
       "    .dataframe tbody tr th {\n",
       "        vertical-align: top;\n",
       "    }\n",
       "\n",
       "    .dataframe thead th {\n",
       "        text-align: right;\n",
       "    }\n",
       "</style>\n",
       "<table border=\"1\" class=\"dataframe\">\n",
       "  <thead>\n",
       "    <tr style=\"text-align: right;\">\n",
       "      <th></th>\n",
       "      <th>Age</th>\n",
       "      <th>Sex</th>\n",
       "      <th>SYMPTOMATIC</th>\n",
       "      <th>Travel_History</th>\n",
       "      <th>Contact_With_Infected</th>\n",
       "      <th>Fever</th>\n",
       "      <th>Subjective_Fever</th>\n",
       "      <th>Chills</th>\n",
       "      <th>Muscle_Ache</th>\n",
       "      <th>Runny_Nose</th>\n",
       "      <th>...</th>\n",
       "      <th>Cardiovascular</th>\n",
       "      <th>Chronic_Renal_Disease</th>\n",
       "      <th>Chronic_Liver_Disease</th>\n",
       "      <th>Immunocompromised_Condition</th>\n",
       "      <th>Neurological_Neurodevelopment</th>\n",
       "      <th>Other_Chronic_Condition</th>\n",
       "      <th>Is_Currently_Pregrant_Female</th>\n",
       "      <th>Current_Smoker</th>\n",
       "      <th>Former_Smoker</th>\n",
       "      <th>Outcome</th>\n",
       "    </tr>\n",
       "  </thead>\n",
       "  <tbody>\n",
       "    <tr>\n",
       "      <th>0</th>\n",
       "      <td>48</td>\n",
       "      <td>F</td>\n",
       "      <td>NO</td>\n",
       "      <td>NO</td>\n",
       "      <td>NO</td>\n",
       "      <td>NO</td>\n",
       "      <td>YES</td>\n",
       "      <td>NO</td>\n",
       "      <td>YES</td>\n",
       "      <td>NO</td>\n",
       "      <td>...</td>\n",
       "      <td>NO</td>\n",
       "      <td>NO</td>\n",
       "      <td>NO</td>\n",
       "      <td>NO</td>\n",
       "      <td>NO</td>\n",
       "      <td>NO</td>\n",
       "      <td>NO</td>\n",
       "      <td>NO</td>\n",
       "      <td>NO</td>\n",
       "      <td>NEGATIVE</td>\n",
       "    </tr>\n",
       "    <tr>\n",
       "      <th>1</th>\n",
       "      <td>16</td>\n",
       "      <td>M</td>\n",
       "      <td>NO</td>\n",
       "      <td>NO</td>\n",
       "      <td>NO</td>\n",
       "      <td>YES</td>\n",
       "      <td>YES</td>\n",
       "      <td>NO</td>\n",
       "      <td>NO</td>\n",
       "      <td>YES</td>\n",
       "      <td>...</td>\n",
       "      <td>NO</td>\n",
       "      <td>NO</td>\n",
       "      <td>NO</td>\n",
       "      <td>NO</td>\n",
       "      <td>NO</td>\n",
       "      <td>NO</td>\n",
       "      <td>NO</td>\n",
       "      <td>NO</td>\n",
       "      <td>NO</td>\n",
       "      <td>NEGATIVE</td>\n",
       "    </tr>\n",
       "    <tr>\n",
       "      <th>2</th>\n",
       "      <td>63</td>\n",
       "      <td>F</td>\n",
       "      <td>YES</td>\n",
       "      <td>NO</td>\n",
       "      <td>NO</td>\n",
       "      <td>NO</td>\n",
       "      <td>NO</td>\n",
       "      <td>NO</td>\n",
       "      <td>NO</td>\n",
       "      <td>NO</td>\n",
       "      <td>...</td>\n",
       "      <td>YES</td>\n",
       "      <td>NO</td>\n",
       "      <td>NO</td>\n",
       "      <td>NO</td>\n",
       "      <td>NO</td>\n",
       "      <td>NO</td>\n",
       "      <td>NO</td>\n",
       "      <td>NO</td>\n",
       "      <td>NO</td>\n",
       "      <td>POSITIVE</td>\n",
       "    </tr>\n",
       "    <tr>\n",
       "      <th>3</th>\n",
       "      <td>39</td>\n",
       "      <td>M</td>\n",
       "      <td>NO</td>\n",
       "      <td>NO</td>\n",
       "      <td>NO</td>\n",
       "      <td>NO</td>\n",
       "      <td>NO</td>\n",
       "      <td>NO</td>\n",
       "      <td>NO</td>\n",
       "      <td>NO</td>\n",
       "      <td>...</td>\n",
       "      <td>NO</td>\n",
       "      <td>NO</td>\n",
       "      <td>NO</td>\n",
       "      <td>NO</td>\n",
       "      <td>NO</td>\n",
       "      <td>NO</td>\n",
       "      <td>NO</td>\n",
       "      <td>NO</td>\n",
       "      <td>NO</td>\n",
       "      <td>NEGATIVE</td>\n",
       "    </tr>\n",
       "    <tr>\n",
       "      <th>4</th>\n",
       "      <td>40</td>\n",
       "      <td>F</td>\n",
       "      <td>NO</td>\n",
       "      <td>NO</td>\n",
       "      <td>NO</td>\n",
       "      <td>36.5</td>\n",
       "      <td>NO</td>\n",
       "      <td>NO</td>\n",
       "      <td>NO</td>\n",
       "      <td>NO</td>\n",
       "      <td>...</td>\n",
       "      <td>NO</td>\n",
       "      <td>NO</td>\n",
       "      <td>NO</td>\n",
       "      <td>NO</td>\n",
       "      <td>NO</td>\n",
       "      <td>NO</td>\n",
       "      <td>NO</td>\n",
       "      <td>NO</td>\n",
       "      <td>NO</td>\n",
       "      <td>NEGATIVE</td>\n",
       "    </tr>\n",
       "  </tbody>\n",
       "</table>\n",
       "<p>5 rows × 29 columns</p>\n",
       "</div>"
      ],
      "text/plain": [
       "  Age Sex SYMPTOMATIC Travel_History Contact_With_Infected Fever  \\\n",
       "0  48   F          NO             NO                    NO    NO   \n",
       "1  16   M          NO             NO                    NO   YES   \n",
       "2  63   F         YES             NO                    NO    NO   \n",
       "3  39   M          NO             NO                    NO    NO   \n",
       "4  40   F          NO             NO                    NO  36.5   \n",
       "\n",
       "  Subjective_Fever Chills Muscle_Ache Runny_Nose  ... Cardiovascular  \\\n",
       "0              YES     NO         YES         NO  ...             NO   \n",
       "1              YES     NO          NO        YES  ...             NO   \n",
       "2               NO     NO          NO         NO  ...            YES   \n",
       "3               NO     NO          NO         NO  ...             NO   \n",
       "4               NO     NO          NO         NO  ...             NO   \n",
       "\n",
       "  Chronic_Renal_Disease Chronic_Liver_Disease Immunocompromised_Condition  \\\n",
       "0                    NO                    NO                          NO   \n",
       "1                    NO                    NO                          NO   \n",
       "2                    NO                    NO                          NO   \n",
       "3                    NO                    NO                          NO   \n",
       "4                    NO                    NO                          NO   \n",
       "\n",
       "  Neurological_Neurodevelopment Other_Chronic_Condition  \\\n",
       "0                            NO                      NO   \n",
       "1                            NO                      NO   \n",
       "2                            NO                      NO   \n",
       "3                            NO                      NO   \n",
       "4                            NO                      NO   \n",
       "\n",
       "  Is_Currently_Pregrant_Female Current_Smoker Former_Smoker   Outcome  \n",
       "0                           NO             NO            NO  NEGATIVE  \n",
       "1                           NO             NO            NO  NEGATIVE  \n",
       "2                           NO             NO            NO  POSITIVE  \n",
       "3                           NO             NO            NO  NEGATIVE  \n",
       "4                           NO             NO            NO  NEGATIVE  \n",
       "\n",
       "[5 rows x 29 columns]"
      ]
     },
     "execution_count": 24,
     "metadata": {},
     "output_type": "execute_result"
    }
   ],
   "source": [
    "df.head()"
   ]
  },
  {
   "cell_type": "code",
   "execution_count": 25,
   "metadata": {},
   "outputs": [],
   "source": [
    "to_num = {\n",
    "    \"Sex\": {\"F\": 0, \"M\":1},\n",
    "    \"Travel_History\": {\"NO\": 0, \"YES\":1},\n",
    "    \"Contact_With_Infected\": {\"NO\": 0, \"YES\":1}, \n",
    "    \"Fever\": {\"NO\": 0, \"YES\":1}, \n",
    "    \"Subjective_Fever\": {\"NO\": 0, \"YES\":1},\n",
    "    \"Chills\": {\"NO\": 0, \"YES\":1},\n",
    "    \"Muscle_Ache\": {\"NO\": 0, \"YES\":1}, \n",
    "    \"Runny_Nose\": {\"NO\": 0, \"YES\":1}, \n",
    "    \"Sore_throat\": {\"NO\": 0, \"YES\":1}, \n",
    "    \"Cough\": {\"NO\": 0, \"YES\":1}, \n",
    "    \"Shortness_Of_Breath\": {\"NO\": 0, \"YES\":1}, \n",
    "    \"Nausea\": {\"NO\": 0, \"YES\":1}, \n",
    "    \"Headache\": {\"NO\": 0, \"YES\":1}, \n",
    "    \"Abdominal_Pain\": {\"NO\": 0, \"YES\":1}, \n",
    "    \"Diarrhea\": {\"NO\": 0, \"YES\":1}, \n",
    "    \"Chronic_Lung_Disease\": {\"NO\": 0, \"YES\":1}, \n",
    "    \"Diabetes_Mellitus\": {\"NO\": 0, \"YES\":1}, \n",
    "    \"Cardiovascular\": {\"NO\": 0, \"YES\":1}, \n",
    "    \"Chronic_Renal_Disease\": {\"NO\": 0, \"YES\":1}, \n",
    "    \"Chronic_Liver_Disease\": {\"NO\": 0, \"YES\":1}, \n",
    "    \"Immunocompromised_Condition\": {\"NO\": 0, \"YES\":1}, \n",
    "    \"Neurological_Neurodevelopment\": {\"NO\": 0, \"YES\":1}, \n",
    "    \"Other_Chronic_Condition\": {\"NO\": 0, \"YES\":1}, \n",
    "    \"Is_Currently_Pregrant_Female\": {\"NO\": 0, \"YES\":1}, \n",
    "    \"Current_Smoker\": {\"NO\": 0, \"YES\":1}, \n",
    "    \"Former_Smoker\": {\"NO\": 0, \"YES\":1}, \n",
    "    \"Outcome\": {\"NEGATIVE\": 0, \"POSITIVE\":1}  \n",
    "}\n",
    "df = df.replace(to_num)"
   ]
  },
  {
   "cell_type": "code",
   "execution_count": 30,
   "metadata": {},
   "outputs": [
    {
     "data": {
      "text/html": [
       "<div>\n",
       "<style scoped>\n",
       "    .dataframe tbody tr th:only-of-type {\n",
       "        vertical-align: middle;\n",
       "    }\n",
       "\n",
       "    .dataframe tbody tr th {\n",
       "        vertical-align: top;\n",
       "    }\n",
       "\n",
       "    .dataframe thead th {\n",
       "        text-align: right;\n",
       "    }\n",
       "</style>\n",
       "<table border=\"1\" class=\"dataframe\">\n",
       "  <thead>\n",
       "    <tr style=\"text-align: right;\">\n",
       "      <th></th>\n",
       "      <th>Age</th>\n",
       "      <th>Sex</th>\n",
       "      <th>SYMPTOMATIC</th>\n",
       "      <th>Travel_History</th>\n",
       "      <th>Contact_With_Infected</th>\n",
       "      <th>Fever</th>\n",
       "      <th>Subjective_Fever</th>\n",
       "      <th>Chills</th>\n",
       "      <th>Muscle_Ache</th>\n",
       "      <th>Runny_Nose</th>\n",
       "      <th>...</th>\n",
       "      <th>Cardiovascular</th>\n",
       "      <th>Chronic_Renal_Disease</th>\n",
       "      <th>Chronic_Liver_Disease</th>\n",
       "      <th>Immunocompromised_Condition</th>\n",
       "      <th>Neurological_Neurodevelopment</th>\n",
       "      <th>Other_Chronic_Condition</th>\n",
       "      <th>Is_Currently_Pregrant_Female</th>\n",
       "      <th>Current_Smoker</th>\n",
       "      <th>Former_Smoker</th>\n",
       "      <th>Outcome</th>\n",
       "    </tr>\n",
       "  </thead>\n",
       "  <tbody>\n",
       "    <tr>\n",
       "      <th>0</th>\n",
       "      <td>48</td>\n",
       "      <td>0.0</td>\n",
       "      <td>NO</td>\n",
       "      <td>0.0</td>\n",
       "      <td>0</td>\n",
       "      <td>0.0</td>\n",
       "      <td>1.0</td>\n",
       "      <td>0.0</td>\n",
       "      <td>1.0</td>\n",
       "      <td>0.0</td>\n",
       "      <td>...</td>\n",
       "      <td>0.0</td>\n",
       "      <td>0.0</td>\n",
       "      <td>0.0</td>\n",
       "      <td>0.0</td>\n",
       "      <td>0.0</td>\n",
       "      <td>0</td>\n",
       "      <td>0.0</td>\n",
       "      <td>0.0</td>\n",
       "      <td>0.0</td>\n",
       "      <td>0.0</td>\n",
       "    </tr>\n",
       "    <tr>\n",
       "      <th>1</th>\n",
       "      <td>16</td>\n",
       "      <td>1.0</td>\n",
       "      <td>NO</td>\n",
       "      <td>0.0</td>\n",
       "      <td>0</td>\n",
       "      <td>1.0</td>\n",
       "      <td>1.0</td>\n",
       "      <td>0.0</td>\n",
       "      <td>0.0</td>\n",
       "      <td>1.0</td>\n",
       "      <td>...</td>\n",
       "      <td>0.0</td>\n",
       "      <td>0.0</td>\n",
       "      <td>0.0</td>\n",
       "      <td>0.0</td>\n",
       "      <td>0.0</td>\n",
       "      <td>0</td>\n",
       "      <td>0.0</td>\n",
       "      <td>0.0</td>\n",
       "      <td>0.0</td>\n",
       "      <td>0.0</td>\n",
       "    </tr>\n",
       "    <tr>\n",
       "      <th>2</th>\n",
       "      <td>63</td>\n",
       "      <td>0.0</td>\n",
       "      <td>YES</td>\n",
       "      <td>0.0</td>\n",
       "      <td>0</td>\n",
       "      <td>0.0</td>\n",
       "      <td>0.0</td>\n",
       "      <td>0.0</td>\n",
       "      <td>0.0</td>\n",
       "      <td>0.0</td>\n",
       "      <td>...</td>\n",
       "      <td>1.0</td>\n",
       "      <td>0.0</td>\n",
       "      <td>0.0</td>\n",
       "      <td>0.0</td>\n",
       "      <td>0.0</td>\n",
       "      <td>0</td>\n",
       "      <td>0.0</td>\n",
       "      <td>0.0</td>\n",
       "      <td>0.0</td>\n",
       "      <td>1.0</td>\n",
       "    </tr>\n",
       "    <tr>\n",
       "      <th>3</th>\n",
       "      <td>39</td>\n",
       "      <td>1.0</td>\n",
       "      <td>NO</td>\n",
       "      <td>0.0</td>\n",
       "      <td>0</td>\n",
       "      <td>0.0</td>\n",
       "      <td>0.0</td>\n",
       "      <td>0.0</td>\n",
       "      <td>0.0</td>\n",
       "      <td>0.0</td>\n",
       "      <td>...</td>\n",
       "      <td>0.0</td>\n",
       "      <td>0.0</td>\n",
       "      <td>0.0</td>\n",
       "      <td>0.0</td>\n",
       "      <td>0.0</td>\n",
       "      <td>0</td>\n",
       "      <td>0.0</td>\n",
       "      <td>0.0</td>\n",
       "      <td>0.0</td>\n",
       "      <td>0.0</td>\n",
       "    </tr>\n",
       "    <tr>\n",
       "      <th>4</th>\n",
       "      <td>40</td>\n",
       "      <td>0.0</td>\n",
       "      <td>NO</td>\n",
       "      <td>0.0</td>\n",
       "      <td>0</td>\n",
       "      <td>36.5</td>\n",
       "      <td>0.0</td>\n",
       "      <td>0.0</td>\n",
       "      <td>0.0</td>\n",
       "      <td>0.0</td>\n",
       "      <td>...</td>\n",
       "      <td>0.0</td>\n",
       "      <td>0.0</td>\n",
       "      <td>0.0</td>\n",
       "      <td>0.0</td>\n",
       "      <td>0.0</td>\n",
       "      <td>0</td>\n",
       "      <td>0.0</td>\n",
       "      <td>0.0</td>\n",
       "      <td>0.0</td>\n",
       "      <td>0.0</td>\n",
       "    </tr>\n",
       "    <tr>\n",
       "      <th>...</th>\n",
       "      <td>...</td>\n",
       "      <td>...</td>\n",
       "      <td>...</td>\n",
       "      <td>...</td>\n",
       "      <td>...</td>\n",
       "      <td>...</td>\n",
       "      <td>...</td>\n",
       "      <td>...</td>\n",
       "      <td>...</td>\n",
       "      <td>...</td>\n",
       "      <td>...</td>\n",
       "      <td>...</td>\n",
       "      <td>...</td>\n",
       "      <td>...</td>\n",
       "      <td>...</td>\n",
       "      <td>...</td>\n",
       "      <td>...</td>\n",
       "      <td>...</td>\n",
       "      <td>...</td>\n",
       "      <td>...</td>\n",
       "      <td>...</td>\n",
       "    </tr>\n",
       "    <tr>\n",
       "      <th>3382</th>\n",
       "      <td>27</td>\n",
       "      <td>0.0</td>\n",
       "      <td>NO</td>\n",
       "      <td>0.0</td>\n",
       "      <td>0</td>\n",
       "      <td>36.5</td>\n",
       "      <td>0.0</td>\n",
       "      <td>0.0</td>\n",
       "      <td>0.0</td>\n",
       "      <td>0.0</td>\n",
       "      <td>...</td>\n",
       "      <td>0.0</td>\n",
       "      <td>0.0</td>\n",
       "      <td>0.0</td>\n",
       "      <td>0.0</td>\n",
       "      <td>0.0</td>\n",
       "      <td>0</td>\n",
       "      <td>0.0</td>\n",
       "      <td>0.0</td>\n",
       "      <td>0.0</td>\n",
       "      <td>1.0</td>\n",
       "    </tr>\n",
       "    <tr>\n",
       "      <th>3386</th>\n",
       "      <td>56</td>\n",
       "      <td>0.0</td>\n",
       "      <td>NO</td>\n",
       "      <td>0.0</td>\n",
       "      <td>0</td>\n",
       "      <td>36.5</td>\n",
       "      <td>0.0</td>\n",
       "      <td>0.0</td>\n",
       "      <td>0.0</td>\n",
       "      <td>0.0</td>\n",
       "      <td>...</td>\n",
       "      <td>0.0</td>\n",
       "      <td>0.0</td>\n",
       "      <td>0.0</td>\n",
       "      <td>0.0</td>\n",
       "      <td>0.0</td>\n",
       "      <td>0</td>\n",
       "      <td>0.0</td>\n",
       "      <td>0.0</td>\n",
       "      <td>0.0</td>\n",
       "      <td>0.0</td>\n",
       "    </tr>\n",
       "    <tr>\n",
       "      <th>3387</th>\n",
       "      <td>61</td>\n",
       "      <td>1.0</td>\n",
       "      <td>NO</td>\n",
       "      <td>0.0</td>\n",
       "      <td>0</td>\n",
       "      <td>36.5</td>\n",
       "      <td>0.0</td>\n",
       "      <td>0.0</td>\n",
       "      <td>0.0</td>\n",
       "      <td>0.0</td>\n",
       "      <td>...</td>\n",
       "      <td>0.0</td>\n",
       "      <td>0.0</td>\n",
       "      <td>0.0</td>\n",
       "      <td>0.0</td>\n",
       "      <td>0.0</td>\n",
       "      <td>0</td>\n",
       "      <td>0.0</td>\n",
       "      <td>0.0</td>\n",
       "      <td>0.0</td>\n",
       "      <td>0.0</td>\n",
       "    </tr>\n",
       "    <tr>\n",
       "      <th>3404</th>\n",
       "      <td>51</td>\n",
       "      <td>1.0</td>\n",
       "      <td>YES</td>\n",
       "      <td>0.0</td>\n",
       "      <td>0</td>\n",
       "      <td>35.8</td>\n",
       "      <td>1.0</td>\n",
       "      <td>0.0</td>\n",
       "      <td>0.0</td>\n",
       "      <td>0.0</td>\n",
       "      <td>...</td>\n",
       "      <td>0.0</td>\n",
       "      <td>0.0</td>\n",
       "      <td>0.0</td>\n",
       "      <td>0.0</td>\n",
       "      <td>0.0</td>\n",
       "      <td>0</td>\n",
       "      <td>0.0</td>\n",
       "      <td>0.0</td>\n",
       "      <td>0.0</td>\n",
       "      <td>1.0</td>\n",
       "    </tr>\n",
       "    <tr>\n",
       "      <th>3410</th>\n",
       "      <td>19</td>\n",
       "      <td>1.0</td>\n",
       "      <td>NO</td>\n",
       "      <td>0.0</td>\n",
       "      <td>0</td>\n",
       "      <td>35.3</td>\n",
       "      <td>0.0</td>\n",
       "      <td>0.0</td>\n",
       "      <td>0.0</td>\n",
       "      <td>0.0</td>\n",
       "      <td>...</td>\n",
       "      <td>0.0</td>\n",
       "      <td>0.0</td>\n",
       "      <td>0.0</td>\n",
       "      <td>0.0</td>\n",
       "      <td>0.0</td>\n",
       "      <td>0</td>\n",
       "      <td>0.0</td>\n",
       "      <td>0.0</td>\n",
       "      <td>0.0</td>\n",
       "      <td>1.0</td>\n",
       "    </tr>\n",
       "  </tbody>\n",
       "</table>\n",
       "<p>784 rows × 29 columns</p>\n",
       "</div>"
      ],
      "text/plain": [
       "     Age  Sex SYMPTOMATIC  Travel_History Contact_With_Infected  Fever  \\\n",
       "0     48  0.0          NO             0.0                     0    0.0   \n",
       "1     16  1.0          NO             0.0                     0    1.0   \n",
       "2     63  0.0         YES             0.0                     0    0.0   \n",
       "3     39  1.0          NO             0.0                     0    0.0   \n",
       "4     40  0.0          NO             0.0                     0   36.5   \n",
       "...   ..  ...         ...             ...                   ...    ...   \n",
       "3382  27  0.0          NO             0.0                     0   36.5   \n",
       "3386  56  0.0          NO             0.0                     0   36.5   \n",
       "3387  61  1.0          NO             0.0                     0   36.5   \n",
       "3404  51  1.0         YES             0.0                     0   35.8   \n",
       "3410  19  1.0          NO             0.0                     0   35.3   \n",
       "\n",
       "      Subjective_Fever  Chills  Muscle_Ache  Runny_Nose  ...  Cardiovascular  \\\n",
       "0                  1.0     0.0          1.0         0.0  ...             0.0   \n",
       "1                  1.0     0.0          0.0         1.0  ...             0.0   \n",
       "2                  0.0     0.0          0.0         0.0  ...             1.0   \n",
       "3                  0.0     0.0          0.0         0.0  ...             0.0   \n",
       "4                  0.0     0.0          0.0         0.0  ...             0.0   \n",
       "...                ...     ...          ...         ...  ...             ...   \n",
       "3382               0.0     0.0          0.0         0.0  ...             0.0   \n",
       "3386               0.0     0.0          0.0         0.0  ...             0.0   \n",
       "3387               0.0     0.0          0.0         0.0  ...             0.0   \n",
       "3404               1.0     0.0          0.0         0.0  ...             0.0   \n",
       "3410               0.0     0.0          0.0         0.0  ...             0.0   \n",
       "\n",
       "      Chronic_Renal_Disease  Chronic_Liver_Disease  \\\n",
       "0                       0.0                    0.0   \n",
       "1                       0.0                    0.0   \n",
       "2                       0.0                    0.0   \n",
       "3                       0.0                    0.0   \n",
       "4                       0.0                    0.0   \n",
       "...                     ...                    ...   \n",
       "3382                    0.0                    0.0   \n",
       "3386                    0.0                    0.0   \n",
       "3387                    0.0                    0.0   \n",
       "3404                    0.0                    0.0   \n",
       "3410                    0.0                    0.0   \n",
       "\n",
       "      Immunocompromised_Condition  Neurological_Neurodevelopment  \\\n",
       "0                             0.0                            0.0   \n",
       "1                             0.0                            0.0   \n",
       "2                             0.0                            0.0   \n",
       "3                             0.0                            0.0   \n",
       "4                             0.0                            0.0   \n",
       "...                           ...                            ...   \n",
       "3382                          0.0                            0.0   \n",
       "3386                          0.0                            0.0   \n",
       "3387                          0.0                            0.0   \n",
       "3404                          0.0                            0.0   \n",
       "3410                          0.0                            0.0   \n",
       "\n",
       "      Other_Chronic_Condition  Is_Currently_Pregrant_Female  Current_Smoker  \\\n",
       "0                           0                           0.0             0.0   \n",
       "1                           0                           0.0             0.0   \n",
       "2                           0                           0.0             0.0   \n",
       "3                           0                           0.0             0.0   \n",
       "4                           0                           0.0             0.0   \n",
       "...                       ...                           ...             ...   \n",
       "3382                        0                           0.0             0.0   \n",
       "3386                        0                           0.0             0.0   \n",
       "3387                        0                           0.0             0.0   \n",
       "3404                        0                           0.0             0.0   \n",
       "3410                        0                           0.0             0.0   \n",
       "\n",
       "      Former_Smoker  Outcome  \n",
       "0               0.0      0.0  \n",
       "1               0.0      0.0  \n",
       "2               0.0      1.0  \n",
       "3               0.0      0.0  \n",
       "4               0.0      0.0  \n",
       "...             ...      ...  \n",
       "3382            0.0      1.0  \n",
       "3386            0.0      0.0  \n",
       "3387            0.0      0.0  \n",
       "3404            0.0      1.0  \n",
       "3410            0.0      1.0  \n",
       "\n",
       "[784 rows x 29 columns]"
      ]
     },
     "execution_count": 30,
     "metadata": {},
     "output_type": "execute_result"
    }
   ],
   "source": [
    "df.dropna(inplace=True)\n",
    "df\n"
   ]
  },
  {
   "cell_type": "code",
   "execution_count": 72,
   "metadata": {},
   "outputs": [],
   "source": [
    "df2 = pd.read_excel(\"./data/temview.xlsx\")\n",
    "df2 = df2.iloc[: , 1:]\n",
    "df2.rename(columns={\"SYMPTOMATIC\": \"Symptomatic\"}, inplace=True)\n",
    "df2.replace({\"Symptomatic\": {\"NO\": 0, \"YES\": 1}}, inplace=True)"
   ]
  },
  {
   "cell_type": "code",
   "execution_count": 64,
   "metadata": {},
   "outputs": [
    {
     "data": {
      "text/html": [
       "<div>\n",
       "<style scoped>\n",
       "    .dataframe tbody tr th:only-of-type {\n",
       "        vertical-align: middle;\n",
       "    }\n",
       "\n",
       "    .dataframe tbody tr th {\n",
       "        vertical-align: top;\n",
       "    }\n",
       "\n",
       "    .dataframe thead th {\n",
       "        text-align: right;\n",
       "    }\n",
       "</style>\n",
       "<table border=\"1\" class=\"dataframe\">\n",
       "  <thead>\n",
       "    <tr style=\"text-align: right;\">\n",
       "      <th></th>\n",
       "      <th>Age</th>\n",
       "      <th>Sex</th>\n",
       "      <th>Travel_History</th>\n",
       "      <th>Contact_With_Infected</th>\n",
       "      <th>Fever</th>\n",
       "      <th>Subjective_Fever</th>\n",
       "      <th>Chills</th>\n",
       "      <th>Muscle_Ache</th>\n",
       "      <th>Runny_Nose</th>\n",
       "      <th>Sore_throat</th>\n",
       "      <th>...</th>\n",
       "      <th>Cardiovascular</th>\n",
       "      <th>Chronic_Renal_Disease</th>\n",
       "      <th>Chronic_Liver_Disease</th>\n",
       "      <th>Immunocompromised_Condition</th>\n",
       "      <th>Neurological_Neurodevelopment</th>\n",
       "      <th>Other_Chronic_Condition</th>\n",
       "      <th>Is_Currently_Pregrant_Female</th>\n",
       "      <th>Current_Smoker</th>\n",
       "      <th>Former_Smoker</th>\n",
       "      <th>Outcome</th>\n",
       "    </tr>\n",
       "  </thead>\n",
       "  <tbody>\n",
       "    <tr>\n",
       "      <th>Age</th>\n",
       "      <td>1.000000</td>\n",
       "      <td>0.170724</td>\n",
       "      <td>NaN</td>\n",
       "      <td>NaN</td>\n",
       "      <td>0.049489</td>\n",
       "      <td>0.084889</td>\n",
       "      <td>0.056295</td>\n",
       "      <td>0.059882</td>\n",
       "      <td>0.018932</td>\n",
       "      <td>0.045134</td>\n",
       "      <td>...</td>\n",
       "      <td>0.072510</td>\n",
       "      <td>0.074960</td>\n",
       "      <td>NaN</td>\n",
       "      <td>NaN</td>\n",
       "      <td>NaN</td>\n",
       "      <td>NaN</td>\n",
       "      <td>NaN</td>\n",
       "      <td>NaN</td>\n",
       "      <td>NaN</td>\n",
       "      <td>0.042836</td>\n",
       "    </tr>\n",
       "    <tr>\n",
       "      <th>Sex</th>\n",
       "      <td>0.170724</td>\n",
       "      <td>1.000000</td>\n",
       "      <td>NaN</td>\n",
       "      <td>NaN</td>\n",
       "      <td>0.026877</td>\n",
       "      <td>0.036366</td>\n",
       "      <td>0.040782</td>\n",
       "      <td>0.001318</td>\n",
       "      <td>-0.026600</td>\n",
       "      <td>0.026877</td>\n",
       "      <td>...</td>\n",
       "      <td>-0.096023</td>\n",
       "      <td>0.028814</td>\n",
       "      <td>NaN</td>\n",
       "      <td>NaN</td>\n",
       "      <td>NaN</td>\n",
       "      <td>NaN</td>\n",
       "      <td>NaN</td>\n",
       "      <td>NaN</td>\n",
       "      <td>NaN</td>\n",
       "      <td>-0.120738</td>\n",
       "    </tr>\n",
       "    <tr>\n",
       "      <th>Travel_History</th>\n",
       "      <td>NaN</td>\n",
       "      <td>NaN</td>\n",
       "      <td>NaN</td>\n",
       "      <td>NaN</td>\n",
       "      <td>NaN</td>\n",
       "      <td>NaN</td>\n",
       "      <td>NaN</td>\n",
       "      <td>NaN</td>\n",
       "      <td>NaN</td>\n",
       "      <td>NaN</td>\n",
       "      <td>...</td>\n",
       "      <td>NaN</td>\n",
       "      <td>NaN</td>\n",
       "      <td>NaN</td>\n",
       "      <td>NaN</td>\n",
       "      <td>NaN</td>\n",
       "      <td>NaN</td>\n",
       "      <td>NaN</td>\n",
       "      <td>NaN</td>\n",
       "      <td>NaN</td>\n",
       "      <td>NaN</td>\n",
       "    </tr>\n",
       "    <tr>\n",
       "      <th>Contact_With_Infected</th>\n",
       "      <td>NaN</td>\n",
       "      <td>NaN</td>\n",
       "      <td>NaN</td>\n",
       "      <td>NaN</td>\n",
       "      <td>NaN</td>\n",
       "      <td>NaN</td>\n",
       "      <td>NaN</td>\n",
       "      <td>NaN</td>\n",
       "      <td>NaN</td>\n",
       "      <td>NaN</td>\n",
       "      <td>...</td>\n",
       "      <td>NaN</td>\n",
       "      <td>NaN</td>\n",
       "      <td>NaN</td>\n",
       "      <td>NaN</td>\n",
       "      <td>NaN</td>\n",
       "      <td>NaN</td>\n",
       "      <td>NaN</td>\n",
       "      <td>NaN</td>\n",
       "      <td>NaN</td>\n",
       "      <td>NaN</td>\n",
       "    </tr>\n",
       "    <tr>\n",
       "      <th>Fever</th>\n",
       "      <td>0.049489</td>\n",
       "      <td>0.026877</td>\n",
       "      <td>NaN</td>\n",
       "      <td>NaN</td>\n",
       "      <td>1.000000</td>\n",
       "      <td>0.543763</td>\n",
       "      <td>0.630938</td>\n",
       "      <td>0.253648</td>\n",
       "      <td>0.668490</td>\n",
       "      <td>0.395185</td>\n",
       "      <td>...</td>\n",
       "      <td>-0.006207</td>\n",
       "      <td>-0.003578</td>\n",
       "      <td>NaN</td>\n",
       "      <td>NaN</td>\n",
       "      <td>NaN</td>\n",
       "      <td>NaN</td>\n",
       "      <td>NaN</td>\n",
       "      <td>NaN</td>\n",
       "      <td>NaN</td>\n",
       "      <td>-0.018020</td>\n",
       "    </tr>\n",
       "    <tr>\n",
       "      <th>Subjective_Fever</th>\n",
       "      <td>0.084889</td>\n",
       "      <td>0.036366</td>\n",
       "      <td>NaN</td>\n",
       "      <td>NaN</td>\n",
       "      <td>0.543763</td>\n",
       "      <td>1.000000</td>\n",
       "      <td>0.284976</td>\n",
       "      <td>0.705408</td>\n",
       "      <td>0.403662</td>\n",
       "      <td>0.359576</td>\n",
       "      <td>...</td>\n",
       "      <td>-0.006805</td>\n",
       "      <td>0.406617</td>\n",
       "      <td>NaN</td>\n",
       "      <td>NaN</td>\n",
       "      <td>NaN</td>\n",
       "      <td>NaN</td>\n",
       "      <td>NaN</td>\n",
       "      <td>NaN</td>\n",
       "      <td>NaN</td>\n",
       "      <td>0.009063</td>\n",
       "    </tr>\n",
       "    <tr>\n",
       "      <th>Chills</th>\n",
       "      <td>0.056295</td>\n",
       "      <td>0.040782</td>\n",
       "      <td>NaN</td>\n",
       "      <td>NaN</td>\n",
       "      <td>0.630938</td>\n",
       "      <td>0.284976</td>\n",
       "      <td>1.000000</td>\n",
       "      <td>0.405964</td>\n",
       "      <td>0.350725</td>\n",
       "      <td>0.312937</td>\n",
       "      <td>...</td>\n",
       "      <td>-0.003916</td>\n",
       "      <td>-0.002257</td>\n",
       "      <td>NaN</td>\n",
       "      <td>NaN</td>\n",
       "      <td>NaN</td>\n",
       "      <td>NaN</td>\n",
       "      <td>NaN</td>\n",
       "      <td>NaN</td>\n",
       "      <td>NaN</td>\n",
       "      <td>-0.036247</td>\n",
       "    </tr>\n",
       "    <tr>\n",
       "      <th>Muscle_Ache</th>\n",
       "      <td>0.059882</td>\n",
       "      <td>0.001318</td>\n",
       "      <td>NaN</td>\n",
       "      <td>NaN</td>\n",
       "      <td>0.253648</td>\n",
       "      <td>0.705408</td>\n",
       "      <td>0.405964</td>\n",
       "      <td>1.000000</td>\n",
       "      <td>0.284746</td>\n",
       "      <td>0.513502</td>\n",
       "      <td>...</td>\n",
       "      <td>-0.004800</td>\n",
       "      <td>-0.002767</td>\n",
       "      <td>NaN</td>\n",
       "      <td>NaN</td>\n",
       "      <td>NaN</td>\n",
       "      <td>NaN</td>\n",
       "      <td>NaN</td>\n",
       "      <td>NaN</td>\n",
       "      <td>NaN</td>\n",
       "      <td>0.006393</td>\n",
       "    </tr>\n",
       "    <tr>\n",
       "      <th>Runny_Nose</th>\n",
       "      <td>0.018932</td>\n",
       "      <td>-0.026600</td>\n",
       "      <td>NaN</td>\n",
       "      <td>NaN</td>\n",
       "      <td>0.668490</td>\n",
       "      <td>0.403662</td>\n",
       "      <td>0.350725</td>\n",
       "      <td>0.284746</td>\n",
       "      <td>1.000000</td>\n",
       "      <td>0.443269</td>\n",
       "      <td>...</td>\n",
       "      <td>-0.005547</td>\n",
       "      <td>-0.003197</td>\n",
       "      <td>NaN</td>\n",
       "      <td>NaN</td>\n",
       "      <td>NaN</td>\n",
       "      <td>NaN</td>\n",
       "      <td>NaN</td>\n",
       "      <td>NaN</td>\n",
       "      <td>NaN</td>\n",
       "      <td>-0.051343</td>\n",
       "    </tr>\n",
       "    <tr>\n",
       "      <th>Sore_throat</th>\n",
       "      <td>0.045134</td>\n",
       "      <td>0.026877</td>\n",
       "      <td>NaN</td>\n",
       "      <td>NaN</td>\n",
       "      <td>0.395185</td>\n",
       "      <td>0.359576</td>\n",
       "      <td>0.312937</td>\n",
       "      <td>0.513502</td>\n",
       "      <td>0.443269</td>\n",
       "      <td>1.000000</td>\n",
       "      <td>...</td>\n",
       "      <td>-0.006207</td>\n",
       "      <td>-0.003578</td>\n",
       "      <td>NaN</td>\n",
       "      <td>NaN</td>\n",
       "      <td>NaN</td>\n",
       "      <td>NaN</td>\n",
       "      <td>NaN</td>\n",
       "      <td>NaN</td>\n",
       "      <td>NaN</td>\n",
       "      <td>0.021410</td>\n",
       "    </tr>\n",
       "    <tr>\n",
       "      <th>Cough</th>\n",
       "      <td>0.083054</td>\n",
       "      <td>-0.110650</td>\n",
       "      <td>NaN</td>\n",
       "      <td>NaN</td>\n",
       "      <td>0.139950</td>\n",
       "      <td>0.125885</td>\n",
       "      <td>0.230973</td>\n",
       "      <td>0.185955</td>\n",
       "      <td>0.327168</td>\n",
       "      <td>0.290702</td>\n",
       "      <td>...</td>\n",
       "      <td>0.185955</td>\n",
       "      <td>-0.004816</td>\n",
       "      <td>NaN</td>\n",
       "      <td>NaN</td>\n",
       "      <td>NaN</td>\n",
       "      <td>NaN</td>\n",
       "      <td>NaN</td>\n",
       "      <td>NaN</td>\n",
       "      <td>NaN</td>\n",
       "      <td>0.011127</td>\n",
       "    </tr>\n",
       "    <tr>\n",
       "      <th>Shortness_Of_Breath</th>\n",
       "      <td>0.079526</td>\n",
       "      <td>0.001318</td>\n",
       "      <td>NaN</td>\n",
       "      <td>NaN</td>\n",
       "      <td>0.513502</td>\n",
       "      <td>0.230600</td>\n",
       "      <td>0.815844</td>\n",
       "      <td>0.330133</td>\n",
       "      <td>0.284746</td>\n",
       "      <td>0.253648</td>\n",
       "      <td>...</td>\n",
       "      <td>0.330133</td>\n",
       "      <td>-0.002767</td>\n",
       "      <td>NaN</td>\n",
       "      <td>NaN</td>\n",
       "      <td>NaN</td>\n",
       "      <td>NaN</td>\n",
       "      <td>NaN</td>\n",
       "      <td>NaN</td>\n",
       "      <td>NaN</td>\n",
       "      <td>0.006393</td>\n",
       "    </tr>\n",
       "    <tr>\n",
       "      <th>Nausea</th>\n",
       "      <td>0.076720</td>\n",
       "      <td>0.049988</td>\n",
       "      <td>NaN</td>\n",
       "      <td>NaN</td>\n",
       "      <td>0.513502</td>\n",
       "      <td>0.468004</td>\n",
       "      <td>0.405964</td>\n",
       "      <td>-0.004800</td>\n",
       "      <td>-0.005547</td>\n",
       "      <td>-0.006207</td>\n",
       "      <td>...</td>\n",
       "      <td>-0.004800</td>\n",
       "      <td>0.576429</td>\n",
       "      <td>NaN</td>\n",
       "      <td>NaN</td>\n",
       "      <td>NaN</td>\n",
       "      <td>NaN</td>\n",
       "      <td>NaN</td>\n",
       "      <td>NaN</td>\n",
       "      <td>NaN</td>\n",
       "      <td>0.006393</td>\n",
       "    </tr>\n",
       "    <tr>\n",
       "      <th>Headache</th>\n",
       "      <td>0.062688</td>\n",
       "      <td>-0.047353</td>\n",
       "      <td>NaN</td>\n",
       "      <td>NaN</td>\n",
       "      <td>0.513502</td>\n",
       "      <td>0.468004</td>\n",
       "      <td>-0.003916</td>\n",
       "      <td>0.330133</td>\n",
       "      <td>0.284746</td>\n",
       "      <td>0.253648</td>\n",
       "      <td>...</td>\n",
       "      <td>-0.004800</td>\n",
       "      <td>-0.002767</td>\n",
       "      <td>NaN</td>\n",
       "      <td>NaN</td>\n",
       "      <td>NaN</td>\n",
       "      <td>NaN</td>\n",
       "      <td>NaN</td>\n",
       "      <td>NaN</td>\n",
       "      <td>NaN</td>\n",
       "      <td>0.006393</td>\n",
       "    </tr>\n",
       "    <tr>\n",
       "      <th>Abdominal_Pain</th>\n",
       "      <td>NaN</td>\n",
       "      <td>NaN</td>\n",
       "      <td>NaN</td>\n",
       "      <td>NaN</td>\n",
       "      <td>NaN</td>\n",
       "      <td>NaN</td>\n",
       "      <td>NaN</td>\n",
       "      <td>NaN</td>\n",
       "      <td>NaN</td>\n",
       "      <td>NaN</td>\n",
       "      <td>...</td>\n",
       "      <td>NaN</td>\n",
       "      <td>NaN</td>\n",
       "      <td>NaN</td>\n",
       "      <td>NaN</td>\n",
       "      <td>NaN</td>\n",
       "      <td>NaN</td>\n",
       "      <td>NaN</td>\n",
       "      <td>NaN</td>\n",
       "      <td>NaN</td>\n",
       "      <td>NaN</td>\n",
       "    </tr>\n",
       "    <tr>\n",
       "      <th>Diarrhea</th>\n",
       "      <td>-0.056073</td>\n",
       "      <td>0.028814</td>\n",
       "      <td>NaN</td>\n",
       "      <td>NaN</td>\n",
       "      <td>0.445785</td>\n",
       "      <td>0.406617</td>\n",
       "      <td>-0.002257</td>\n",
       "      <td>-0.002767</td>\n",
       "      <td>0.498802</td>\n",
       "      <td>-0.003578</td>\n",
       "      <td>...</td>\n",
       "      <td>-0.002767</td>\n",
       "      <td>-0.001595</td>\n",
       "      <td>NaN</td>\n",
       "      <td>NaN</td>\n",
       "      <td>NaN</td>\n",
       "      <td>NaN</td>\n",
       "      <td>NaN</td>\n",
       "      <td>NaN</td>\n",
       "      <td>NaN</td>\n",
       "      <td>-0.025610</td>\n",
       "    </tr>\n",
       "    <tr>\n",
       "      <th>Chronic_Lung_Disease</th>\n",
       "      <td>NaN</td>\n",
       "      <td>NaN</td>\n",
       "      <td>NaN</td>\n",
       "      <td>NaN</td>\n",
       "      <td>NaN</td>\n",
       "      <td>NaN</td>\n",
       "      <td>NaN</td>\n",
       "      <td>NaN</td>\n",
       "      <td>NaN</td>\n",
       "      <td>NaN</td>\n",
       "      <td>...</td>\n",
       "      <td>NaN</td>\n",
       "      <td>NaN</td>\n",
       "      <td>NaN</td>\n",
       "      <td>NaN</td>\n",
       "      <td>NaN</td>\n",
       "      <td>NaN</td>\n",
       "      <td>NaN</td>\n",
       "      <td>NaN</td>\n",
       "      <td>NaN</td>\n",
       "      <td>NaN</td>\n",
       "    </tr>\n",
       "    <tr>\n",
       "      <th>Diabetes_Mellitus</th>\n",
       "      <td>0.070033</td>\n",
       "      <td>-0.078340</td>\n",
       "      <td>NaN</td>\n",
       "      <td>NaN</td>\n",
       "      <td>-0.005064</td>\n",
       "      <td>-0.005551</td>\n",
       "      <td>-0.003195</td>\n",
       "      <td>-0.003916</td>\n",
       "      <td>-0.004525</td>\n",
       "      <td>-0.005064</td>\n",
       "      <td>...</td>\n",
       "      <td>0.815844</td>\n",
       "      <td>-0.002257</td>\n",
       "      <td>NaN</td>\n",
       "      <td>NaN</td>\n",
       "      <td>NaN</td>\n",
       "      <td>NaN</td>\n",
       "      <td>NaN</td>\n",
       "      <td>NaN</td>\n",
       "      <td>NaN</td>\n",
       "      <td>0.025947</td>\n",
       "    </tr>\n",
       "    <tr>\n",
       "      <th>Cardiovascular</th>\n",
       "      <td>0.072510</td>\n",
       "      <td>-0.096023</td>\n",
       "      <td>NaN</td>\n",
       "      <td>NaN</td>\n",
       "      <td>-0.006207</td>\n",
       "      <td>-0.006805</td>\n",
       "      <td>-0.003916</td>\n",
       "      <td>-0.004800</td>\n",
       "      <td>-0.005547</td>\n",
       "      <td>-0.006207</td>\n",
       "      <td>...</td>\n",
       "      <td>1.000000</td>\n",
       "      <td>-0.002767</td>\n",
       "      <td>NaN</td>\n",
       "      <td>NaN</td>\n",
       "      <td>NaN</td>\n",
       "      <td>NaN</td>\n",
       "      <td>NaN</td>\n",
       "      <td>NaN</td>\n",
       "      <td>NaN</td>\n",
       "      <td>0.006393</td>\n",
       "    </tr>\n",
       "    <tr>\n",
       "      <th>Chronic_Renal_Disease</th>\n",
       "      <td>0.074960</td>\n",
       "      <td>0.028814</td>\n",
       "      <td>NaN</td>\n",
       "      <td>NaN</td>\n",
       "      <td>-0.003578</td>\n",
       "      <td>0.406617</td>\n",
       "      <td>-0.002257</td>\n",
       "      <td>-0.002767</td>\n",
       "      <td>-0.003197</td>\n",
       "      <td>-0.003578</td>\n",
       "      <td>...</td>\n",
       "      <td>-0.002767</td>\n",
       "      <td>1.000000</td>\n",
       "      <td>NaN</td>\n",
       "      <td>NaN</td>\n",
       "      <td>NaN</td>\n",
       "      <td>NaN</td>\n",
       "      <td>NaN</td>\n",
       "      <td>NaN</td>\n",
       "      <td>NaN</td>\n",
       "      <td>-0.025610</td>\n",
       "    </tr>\n",
       "    <tr>\n",
       "      <th>Chronic_Liver_Disease</th>\n",
       "      <td>NaN</td>\n",
       "      <td>NaN</td>\n",
       "      <td>NaN</td>\n",
       "      <td>NaN</td>\n",
       "      <td>NaN</td>\n",
       "      <td>NaN</td>\n",
       "      <td>NaN</td>\n",
       "      <td>NaN</td>\n",
       "      <td>NaN</td>\n",
       "      <td>NaN</td>\n",
       "      <td>...</td>\n",
       "      <td>NaN</td>\n",
       "      <td>NaN</td>\n",
       "      <td>NaN</td>\n",
       "      <td>NaN</td>\n",
       "      <td>NaN</td>\n",
       "      <td>NaN</td>\n",
       "      <td>NaN</td>\n",
       "      <td>NaN</td>\n",
       "      <td>NaN</td>\n",
       "      <td>NaN</td>\n",
       "    </tr>\n",
       "    <tr>\n",
       "      <th>Immunocompromised_Condition</th>\n",
       "      <td>NaN</td>\n",
       "      <td>NaN</td>\n",
       "      <td>NaN</td>\n",
       "      <td>NaN</td>\n",
       "      <td>NaN</td>\n",
       "      <td>NaN</td>\n",
       "      <td>NaN</td>\n",
       "      <td>NaN</td>\n",
       "      <td>NaN</td>\n",
       "      <td>NaN</td>\n",
       "      <td>...</td>\n",
       "      <td>NaN</td>\n",
       "      <td>NaN</td>\n",
       "      <td>NaN</td>\n",
       "      <td>NaN</td>\n",
       "      <td>NaN</td>\n",
       "      <td>NaN</td>\n",
       "      <td>NaN</td>\n",
       "      <td>NaN</td>\n",
       "      <td>NaN</td>\n",
       "      <td>NaN</td>\n",
       "    </tr>\n",
       "    <tr>\n",
       "      <th>Neurological_Neurodevelopment</th>\n",
       "      <td>NaN</td>\n",
       "      <td>NaN</td>\n",
       "      <td>NaN</td>\n",
       "      <td>NaN</td>\n",
       "      <td>NaN</td>\n",
       "      <td>NaN</td>\n",
       "      <td>NaN</td>\n",
       "      <td>NaN</td>\n",
       "      <td>NaN</td>\n",
       "      <td>NaN</td>\n",
       "      <td>...</td>\n",
       "      <td>NaN</td>\n",
       "      <td>NaN</td>\n",
       "      <td>NaN</td>\n",
       "      <td>NaN</td>\n",
       "      <td>NaN</td>\n",
       "      <td>NaN</td>\n",
       "      <td>NaN</td>\n",
       "      <td>NaN</td>\n",
       "      <td>NaN</td>\n",
       "      <td>NaN</td>\n",
       "    </tr>\n",
       "    <tr>\n",
       "      <th>Other_Chronic_Condition</th>\n",
       "      <td>NaN</td>\n",
       "      <td>NaN</td>\n",
       "      <td>NaN</td>\n",
       "      <td>NaN</td>\n",
       "      <td>NaN</td>\n",
       "      <td>NaN</td>\n",
       "      <td>NaN</td>\n",
       "      <td>NaN</td>\n",
       "      <td>NaN</td>\n",
       "      <td>NaN</td>\n",
       "      <td>...</td>\n",
       "      <td>NaN</td>\n",
       "      <td>NaN</td>\n",
       "      <td>NaN</td>\n",
       "      <td>NaN</td>\n",
       "      <td>NaN</td>\n",
       "      <td>NaN</td>\n",
       "      <td>NaN</td>\n",
       "      <td>NaN</td>\n",
       "      <td>NaN</td>\n",
       "      <td>NaN</td>\n",
       "    </tr>\n",
       "    <tr>\n",
       "      <th>Is_Currently_Pregrant_Female</th>\n",
       "      <td>NaN</td>\n",
       "      <td>NaN</td>\n",
       "      <td>NaN</td>\n",
       "      <td>NaN</td>\n",
       "      <td>NaN</td>\n",
       "      <td>NaN</td>\n",
       "      <td>NaN</td>\n",
       "      <td>NaN</td>\n",
       "      <td>NaN</td>\n",
       "      <td>NaN</td>\n",
       "      <td>...</td>\n",
       "      <td>NaN</td>\n",
       "      <td>NaN</td>\n",
       "      <td>NaN</td>\n",
       "      <td>NaN</td>\n",
       "      <td>NaN</td>\n",
       "      <td>NaN</td>\n",
       "      <td>NaN</td>\n",
       "      <td>NaN</td>\n",
       "      <td>NaN</td>\n",
       "      <td>NaN</td>\n",
       "    </tr>\n",
       "    <tr>\n",
       "      <th>Current_Smoker</th>\n",
       "      <td>NaN</td>\n",
       "      <td>NaN</td>\n",
       "      <td>NaN</td>\n",
       "      <td>NaN</td>\n",
       "      <td>NaN</td>\n",
       "      <td>NaN</td>\n",
       "      <td>NaN</td>\n",
       "      <td>NaN</td>\n",
       "      <td>NaN</td>\n",
       "      <td>NaN</td>\n",
       "      <td>...</td>\n",
       "      <td>NaN</td>\n",
       "      <td>NaN</td>\n",
       "      <td>NaN</td>\n",
       "      <td>NaN</td>\n",
       "      <td>NaN</td>\n",
       "      <td>NaN</td>\n",
       "      <td>NaN</td>\n",
       "      <td>NaN</td>\n",
       "      <td>NaN</td>\n",
       "      <td>NaN</td>\n",
       "    </tr>\n",
       "    <tr>\n",
       "      <th>Former_Smoker</th>\n",
       "      <td>NaN</td>\n",
       "      <td>NaN</td>\n",
       "      <td>NaN</td>\n",
       "      <td>NaN</td>\n",
       "      <td>NaN</td>\n",
       "      <td>NaN</td>\n",
       "      <td>NaN</td>\n",
       "      <td>NaN</td>\n",
       "      <td>NaN</td>\n",
       "      <td>NaN</td>\n",
       "      <td>...</td>\n",
       "      <td>NaN</td>\n",
       "      <td>NaN</td>\n",
       "      <td>NaN</td>\n",
       "      <td>NaN</td>\n",
       "      <td>NaN</td>\n",
       "      <td>NaN</td>\n",
       "      <td>NaN</td>\n",
       "      <td>NaN</td>\n",
       "      <td>NaN</td>\n",
       "      <td>NaN</td>\n",
       "    </tr>\n",
       "    <tr>\n",
       "      <th>Outcome</th>\n",
       "      <td>0.042836</td>\n",
       "      <td>-0.120738</td>\n",
       "      <td>NaN</td>\n",
       "      <td>NaN</td>\n",
       "      <td>-0.018020</td>\n",
       "      <td>0.009063</td>\n",
       "      <td>-0.036247</td>\n",
       "      <td>0.006393</td>\n",
       "      <td>-0.051343</td>\n",
       "      <td>0.021410</td>\n",
       "      <td>...</td>\n",
       "      <td>0.006393</td>\n",
       "      <td>-0.025610</td>\n",
       "      <td>NaN</td>\n",
       "      <td>NaN</td>\n",
       "      <td>NaN</td>\n",
       "      <td>NaN</td>\n",
       "      <td>NaN</td>\n",
       "      <td>NaN</td>\n",
       "      <td>NaN</td>\n",
       "      <td>1.000000</td>\n",
       "    </tr>\n",
       "  </tbody>\n",
       "</table>\n",
       "<p>28 rows × 28 columns</p>\n",
       "</div>"
      ],
      "text/plain": [
       "                                    Age       Sex  Travel_History  \\\n",
       "Age                            1.000000  0.170724             NaN   \n",
       "Sex                            0.170724  1.000000             NaN   \n",
       "Travel_History                      NaN       NaN             NaN   \n",
       "Contact_With_Infected               NaN       NaN             NaN   \n",
       "Fever                          0.049489  0.026877             NaN   \n",
       "Subjective_Fever               0.084889  0.036366             NaN   \n",
       "Chills                         0.056295  0.040782             NaN   \n",
       "Muscle_Ache                    0.059882  0.001318             NaN   \n",
       "Runny_Nose                     0.018932 -0.026600             NaN   \n",
       "Sore_throat                    0.045134  0.026877             NaN   \n",
       "Cough                          0.083054 -0.110650             NaN   \n",
       "Shortness_Of_Breath            0.079526  0.001318             NaN   \n",
       "Nausea                         0.076720  0.049988             NaN   \n",
       "Headache                       0.062688 -0.047353             NaN   \n",
       "Abdominal_Pain                      NaN       NaN             NaN   \n",
       "Diarrhea                      -0.056073  0.028814             NaN   \n",
       "Chronic_Lung_Disease                NaN       NaN             NaN   \n",
       "Diabetes_Mellitus              0.070033 -0.078340             NaN   \n",
       "Cardiovascular                 0.072510 -0.096023             NaN   \n",
       "Chronic_Renal_Disease          0.074960  0.028814             NaN   \n",
       "Chronic_Liver_Disease               NaN       NaN             NaN   \n",
       "Immunocompromised_Condition         NaN       NaN             NaN   \n",
       "Neurological_Neurodevelopment       NaN       NaN             NaN   \n",
       "Other_Chronic_Condition             NaN       NaN             NaN   \n",
       "Is_Currently_Pregrant_Female        NaN       NaN             NaN   \n",
       "Current_Smoker                      NaN       NaN             NaN   \n",
       "Former_Smoker                       NaN       NaN             NaN   \n",
       "Outcome                        0.042836 -0.120738             NaN   \n",
       "\n",
       "                               Contact_With_Infected     Fever  \\\n",
       "Age                                              NaN  0.049489   \n",
       "Sex                                              NaN  0.026877   \n",
       "Travel_History                                   NaN       NaN   \n",
       "Contact_With_Infected                            NaN       NaN   \n",
       "Fever                                            NaN  1.000000   \n",
       "Subjective_Fever                                 NaN  0.543763   \n",
       "Chills                                           NaN  0.630938   \n",
       "Muscle_Ache                                      NaN  0.253648   \n",
       "Runny_Nose                                       NaN  0.668490   \n",
       "Sore_throat                                      NaN  0.395185   \n",
       "Cough                                            NaN  0.139950   \n",
       "Shortness_Of_Breath                              NaN  0.513502   \n",
       "Nausea                                           NaN  0.513502   \n",
       "Headache                                         NaN  0.513502   \n",
       "Abdominal_Pain                                   NaN       NaN   \n",
       "Diarrhea                                         NaN  0.445785   \n",
       "Chronic_Lung_Disease                             NaN       NaN   \n",
       "Diabetes_Mellitus                                NaN -0.005064   \n",
       "Cardiovascular                                   NaN -0.006207   \n",
       "Chronic_Renal_Disease                            NaN -0.003578   \n",
       "Chronic_Liver_Disease                            NaN       NaN   \n",
       "Immunocompromised_Condition                      NaN       NaN   \n",
       "Neurological_Neurodevelopment                    NaN       NaN   \n",
       "Other_Chronic_Condition                          NaN       NaN   \n",
       "Is_Currently_Pregrant_Female                     NaN       NaN   \n",
       "Current_Smoker                                   NaN       NaN   \n",
       "Former_Smoker                                    NaN       NaN   \n",
       "Outcome                                          NaN -0.018020   \n",
       "\n",
       "                               Subjective_Fever    Chills  Muscle_Ache  \\\n",
       "Age                                    0.084889  0.056295     0.059882   \n",
       "Sex                                    0.036366  0.040782     0.001318   \n",
       "Travel_History                              NaN       NaN          NaN   \n",
       "Contact_With_Infected                       NaN       NaN          NaN   \n",
       "Fever                                  0.543763  0.630938     0.253648   \n",
       "Subjective_Fever                       1.000000  0.284976     0.705408   \n",
       "Chills                                 0.284976  1.000000     0.405964   \n",
       "Muscle_Ache                            0.705408  0.405964     1.000000   \n",
       "Runny_Nose                             0.403662  0.350725     0.284746   \n",
       "Sore_throat                            0.359576  0.312937     0.513502   \n",
       "Cough                                  0.125885  0.230973     0.185955   \n",
       "Shortness_Of_Breath                    0.230600  0.815844     0.330133   \n",
       "Nausea                                 0.468004  0.405964    -0.004800   \n",
       "Headache                               0.468004 -0.003916     0.330133   \n",
       "Abdominal_Pain                              NaN       NaN          NaN   \n",
       "Diarrhea                               0.406617 -0.002257    -0.002767   \n",
       "Chronic_Lung_Disease                        NaN       NaN          NaN   \n",
       "Diabetes_Mellitus                     -0.005551 -0.003195    -0.003916   \n",
       "Cardiovascular                        -0.006805 -0.003916    -0.004800   \n",
       "Chronic_Renal_Disease                  0.406617 -0.002257    -0.002767   \n",
       "Chronic_Liver_Disease                       NaN       NaN          NaN   \n",
       "Immunocompromised_Condition                 NaN       NaN          NaN   \n",
       "Neurological_Neurodevelopment               NaN       NaN          NaN   \n",
       "Other_Chronic_Condition                     NaN       NaN          NaN   \n",
       "Is_Currently_Pregrant_Female                NaN       NaN          NaN   \n",
       "Current_Smoker                              NaN       NaN          NaN   \n",
       "Former_Smoker                               NaN       NaN          NaN   \n",
       "Outcome                                0.009063 -0.036247     0.006393   \n",
       "\n",
       "                               Runny_Nose  Sore_throat  ...  Cardiovascular  \\\n",
       "Age                              0.018932     0.045134  ...        0.072510   \n",
       "Sex                             -0.026600     0.026877  ...       -0.096023   \n",
       "Travel_History                        NaN          NaN  ...             NaN   \n",
       "Contact_With_Infected                 NaN          NaN  ...             NaN   \n",
       "Fever                            0.668490     0.395185  ...       -0.006207   \n",
       "Subjective_Fever                 0.403662     0.359576  ...       -0.006805   \n",
       "Chills                           0.350725     0.312937  ...       -0.003916   \n",
       "Muscle_Ache                      0.284746     0.513502  ...       -0.004800   \n",
       "Runny_Nose                       1.000000     0.443269  ...       -0.005547   \n",
       "Sore_throat                      0.443269     1.000000  ...       -0.006207   \n",
       "Cough                            0.327168     0.290702  ...        0.185955   \n",
       "Shortness_Of_Breath              0.284746     0.253648  ...        0.330133   \n",
       "Nausea                          -0.005547    -0.006207  ...       -0.004800   \n",
       "Headache                         0.284746     0.253648  ...       -0.004800   \n",
       "Abdominal_Pain                        NaN          NaN  ...             NaN   \n",
       "Diarrhea                         0.498802    -0.003578  ...       -0.002767   \n",
       "Chronic_Lung_Disease                  NaN          NaN  ...             NaN   \n",
       "Diabetes_Mellitus               -0.004525    -0.005064  ...        0.815844   \n",
       "Cardiovascular                  -0.005547    -0.006207  ...        1.000000   \n",
       "Chronic_Renal_Disease           -0.003197    -0.003578  ...       -0.002767   \n",
       "Chronic_Liver_Disease                 NaN          NaN  ...             NaN   \n",
       "Immunocompromised_Condition           NaN          NaN  ...             NaN   \n",
       "Neurological_Neurodevelopment         NaN          NaN  ...             NaN   \n",
       "Other_Chronic_Condition               NaN          NaN  ...             NaN   \n",
       "Is_Currently_Pregrant_Female          NaN          NaN  ...             NaN   \n",
       "Current_Smoker                        NaN          NaN  ...             NaN   \n",
       "Former_Smoker                         NaN          NaN  ...             NaN   \n",
       "Outcome                         -0.051343     0.021410  ...        0.006393   \n",
       "\n",
       "                               Chronic_Renal_Disease  Chronic_Liver_Disease  \\\n",
       "Age                                         0.074960                    NaN   \n",
       "Sex                                         0.028814                    NaN   \n",
       "Travel_History                                   NaN                    NaN   \n",
       "Contact_With_Infected                            NaN                    NaN   \n",
       "Fever                                      -0.003578                    NaN   \n",
       "Subjective_Fever                            0.406617                    NaN   \n",
       "Chills                                     -0.002257                    NaN   \n",
       "Muscle_Ache                                -0.002767                    NaN   \n",
       "Runny_Nose                                 -0.003197                    NaN   \n",
       "Sore_throat                                -0.003578                    NaN   \n",
       "Cough                                      -0.004816                    NaN   \n",
       "Shortness_Of_Breath                        -0.002767                    NaN   \n",
       "Nausea                                      0.576429                    NaN   \n",
       "Headache                                   -0.002767                    NaN   \n",
       "Abdominal_Pain                                   NaN                    NaN   \n",
       "Diarrhea                                   -0.001595                    NaN   \n",
       "Chronic_Lung_Disease                             NaN                    NaN   \n",
       "Diabetes_Mellitus                          -0.002257                    NaN   \n",
       "Cardiovascular                             -0.002767                    NaN   \n",
       "Chronic_Renal_Disease                       1.000000                    NaN   \n",
       "Chronic_Liver_Disease                            NaN                    NaN   \n",
       "Immunocompromised_Condition                      NaN                    NaN   \n",
       "Neurological_Neurodevelopment                    NaN                    NaN   \n",
       "Other_Chronic_Condition                          NaN                    NaN   \n",
       "Is_Currently_Pregrant_Female                     NaN                    NaN   \n",
       "Current_Smoker                                   NaN                    NaN   \n",
       "Former_Smoker                                    NaN                    NaN   \n",
       "Outcome                                    -0.025610                    NaN   \n",
       "\n",
       "                               Immunocompromised_Condition  \\\n",
       "Age                                                    NaN   \n",
       "Sex                                                    NaN   \n",
       "Travel_History                                         NaN   \n",
       "Contact_With_Infected                                  NaN   \n",
       "Fever                                                  NaN   \n",
       "Subjective_Fever                                       NaN   \n",
       "Chills                                                 NaN   \n",
       "Muscle_Ache                                            NaN   \n",
       "Runny_Nose                                             NaN   \n",
       "Sore_throat                                            NaN   \n",
       "Cough                                                  NaN   \n",
       "Shortness_Of_Breath                                    NaN   \n",
       "Nausea                                                 NaN   \n",
       "Headache                                               NaN   \n",
       "Abdominal_Pain                                         NaN   \n",
       "Diarrhea                                               NaN   \n",
       "Chronic_Lung_Disease                                   NaN   \n",
       "Diabetes_Mellitus                                      NaN   \n",
       "Cardiovascular                                         NaN   \n",
       "Chronic_Renal_Disease                                  NaN   \n",
       "Chronic_Liver_Disease                                  NaN   \n",
       "Immunocompromised_Condition                            NaN   \n",
       "Neurological_Neurodevelopment                          NaN   \n",
       "Other_Chronic_Condition                                NaN   \n",
       "Is_Currently_Pregrant_Female                           NaN   \n",
       "Current_Smoker                                         NaN   \n",
       "Former_Smoker                                          NaN   \n",
       "Outcome                                                NaN   \n",
       "\n",
       "                               Neurological_Neurodevelopment  \\\n",
       "Age                                                      NaN   \n",
       "Sex                                                      NaN   \n",
       "Travel_History                                           NaN   \n",
       "Contact_With_Infected                                    NaN   \n",
       "Fever                                                    NaN   \n",
       "Subjective_Fever                                         NaN   \n",
       "Chills                                                   NaN   \n",
       "Muscle_Ache                                              NaN   \n",
       "Runny_Nose                                               NaN   \n",
       "Sore_throat                                              NaN   \n",
       "Cough                                                    NaN   \n",
       "Shortness_Of_Breath                                      NaN   \n",
       "Nausea                                                   NaN   \n",
       "Headache                                                 NaN   \n",
       "Abdominal_Pain                                           NaN   \n",
       "Diarrhea                                                 NaN   \n",
       "Chronic_Lung_Disease                                     NaN   \n",
       "Diabetes_Mellitus                                        NaN   \n",
       "Cardiovascular                                           NaN   \n",
       "Chronic_Renal_Disease                                    NaN   \n",
       "Chronic_Liver_Disease                                    NaN   \n",
       "Immunocompromised_Condition                              NaN   \n",
       "Neurological_Neurodevelopment                            NaN   \n",
       "Other_Chronic_Condition                                  NaN   \n",
       "Is_Currently_Pregrant_Female                             NaN   \n",
       "Current_Smoker                                           NaN   \n",
       "Former_Smoker                                            NaN   \n",
       "Outcome                                                  NaN   \n",
       "\n",
       "                               Other_Chronic_Condition  \\\n",
       "Age                                                NaN   \n",
       "Sex                                                NaN   \n",
       "Travel_History                                     NaN   \n",
       "Contact_With_Infected                              NaN   \n",
       "Fever                                              NaN   \n",
       "Subjective_Fever                                   NaN   \n",
       "Chills                                             NaN   \n",
       "Muscle_Ache                                        NaN   \n",
       "Runny_Nose                                         NaN   \n",
       "Sore_throat                                        NaN   \n",
       "Cough                                              NaN   \n",
       "Shortness_Of_Breath                                NaN   \n",
       "Nausea                                             NaN   \n",
       "Headache                                           NaN   \n",
       "Abdominal_Pain                                     NaN   \n",
       "Diarrhea                                           NaN   \n",
       "Chronic_Lung_Disease                               NaN   \n",
       "Diabetes_Mellitus                                  NaN   \n",
       "Cardiovascular                                     NaN   \n",
       "Chronic_Renal_Disease                              NaN   \n",
       "Chronic_Liver_Disease                              NaN   \n",
       "Immunocompromised_Condition                        NaN   \n",
       "Neurological_Neurodevelopment                      NaN   \n",
       "Other_Chronic_Condition                            NaN   \n",
       "Is_Currently_Pregrant_Female                       NaN   \n",
       "Current_Smoker                                     NaN   \n",
       "Former_Smoker                                      NaN   \n",
       "Outcome                                            NaN   \n",
       "\n",
       "                               Is_Currently_Pregrant_Female  Current_Smoker  \\\n",
       "Age                                                     NaN             NaN   \n",
       "Sex                                                     NaN             NaN   \n",
       "Travel_History                                          NaN             NaN   \n",
       "Contact_With_Infected                                   NaN             NaN   \n",
       "Fever                                                   NaN             NaN   \n",
       "Subjective_Fever                                        NaN             NaN   \n",
       "Chills                                                  NaN             NaN   \n",
       "Muscle_Ache                                             NaN             NaN   \n",
       "Runny_Nose                                              NaN             NaN   \n",
       "Sore_throat                                             NaN             NaN   \n",
       "Cough                                                   NaN             NaN   \n",
       "Shortness_Of_Breath                                     NaN             NaN   \n",
       "Nausea                                                  NaN             NaN   \n",
       "Headache                                                NaN             NaN   \n",
       "Abdominal_Pain                                          NaN             NaN   \n",
       "Diarrhea                                                NaN             NaN   \n",
       "Chronic_Lung_Disease                                    NaN             NaN   \n",
       "Diabetes_Mellitus                                       NaN             NaN   \n",
       "Cardiovascular                                          NaN             NaN   \n",
       "Chronic_Renal_Disease                                   NaN             NaN   \n",
       "Chronic_Liver_Disease                                   NaN             NaN   \n",
       "Immunocompromised_Condition                             NaN             NaN   \n",
       "Neurological_Neurodevelopment                           NaN             NaN   \n",
       "Other_Chronic_Condition                                 NaN             NaN   \n",
       "Is_Currently_Pregrant_Female                            NaN             NaN   \n",
       "Current_Smoker                                          NaN             NaN   \n",
       "Former_Smoker                                           NaN             NaN   \n",
       "Outcome                                                 NaN             NaN   \n",
       "\n",
       "                               Former_Smoker   Outcome  \n",
       "Age                                      NaN  0.042836  \n",
       "Sex                                      NaN -0.120738  \n",
       "Travel_History                           NaN       NaN  \n",
       "Contact_With_Infected                    NaN       NaN  \n",
       "Fever                                    NaN -0.018020  \n",
       "Subjective_Fever                         NaN  0.009063  \n",
       "Chills                                   NaN -0.036247  \n",
       "Muscle_Ache                              NaN  0.006393  \n",
       "Runny_Nose                               NaN -0.051343  \n",
       "Sore_throat                              NaN  0.021410  \n",
       "Cough                                    NaN  0.011127  \n",
       "Shortness_Of_Breath                      NaN  0.006393  \n",
       "Nausea                                   NaN  0.006393  \n",
       "Headache                                 NaN  0.006393  \n",
       "Abdominal_Pain                           NaN       NaN  \n",
       "Diarrhea                                 NaN -0.025610  \n",
       "Chronic_Lung_Disease                     NaN       NaN  \n",
       "Diabetes_Mellitus                        NaN  0.025947  \n",
       "Cardiovascular                           NaN  0.006393  \n",
       "Chronic_Renal_Disease                    NaN -0.025610  \n",
       "Chronic_Liver_Disease                    NaN       NaN  \n",
       "Immunocompromised_Condition              NaN       NaN  \n",
       "Neurological_Neurodevelopment            NaN       NaN  \n",
       "Other_Chronic_Condition                  NaN       NaN  \n",
       "Is_Currently_Pregrant_Female             NaN       NaN  \n",
       "Current_Smoker                           NaN       NaN  \n",
       "Former_Smoker                            NaN       NaN  \n",
       "Outcome                                  NaN  1.000000  \n",
       "\n",
       "[28 rows x 28 columns]"
      ]
     },
     "execution_count": 64,
     "metadata": {},
     "output_type": "execute_result"
    }
   ],
   "source": [
    "# df3 = df[\"Age\", \"Sex\", \"Symptomatic\", \"Outcome\"]\n",
    "pearson_corr = df2.corr(method=\"pearson\")\n",
    "pearson_corr"
   ]
  },
  {
   "cell_type": "code",
   "execution_count": 74,
   "metadata": {},
   "outputs": [
    {
     "data": {
      "text/html": [
       "<div>\n",
       "<style scoped>\n",
       "    .dataframe tbody tr th:only-of-type {\n",
       "        vertical-align: middle;\n",
       "    }\n",
       "\n",
       "    .dataframe tbody tr th {\n",
       "        vertical-align: top;\n",
       "    }\n",
       "\n",
       "    .dataframe thead th {\n",
       "        text-align: right;\n",
       "    }\n",
       "</style>\n",
       "<table border=\"1\" class=\"dataframe\">\n",
       "  <thead>\n",
       "    <tr style=\"text-align: right;\">\n",
       "      <th></th>\n",
       "      <th>Age</th>\n",
       "      <th>Sex</th>\n",
       "      <th>Symptomatic</th>\n",
       "      <th>Outcome</th>\n",
       "    </tr>\n",
       "  </thead>\n",
       "  <tbody>\n",
       "    <tr>\n",
       "      <th>Age</th>\n",
       "      <td>1.000000</td>\n",
       "      <td>0.170724</td>\n",
       "      <td>0.137942</td>\n",
       "      <td>0.042836</td>\n",
       "    </tr>\n",
       "    <tr>\n",
       "      <th>Sex</th>\n",
       "      <td>0.170724</td>\n",
       "      <td>1.000000</td>\n",
       "      <td>-0.057683</td>\n",
       "      <td>-0.120738</td>\n",
       "    </tr>\n",
       "    <tr>\n",
       "      <th>Symptomatic</th>\n",
       "      <td>0.137942</td>\n",
       "      <td>-0.057683</td>\n",
       "      <td>1.000000</td>\n",
       "      <td>0.092493</td>\n",
       "    </tr>\n",
       "    <tr>\n",
       "      <th>Outcome</th>\n",
       "      <td>0.042836</td>\n",
       "      <td>-0.120738</td>\n",
       "      <td>0.092493</td>\n",
       "      <td>1.000000</td>\n",
       "    </tr>\n",
       "  </tbody>\n",
       "</table>\n",
       "</div>"
      ],
      "text/plain": [
       "                  Age       Sex  Symptomatic   Outcome\n",
       "Age          1.000000  0.170724     0.137942  0.042836\n",
       "Sex          0.170724  1.000000    -0.057683 -0.120738\n",
       "Symptomatic  0.137942 -0.057683     1.000000  0.092493\n",
       "Outcome      0.042836 -0.120738     0.092493  1.000000"
      ]
     },
     "execution_count": 74,
     "metadata": {},
     "output_type": "execute_result"
    }
   ],
   "source": [
    "df3 = df2[[\"Age\", \"Sex\", \"Symptomatic\", \"Outcome\"]].copy()\n",
    "pearson_corr = df3.corr(method=\"pearson\")\n",
    "pearson_corr"
   ]
  },
  {
   "cell_type": "code",
   "execution_count": 77,
   "metadata": {},
   "outputs": [
    {
     "data": {
      "image/png": "[encoded data removed]",
      "text/plain": [
       "<Figure size 696.75x648 with 12 Axes>"
      ]
     },
     "metadata": {},
     "output_type": "display_data"
    }
   ],
   "source": [
    "plt.close();\n",
    "\n",
    "sns.set_style(\"whitegrid\");\n",
    "\n",
    "sns.pairplot(df3, hue=\"Outcome\", height=3);\n",
    "\n",
    "plt.savefig(\"correlation_plot.png\", dpi=300, bbox_inches=\"tight\")\n",
    "plt.show()"
   ]
  },
  {
   "cell_type": "code",
   "execution_count": null,
   "metadata": {},
   "outputs": [],
   "source": [
    "sns.set_style(\"whitegrid\")\n",
    "\n",
    "sns.FacetGrid(df, hue='Outcome', size=5).map(plt.scatter, 'Age', 'Outcome').add_legend();\n",
    "\n",
    "plt.savefig('age_outcome_impact.png', dpi=300, bbox_inches=\"tight\");\n",
    "\n",
    "plt.show()"
   ]
  },
  {
   "cell_type": "code",
   "execution_count": 80,
   "metadata": {},
   "outputs": [],
   "source": [
    "df3.to_excel(\"./data/cleaned_data.xlsx\")"
   ]
  },
  {
   "cell_type": "code",
   "execution_count": 83,
   "metadata": {},
   "outputs": [],
   "source": [
    "y_data = df3['Outcome']\n",
    "x_data = df3.drop(['Outcome'], axis=1)\n",
    "MinMaxScaler = preprocessing.MinMaxScaler()\n",
    "\n",
    "X_data_minmax = MinMaxScaler.fit_transform(x_data)\n",
    "\n",
    "data = pd.DataFrame(X_data_minmax, columns=[\"Age\", \"Sex\", \"Symptomatic\"])"
   ]
  },
  {
   "cell_type": "code",
   "execution_count": 84,
   "metadata": {},
   "outputs": [],
   "source": [
    "X_train, X_test, y_train, y_test = train_test_split(data, y_data, test_size=0.2, random_state=1)"
   ]
  },
  {
   "cell_type": "markdown",
   "metadata": {},
   "source": [
    "Fitting a support vector machine model to data"
   ]
  },
  {
   "cell_type": "code",
   "execution_count": 87,
   "metadata": {},
   "outputs": [
    {
     "data": {
      "text/plain": [
       "SVC()"
      ]
     },
     "execution_count": 87,
     "metadata": {},
     "output_type": "execute_result"
    }
   ],
   "source": [
    "svm_clf = svm.SVC()\n",
    "svm_clf.fit(X_train, y_train)"
   ]
  },
  {
   "cell_type": "code",
   "execution_count": 88,
   "metadata": {},
   "outputs": [],
   "source": [
    "svm_filename = 'SVM_MODEL.sav'\n",
    "pickle.dump(svm_clf, open(svm_filename, 'wb'))"
   ]
  },
  {
   "cell_type": "code",
   "execution_count": 90,
   "metadata": {},
   "outputs": [],
   "source": []
  },
  {
   "cell_type": "code",
   "execution_count": 91,
   "metadata": {},
   "outputs": [
    {
     "name": "stdout",
     "output_type": "stream",
     "text": [
      "Confusion Matrix: \n",
      "[[87  0]\n",
      " [39  0]]\n",
      "Classification Report: \n",
      "              precision    recall  f1-score   support\n",
      "\n",
      "           0       0.69      1.00      0.82        87\n",
      "           1       0.00      0.00      0.00        39\n",
      "\n",
      "    accuracy                           0.69       126\n",
      "   macro avg       0.35      0.50      0.41       126\n",
      "weighted avg       0.48      0.69      0.56       126\n",
      "\n",
      "Accuracy:  0.6904761904761905\n"
     ]
    },
    {
     "name": "stderr",
     "output_type": "stream",
     "text": [
      "C:\\Users\\Jenyo\\anaconda3\\lib\\site-packages\\sklearn\\metrics\\_classification.py:1248: UndefinedMetricWarning: Precision and F-score are ill-defined and being set to 0.0 in labels with no predicted samples. Use `zero_division` parameter to control this behavior.\n",
      "  _warn_prf(average, modifier, msg_start, len(result))\n",
      "C:\\Users\\Jenyo\\anaconda3\\lib\\site-packages\\sklearn\\metrics\\_classification.py:1248: UndefinedMetricWarning: Precision and F-score are ill-defined and being set to 0.0 in labels with no predicted samples. Use `zero_division` parameter to control this behavior.\n",
      "  _warn_prf(average, modifier, msg_start, len(result))\n",
      "C:\\Users\\Jenyo\\anaconda3\\lib\\site-packages\\sklearn\\metrics\\_classification.py:1248: UndefinedMetricWarning: Precision and F-score are ill-defined and being set to 0.0 in labels with no predicted samples. Use `zero_division` parameter to control this behavior.\n",
      "  _warn_prf(average, modifier, msg_start, len(result))\n"
     ]
    }
   ],
   "source": [
    "# testing the model\n",
    "svm_ypred = svm_clf.predict(X_test)\n",
    "# taking the \n",
    "svm_result = confusion_matrix(y_test, svm_ypred)\n",
    "print(\"Confusion Matrix: \")\n",
    "print(svm_result)\n",
    "\n",
    "svm_result1 = classification_report(y_test, svm_ypred)\n",
    "print(\"Classification Report: \")\n",
    "print(svm_result1)\n",
    "\n",
    "svm_result2 = accuracy_score(y_test, svm_ypred)\n",
    "print(\"Accuracy: \", svm_result2)\n",
    "\n",
    "\n"
   ]
  },
  {
   "cell_type": "code",
   "execution_count": 94,
   "metadata": {},
   "outputs": [
    {
     "data": {
      "text/plain": [
       "0      0\n",
       "1      0\n",
       "2      1\n",
       "3      0\n",
       "4      0\n",
       "      ..\n",
       "623    0\n",
       "624    1\n",
       "625    0\n",
       "626    0\n",
       "627    0\n",
       "Name: Outcome, Length: 628, dtype: int64"
      ]
     },
     "execution_count": 94,
     "metadata": {},
     "output_type": "execute_result"
    }
   ],
   "source": [
    "y_data"
   ]
  },
  {
   "cell_type": "code",
   "execution_count": 108,
   "metadata": {},
   "outputs": [],
   "source": [
    "NX_train = x_data.iloc[:400, 0:3].copy()\n",
    "ny_train = y_data.iloc[:400, ].copy()\n",
    "\n",
    "NX_test = x_data.iloc[400:, 0:3].copy()\n",
    "ny_test = y_data.iloc[400:,].copy()\n",
    "\n"
   ]
  },
  {
   "cell_type": "code",
   "execution_count": 109,
   "metadata": {},
   "outputs": [
    {
     "data": {
      "text/plain": [
       "SVC()"
      ]
     },
     "execution_count": 109,
     "metadata": {},
     "output_type": "execute_result"
    }
   ],
   "source": [
    "nsvm_clf = svm.SVC()\n",
    "nsvm_clf.fit(NX_train, ny_train)"
   ]
  },
  {
   "cell_type": "code",
   "execution_count": 112,
   "metadata": {},
   "outputs": [
    {
     "name": "stdout",
     "output_type": "stream",
     "text": [
      "Confusion Matrix: \n",
      "[[167   0]\n",
      " [ 61   0]]\n",
      "Classification Report: \n",
      "              precision    recall  f1-score   support\n",
      "\n",
      "           0       0.73      1.00      0.85       167\n",
      "           1       0.00      0.00      0.00        61\n",
      "\n",
      "    accuracy                           0.73       228\n",
      "   macro avg       0.37      0.50      0.42       228\n",
      "weighted avg       0.54      0.73      0.62       228\n",
      "\n",
      "Accuracy:  0.7324561403508771\n"
     ]
    },
    {
     "name": "stderr",
     "output_type": "stream",
     "text": [
      "C:\\Users\\Jenyo\\anaconda3\\lib\\site-packages\\sklearn\\metrics\\_classification.py:1248: UndefinedMetricWarning: Precision and F-score are ill-defined and being set to 0.0 in labels with no predicted samples. Use `zero_division` parameter to control this behavior.\n",
      "  _warn_prf(average, modifier, msg_start, len(result))\n",
      "C:\\Users\\Jenyo\\anaconda3\\lib\\site-packages\\sklearn\\metrics\\_classification.py:1248: UndefinedMetricWarning: Precision and F-score are ill-defined and being set to 0.0 in labels with no predicted samples. Use `zero_division` parameter to control this behavior.\n",
      "  _warn_prf(average, modifier, msg_start, len(result))\n",
      "C:\\Users\\Jenyo\\anaconda3\\lib\\site-packages\\sklearn\\metrics\\_classification.py:1248: UndefinedMetricWarning: Precision and F-score are ill-defined and being set to 0.0 in labels with no predicted samples. Use `zero_division` parameter to control this behavior.\n",
      "  _warn_prf(average, modifier, msg_start, len(result))\n"
     ]
    }
   ],
   "source": [
    "# testing the model\n",
    "nsvm_ypred = nsvm_clf.predict(NX_test)\n",
    "# taking the \n",
    "nsvm_result = confusion_matrix(ny_test, nsvm_ypred)\n",
    "print(\"Confusion Matrix: \")\n",
    "print(nsvm_result)\n",
    "\n",
    "nsvm_result1 = classification_report(ny_test, nsvm_ypred)\n",
    "print(\"Classification Report: \")\n",
    "print(nsvm_result1)\n",
    "\n",
    "nsvm_result2 = accuracy_score(ny_test, nsvm_ypred)\n",
    "print(\"Accuracy: \", nsvm_result2)"
   ]
  },
  {
   "cell_type": "code",
   "execution_count": 114,
   "metadata": {},
   "outputs": [
    {
     "data": {
      "text/plain": [
       "0    445\n",
       "1    183\n",
       "Name: Outcome, dtype: int64"
      ]
     },
     "execution_count": 114,
     "metadata": {},
     "output_type": "execute_result"
    }
   ],
   "source": [
    "y_data.value_counts()"
   ]
  },
  {
   "cell_type": "code",
   "execution_count": 117,
   "metadata": {},
   "outputs": [
    {
     "name": "stderr",
     "output_type": "stream",
     "text": [
      "C:\\Users\\Jenyo\\anaconda3\\lib\\site-packages\\seaborn\\_decorators.py:36: FutureWarning: Pass the following variable as a keyword arg: x. From version 0.12, the only valid positional argument will be `data`, and passing other arguments without an explicit keyword will result in an error or misinterpretation.\n",
      "  warnings.warn(\n"
     ]
    },
    {
     "data": {
      "image/png": "[encoded data removed]",
      "text/plain": [
       "<Figure size 432x288 with 1 Axes>"
      ]
     },
     "metadata": {},
     "output_type": "display_data"
    }
   ],
   "source": [
    "det_class_bal = sns.countplot(df3['Outcome'])\n",
    "det_class_bal.set_xticklabels(['Negative', 'Positive'])\n",
    "plt.show()"
   ]
  },
  {
   "cell_type": "code",
   "execution_count": 119,
   "metadata": {},
   "outputs": [
    {
     "name": "stdout",
     "output_type": "stream",
     "text": [
      "Negative:  (445, 4)\n",
      "Positive:  (183, 4)\n"
     ]
    }
   ],
   "source": [
    "outcome_class_Negative = df3[df3['Outcome'] == 0]\n",
    "outcome_class_Positive = df3[df3['Outcome'] == 1]\n",
    "print('Negative: ', outcome_class_Negative.shape)\n",
    "print('Positive: ', outcome_class_Positive.shape)"
   ]
  },
  {
   "cell_type": "code",
   "execution_count": 8,
   "metadata": {},
   "outputs": [],
   "source": [
    "fresh_data = pd.read_excel(\"./data/cleaned_data.xlsx\")\n"
   ]
  },
  {
   "cell_type": "code",
   "execution_count": 25,
   "metadata": {},
   "outputs": [
    {
     "name": "stdout",
     "output_type": "stream",
     "text": [
      "Negative:  (445, 5)\n",
      "Positive:  (183, 5)\n"
     ]
    },
    {
     "data": {
      "text/plain": [
       "(628, 3)"
      ]
     },
     "execution_count": 25,
     "metadata": {},
     "output_type": "execute_result"
    }
   ],
   "source": [
    "fresh_y = fresh_data[\"Outcome\"].copy()\n",
    "fresh_x = fresh_data[[\"Age\", \"Sex\", \"Symptomatic\"]].copy()\n",
    "# fresh_y.shape\n",
    "\n",
    "outcome_class_Negative = fresh_data[fresh_data['Outcome'] == 0]\n",
    "outcome_class_Positive = fresh_data[fresh_data['Outcome'] == 1]\n",
    "print('Negative: ', outcome_class_Negative.shape)\n",
    "print('Positive: ', outcome_class_Positive.shape)\n",
    "\n",
    "fresh_x.shape"
   ]
  },
  {
   "cell_type": "markdown",
   "metadata": {},
   "source": [
    "Handling data imbalance using undersampling"
   ]
  },
  {
   "cell_type": "code",
   "execution_count": 81,
   "metadata": {},
   "outputs": [],
   "source": [
    "import numpy as np\n",
    "# labeled confusion matrix\n",
    "group_names = ['True Neg','False Pos','False Neg','True Pos']\n",
    "\n"
   ]
  },
  {
   "cell_type": "code",
   "execution_count": 36,
   "metadata": {},
   "outputs": [
    {
     "data": {
      "text/plain": [
       "SVC()"
      ]
     },
     "execution_count": 36,
     "metadata": {},
     "output_type": "execute_result"
    }
   ],
   "source": [
    "# !pip install imblearn\n",
    "# import imblearn\n",
    "from imblearn.under_sampling import RandomUnderSampler\n",
    "\n",
    "rus = RandomUnderSampler(random_state=42, replacement=True)\n",
    "x_rus, y_rus = rus.fit_resample(fresh_x, fresh_y)\n",
    "\n",
    "rusX_train, rusX_test, rusy_train, rusy_test = train_test_split(x_rus, y_rus, test_size=0.2, random_state=1)\n",
    "rus_svm_clf = svm.SVC()\n",
    "rus_svm_clf.fit(rusX_train, rusy_train)"
   ]
  },
  {
   "cell_type": "code",
   "execution_count": 86,
   "metadata": {},
   "outputs": [
    {
     "data": {
      "image/png": "[encoded data removed]",
      "text/plain": [
       "<Figure size 432x288 with 2 Axes>"
      ]
     },
     "metadata": {
      "needs_background": "light"
     },
     "output_type": "display_data"
    },
    {
     "name": "stdout",
     "output_type": "stream",
     "text": [
      "Classification Report: \n",
      "              precision    recall  f1-score   support\n",
      "\n",
      "           0       0.50      1.00      0.67        46\n",
      "           1       0.00      0.00      0.00        46\n",
      "\n",
      "    accuracy                           0.50        92\n",
      "   macro avg       0.25      0.50      0.33        92\n",
      "weighted avg       0.25      0.50      0.33        92\n",
      "\n",
      "Accuracy:  0.5\n"
     ]
    }
   ],
   "source": [
    "# testing the model\n",
    "rus_svm_ypred = rus_svm_clf.predict(rusX_test)\n",
    "# taking the \n",
    "rus_svm_result = confusion_matrix(rusy_test, rus_svm_ypred)\n",
    "group_counts = [\"{0:0.0f}\".format(value) for value in rus_svm_result.flatten()]\n",
    "\n",
    "group_percentages = [\"{0:.2%}\".format(value) for value in\n",
    "                     rus_svm_result.flatten()/np.sum(rus_svm_result)]\n",
    "\n",
    "labels = [f\"{v1}\\n{v2}\\n{v3}\" for v1, v2, v3 in\n",
    "          zip(group_names,group_counts,group_percentages)]\n",
    "\n",
    "labels = np.asarray(labels).reshape(2,2)\n",
    "ax = sns.heatmap(rus_svm_result, annot=labels, fmt='', cmap='Blues')\n",
    "\n",
    "ax.set_title('Seaborn Confusion Matrix with labels\\n\\n');\n",
    "ax.set_xlabel('\\nPredicted Values')\n",
    "ax.set_ylabel('Actual Values ');\n",
    "\n",
    "## Ticket labels - List must be in alphabetical order\n",
    "ax.xaxis.set_ticklabels(['False','True'])\n",
    "ax.yaxis.set_ticklabels(['False','True'])\n",
    "\n",
    "## Display the visualization of the Confusion Matrix.\n",
    "plt.show()\n",
    "\n",
    "\n",
    "rus_svm_result1 = classification_report(rusy_test, rus_svm_ypred)\n",
    "print(\"Classification Report: \")\n",
    "print(rus_svm_result1)\n",
    "\n",
    "rus_svm_result2 = accuracy_score(rusy_test, rus_svm_ypred)\n",
    "print(\"Accuracy: \", rus_svm_result2)"
   ]
  },
  {
   "cell_type": "markdown",
   "metadata": {},
   "source": [
    ">Output data visualization settings"
   ]
  },
  {
   "cell_type": "markdown",
   "metadata": {},
   "source": [
    ">**Handling data imbalance using oversampling**"
   ]
  },
  {
   "cell_type": "code",
   "execution_count": null,
   "metadata": {},
   "outputs": [],
   "source": [
    "from imblearn.over_sampling import RandomOverSampler\n",
    "ros = RandomOverSampler(random_state=42)\n",
    "\n",
    "# fit predictor and target variablex_ros, y_ros = ros.fit_resample(x, y)\n",
    "x_ros, y_ros = ros.fit_resample(fresh_x, fresh_y)\n",
    "\n"
   ]
  },
  {
   "cell_type": "code",
   "execution_count": 82,
   "metadata": {},
   "outputs": [
    {
     "name": "stdout",
     "output_type": "stream",
     "text": [
      "Confusion Matrix: \n",
      "[[40 38]\n",
      " [54 46]]\n"
     ]
    },
    {
     "data": {
      "image/png": "[encoded data removed]",
      "text/plain": [
       "<Figure size 432x288 with 2 Axes>"
      ]
     },
     "metadata": {
      "needs_background": "light"
     },
     "output_type": "display_data"
    },
    {
     "name": "stdout",
     "output_type": "stream",
     "text": [
      "Classification Report: \n",
      "              precision    recall  f1-score   support\n",
      "\n",
      "           0       0.43      0.51      0.47        78\n",
      "           1       0.55      0.46      0.50       100\n",
      "\n",
      "    accuracy                           0.48       178\n",
      "   macro avg       0.49      0.49      0.48       178\n",
      "weighted avg       0.49      0.48      0.48       178\n",
      "\n",
      "Accuracy:  0.48314606741573035\n"
     ]
    }
   ],
   "source": [
    "rosX_train, rosX_test, rosy_train, rosy_test = train_test_split(x_ros, y_ros, test_size=0.2, random_state=1)\n",
    "ros_svm_clf = svm.SVC()\n",
    "ros_svm_clf.fit(rosX_train, rosy_train)\n",
    "# print('Original dataset shape', Counter(y))\n",
    "# print('Resample dataset shape', Counter(y_ros))\n",
    "\n",
    "# testing the model\n",
    "ros_svm_ypred = ros_svm_clf.predict(rosX_test)\n",
    "# taking the \n",
    "ros_svm_result = confusion_matrix(rosy_test, ros_svm_ypred)\n",
    "\n",
    "group_counts = [\"{0:0.0f}\".format(value) for value in ros_svm_result.flatten()]\n",
    "\n",
    "group_percentages = [\"{0:.2%}\".format(value) for value in\n",
    "                     ros_svm_result.flatten()/np.sum(ros_svm_result)]\n",
    "\n",
    "labels = [f\"{v1}\\n{v2}\\n{v3}\" for v1, v2, v3 in\n",
    "          zip(group_names,group_counts,group_percentages)]\n",
    "\n",
    "labels = np.asarray(labels).reshape(2,2)\n",
    "ax = sns.heatmap(ros_svm_result, annot=labels, fmt='', cmap='Blues')\n",
    "\n",
    "ax.set_title('Seaborn Confusion Matrix with labels\\n\\n');\n",
    "ax.set_xlabel('\\nPredicted Values')\n",
    "ax.set_ylabel('Actual Values ');\n",
    "\n",
    "## Ticket labels - List must be in alphabetical order\n",
    "ax.xaxis.set_ticklabels(['False','True'])\n",
    "ax.yaxis.set_ticklabels(['False','True'])\n",
    "\n",
    "## Display the visualization of the Confusion Matrix.\n",
    "plt.show()\n",
    "\n",
    "ros_svm_result1 = classification_report(rosy_test, ros_svm_ypred)\n",
    "print(\"Classification Report: \")\n",
    "print(ros_svm_result1)\n",
    "\n",
    "ros_svm_result2 = accuracy_score(rosy_test, ros_svm_ypred)\n",
    "print(\"Accuracy: \", ros_svm_result2)\n"
   ]
  },
  {
   "cell_type": "code",
   "execution_count": 47,
   "metadata": {},
   "outputs": [],
   "source": [
    "rosAll = pd.concat([x_ros, y_ros], ignore_index=True, sort=False)"
   ]
  },
  {
   "cell_type": "code",
   "execution_count": 53,
   "metadata": {},
   "outputs": [],
   "source": [
    "rosAll  = x_ros.copy()\n",
    "rosAll = rosAll.join(y_ros)\n",
    "# x_ros.dtype\n"
   ]
  },
  {
   "cell_type": "code",
   "execution_count": 54,
   "metadata": {},
   "outputs": [],
   "source": [
    "rosAll.to_excel(\"./data/rosAll.xlsx\")"
   ]
  },
  {
   "cell_type": "code",
   "execution_count": 55,
   "metadata": {},
   "outputs": [],
   "source": [
    "# join and save the random undersampled data dataframe\n",
    "rusAll  = x_rus.copy()\n",
    "rusAll = rusAll.join(y_rus)\n",
    "rusAll.to_excel(\"./data/rusAll.xlsx\")\n"
   ]
  },
  {
   "cell_type": "markdown",
   "metadata": {},
   "source": [
    ">**Decision Tree**\n",
    "Using oversampled data"
   ]
  },
  {
   "cell_type": "code",
   "execution_count": null,
   "metadata": {},
   "outputs": [],
   "source": [
    "from sklearn.model_selection import cross_val_score\n",
    "from sklearn.tree import DecisionTreeClassifier\n",
    "from sklearn import tree\n",
    "# dtree_rus = DecisionTreeClassifier(random_state=0)\n",
    "# cross_val_score(dtree_rus, x_rus, y_rus, cv=10)\n",
    "dtree_clf_rus = tree.DecisionTreeClassifier()\n",
    "dtree_clf_rus = dtree_clf_rus.fit(x_rus, y_rus)\n",
    "\n",
    "rosX_train, rosX_test, rosy_train, rosy_test"
   ]
  },
  {
   "cell_type": "code",
   "execution_count": 84,
   "metadata": {},
   "outputs": [
    {
     "data": {
      "image/png": "[encoded data removed]",
      "text/plain": [
       "<Figure size 432x288 with 2 Axes>"
      ]
     },
     "metadata": {
      "needs_background": "light"
     },
     "output_type": "display_data"
    },
    {
     "name": "stdout",
     "output_type": "stream",
     "text": [
      "Classification Report: \n",
      "              precision    recall  f1-score   support\n",
      "\n",
      "           0       0.62      0.71      0.66        78\n",
      "           1       0.74      0.66      0.70       100\n",
      "\n",
      "    accuracy                           0.68       178\n",
      "   macro avg       0.68      0.68      0.68       178\n",
      "weighted avg       0.69      0.68      0.68       178\n",
      "\n",
      "Accuracy:  0.6797752808988764\n"
     ]
    }
   ],
   "source": [
    "# for undersampled data\n",
    "\n",
    "dtree_clf_ros = tree.DecisionTreeClassifier()\n",
    "dtree_clf_ros = dtree_clf_ros.fit(rosX_train, rosy_train)\n",
    "\n",
    "# testing the model\n",
    "ros_dtree_ypred = dtree_clf_ros.predict(rosX_test)\n",
    "# taking the \n",
    "ros_dtree_result = confusion_matrix(rosy_test, ros_dtree_ypred)\n",
    "\n",
    "group_counts = [\"{0:0.0f}\".format(value) for value in ros_dtree_result.flatten()]\n",
    "\n",
    "group_percentages = [\"{0:.2%}\".format(value) for value in\n",
    "                     ros_dtree_result.flatten()/np.sum(ros_dtree_result)]\n",
    "\n",
    "labels = [f\"{v1}\\n{v2}\\n{v3}\" for v1, v2, v3 in\n",
    "          zip(group_names,group_counts,group_percentages)]\n",
    "\n",
    "labels = np.asarray(labels).reshape(2,2)\n",
    "ax = sns.heatmap(ros_dtree_result, annot=labels, fmt='', cmap='Blues')\n",
    "\n",
    "ax.set_title('Seaborn Confusion Matrix with labels\\n\\n');\n",
    "ax.set_xlabel('\\nPredicted Values')\n",
    "ax.set_ylabel('Actual Values ');\n",
    "\n",
    "## Ticket labels - List must be in alphabetical order\n",
    "ax.xaxis.set_ticklabels(['False','True'])\n",
    "ax.yaxis.set_ticklabels(['False','True'])\n",
    "\n",
    "## Display the visualization of the Confusion Matrix.\n",
    "plt.show()\n",
    "\n",
    "ros_dtree_result1 = classification_report(rosy_test, ros_dtree_ypred)\n",
    "print(\"Classification Report: \")\n",
    "print(ros_dtree_result1)\n",
    "\n",
    "ros_dtree_result2 = accuracy_score(rosy_test, ros_dtree_ypred)\n",
    "print(\"Accuracy: \", ros_dtree_result2)"
   ]
  },
  {
   "cell_type": "markdown",
   "metadata": {},
   "source": [
    ">**Machine Learning Perceptron**"
   ]
  },
  {
   "cell_type": "code",
   "execution_count": 85,
   "metadata": {},
   "outputs": [
    {
     "data": {
      "image/png": "[encoded data removed]",
      "text/plain": [
       "<Figure size 432x288 with 2 Axes>"
      ]
     },
     "metadata": {
      "needs_background": "light"
     },
     "output_type": "display_data"
    },
    {
     "name": "stdout",
     "output_type": "stream",
     "text": [
      "Classification Report: \n",
      "              precision    recall  f1-score   support\n",
      "\n",
      "           0       0.63      0.60      0.62       111\n",
      "           1       0.62      0.65      0.64       112\n",
      "\n",
      "    accuracy                           0.63       223\n",
      "   macro avg       0.63      0.63      0.63       223\n",
      "weighted avg       0.63      0.63      0.63       223\n",
      "\n",
      "Accuracy:  0.6278026905829597\n"
     ]
    }
   ],
   "source": [
    "from sklearn.neural_network import MLPClassifier\n",
    "from sklearn.model_selection import train_test_split\n",
    "\n",
    "rosDataAll = pd.read_excel(\"./data/rosAll.xlsx\")\n",
    "y_data = rosDataAll['Outcome']\n",
    "x_data = rosDataAll[[\"Age\", \"Sex\", \"Symptomatic\"]]\n",
    "\n",
    "MinMaxScaler = preprocessing.MinMaxScaler()\n",
    "\n",
    "X_data_minmax = MinMaxScaler.fit_transform(x_data)\n",
    "\n",
    "x_data = pd.DataFrame(X_data_minmax, columns=[\"Age\", \"Sex\", \"Symptomatic\"])\n",
    "\n",
    "rosX_train, rosX_test, rosy_train, rosy_test = train_test_split(x_data, y_data, stratify=y_data, random_state=1)\n",
    "ros_MLP_clf = MLPClassifier(random_state=1, max_iter=300).fit(rosX_train, rosy_train)\n",
    "\n",
    "# ros_MLP_clf.score(rosX_test, rosy_test)\n",
    "\n",
    "# testing the model\n",
    "ros_MLP_ypred = ros_MLP_clf.predict(rosX_test)\n",
    "\n",
    "# taking the \n",
    "ros_MLP_result = confusion_matrix(rosy_test, ros_MLP_ypred)\n",
    "\n",
    "group_counts = [\"{0:0.0f}\".format(value) for value in ros_MLP_result.flatten()]\n",
    "group_percentages = [\"{0:.2%}\".format(value) for value in\n",
    "                     ros_MLP_result.flatten()/np.sum(ros_MLP_result)]\n",
    "labels = [f\"{v1}\\n{v2}\\n{v3}\" for v1, v2, v3 in\n",
    "          zip(group_names,group_counts,group_percentages)]\n",
    "labels = np.asarray(labels).reshape(2,2)\n",
    "ax = sns.heatmap(ros_MLP_result, annot=labels, fmt='', cmap='Blues')\n",
    "ax.set_title('Seaborn Confusion Matrix with labels\\n\\n');\n",
    "ax.set_xlabel('\\nPredicted Values')\n",
    "ax.set_ylabel('Actual Values ');\n",
    "## Ticket labels - List must be in alphabetical order\n",
    "ax.xaxis.set_ticklabels(['False','True'])\n",
    "ax.yaxis.set_ticklabels(['False','True'])\n",
    "## Display the visualization of the Confusion Matrix.\n",
    "plt.show()\n",
    "\n",
    "ros_MLP_result1 = classification_report(rosy_test, ros_MLP_ypred)\n",
    "print(\"Classification Report: \")\n",
    "print(ros_MLP_result1)\n",
    "\n",
    "ros_MLP_result2 = accuracy_score(rosy_test, ros_MLP_ypred)\n",
    "print(\"Accuracy: \", ros_MLP_result2)\n"
   ]
  },
  {
   "cell_type": "markdown",
   "metadata": {},
   "source": [
    "# Ensemble"
   ]
  },
  {
   "cell_type": "code",
   "execution_count": 54,
   "metadata": {},
   "outputs": [
    {
     "name": "stdout",
     "output_type": "stream",
     "text": [
      "Collecting xgboost\n",
      "  Downloading xgboost-1.5.2-py3-none-win_amd64.whl (106.6 MB)\n",
      "Requirement already satisfied: scipy in c:\\users\\jenyo\\anaconda3\\lib\\site-packages (from xgboost) (1.7.1)\n",
      "Requirement already satisfied: numpy in c:\\users\\jenyo\\anaconda3\\lib\\site-packages (from xgboost) (1.20.3)\n",
      "Installing collected packages: xgboost\n",
      "Successfully installed xgboost-1.5.2\n"
     ]
    }
   ],
   "source": [
    "# !pip install xgboost"
   ]
  },
  {
   "cell_type": "markdown",
   "metadata": {},
   "source": [
    "### List of analytics libraries: \n",
    "Sklearn 0.23.2<br>\n",
    "XGBoost 1.3.3<br>\n",
    "Pandas 1.1.3<br>\n",
    "Numpy 1.18.5<br>\n",
    "Seaborn 0.11.0"
   ]
  },
  {
   "cell_type": "code",
   "execution_count": 74,
   "metadata": {},
   "outputs": [
    {
     "data": {
      "text/html": [
       "        <script type=\"text/javascript\">\n",
       "        window.PlotlyConfig = {MathJaxConfig: 'local'};\n",
       "        if (window.MathJax) {MathJax.Hub.Config({SVG: {font: \"STIX-Web\"}});}\n",
       "        if (typeof require !== 'undefined') {\n",
       "        require.undef(\"plotly\");\n",
       "        requirejs.config({\n",
       "            paths: {\n",
       "                'plotly': ['https://cdn.plot.ly/plotly-2.9.0.min']\n",
       "            }\n",
       "        });\n",
       "        require(['plotly'], function(Plotly) {\n",
       "            window._Plotly = Plotly;\n",
       "        });\n",
       "        }\n",
       "        </script>\n",
       "        "
      ]
     },
     "metadata": {},
     "output_type": "display_data"
    }
   ],
   "source": [
    "import sklearn\n",
    "import xgboost as xgb\n",
    "import numpy as np\n",
    "import pandas as pd\n",
    "import re\n",
    "import seaborn as sns\n",
    "import matplotlib.pyplot as plt\n",
    "%matplotlib inline\n",
    "import plotly.offline as py\n",
    "py.init_notebook_mode(connected=True)\n",
    "import plotly.graph_objs as go\n",
    "import plotly.tools as tls"
   ]
  },
  {
   "cell_type": "code",
   "execution_count": 75,
   "metadata": {},
   "outputs": [],
   "source": [
    "# ML Algorithms used \n",
    "from sklearn.ensemble import AdaBoostClassifier\n",
    "from sklearn.ensemble import RandomForestClassifier\n",
    "from sklearn.ensemble import GradientBoostingClassifier\n",
    "from sklearn.ensemble import ExtraTreesClassifier\n",
    "from sklearn.model_selection import KFold\n",
    "from sklearn.model_selection import cross_val_score\n",
    "from sklearn.model_selection import cross_val_predict\n",
    "from sklearn.svm import SVC\n",
    "from sklearn.model_selection import train_test_split\n",
    "from sklearn.datasets import make_blobs\n"
   ]
  },
  {
   "cell_type": "markdown",
   "metadata": {},
   "source": [
    "## Dataset Loading and EDA"
   ]
  },
  {
   "cell_type": "code",
   "execution_count": 80,
   "metadata": {},
   "outputs": [
    {
     "data": {
      "text/html": [
       "<div>\n",
       "<style scoped>\n",
       "    .dataframe tbody tr th:only-of-type {\n",
       "        vertical-align: middle;\n",
       "    }\n",
       "\n",
       "    .dataframe tbody tr th {\n",
       "        vertical-align: top;\n",
       "    }\n",
       "\n",
       "    .dataframe thead th {\n",
       "        text-align: right;\n",
       "    }\n",
       "</style>\n",
       "<table border=\"1\" class=\"dataframe\">\n",
       "  <thead>\n",
       "    <tr style=\"text-align: right;\">\n",
       "      <th></th>\n",
       "      <th>Age</th>\n",
       "      <th>Sex</th>\n",
       "      <th>Symptomatic</th>\n",
       "      <th>Outcome</th>\n",
       "    </tr>\n",
       "  </thead>\n",
       "  <tbody>\n",
       "    <tr>\n",
       "      <th>0</th>\n",
       "      <td>48</td>\n",
       "      <td>0</td>\n",
       "      <td>0</td>\n",
       "      <td>0</td>\n",
       "    </tr>\n",
       "    <tr>\n",
       "      <th>1</th>\n",
       "      <td>16</td>\n",
       "      <td>1</td>\n",
       "      <td>0</td>\n",
       "      <td>0</td>\n",
       "    </tr>\n",
       "    <tr>\n",
       "      <th>2</th>\n",
       "      <td>63</td>\n",
       "      <td>0</td>\n",
       "      <td>1</td>\n",
       "      <td>1</td>\n",
       "    </tr>\n",
       "    <tr>\n",
       "      <th>3</th>\n",
       "      <td>39</td>\n",
       "      <td>1</td>\n",
       "      <td>0</td>\n",
       "      <td>0</td>\n",
       "    </tr>\n",
       "    <tr>\n",
       "      <th>4</th>\n",
       "      <td>56</td>\n",
       "      <td>0</td>\n",
       "      <td>1</td>\n",
       "      <td>0</td>\n",
       "    </tr>\n",
       "  </tbody>\n",
       "</table>\n",
       "</div>"
      ],
      "text/plain": [
       "   Age  Sex  Symptomatic  Outcome\n",
       "0   48    0            0        0\n",
       "1   16    1            0        0\n",
       "2   63    0            1        1\n",
       "3   39    1            0        0\n",
       "4   56    0            1        0"
      ]
     },
     "execution_count": 80,
     "metadata": {},
     "output_type": "execute_result"
    }
   ],
   "source": [
    "# Load in the train and test dataset\n",
    "data = pd.read_excel(\"./data/rosAll.xlsx\")\n",
    "train = data.iloc[:712, 1:]\n",
    "test = data.iloc[713:, 1:]\n",
    "\n",
    "train.head(5)"
   ]
  },
  {
   "cell_type": "code",
   "execution_count": 81,
   "metadata": {},
   "outputs": [
    {
     "name": "stdout",
     "output_type": "stream",
     "text": [
      "<class 'pandas.core.frame.DataFrame'>\n",
      "RangeIndex: 712 entries, 0 to 711\n",
      "Data columns (total 4 columns):\n",
      " #   Column       Non-Null Count  Dtype\n",
      "---  ------       --------------  -----\n",
      " 0   Age          712 non-null    int64\n",
      " 1   Sex          712 non-null    int64\n",
      " 2   Symptomatic  712 non-null    int64\n",
      " 3   Outcome      712 non-null    int64\n",
      "dtypes: int64(4)\n",
      "memory usage: 22.4 KB\n"
     ]
    }
   ],
   "source": [
    "train.info()"
   ]
  },
  {
   "cell_type": "code",
   "execution_count": 82,
   "metadata": {},
   "outputs": [
    {
     "data": {
      "text/plain": [
       "Age            int64\n",
       "Sex            int64\n",
       "Symptomatic    int64\n",
       "Outcome        int64\n",
       "dtype: object"
      ]
     },
     "execution_count": 82,
     "metadata": {},
     "output_type": "execute_result"
    }
   ],
   "source": [
    "train.dtypes"
   ]
  },
  {
   "cell_type": "code",
   "execution_count": 83,
   "metadata": {},
   "outputs": [
    {
     "data": {
      "text/plain": [
       "<bound method NDFrame.describe of      Age  Sex  Symptomatic  Outcome\n",
       "0     48    0            0        0\n",
       "1     16    1            0        0\n",
       "2     63    0            1        1\n",
       "3     39    1            0        0\n",
       "4     56    0            1        0\n",
       "..   ...  ...          ...      ...\n",
       "707   20    1            0        1\n",
       "708   54    0            0        1\n",
       "709   27    0            0        1\n",
       "710   30    1            0        1\n",
       "711   38    1            0        1\n",
       "\n",
       "[712 rows x 4 columns]>"
      ]
     },
     "execution_count": 83,
     "metadata": {},
     "output_type": "execute_result"
    }
   ],
   "source": [
    "train.describe"
   ]
  },
  {
   "cell_type": "markdown",
   "metadata": {},
   "source": [
    "## Visualizing the data properties"
   ]
  },
  {
   "cell_type": "code",
   "execution_count": 84,
   "metadata": {},
   "outputs": [
    {
     "data": {
      "text/plain": [
       "Series([], dtype: float64)"
      ]
     },
     "execution_count": 84,
     "metadata": {},
     "output_type": "execute_result"
    }
   ],
   "source": [
    "# Checking the number of rows having null values\n",
    "train[train.columns[train.isnull().any()]].isnull().sum()"
   ]
  },
  {
   "cell_type": "code",
   "execution_count": 85,
   "metadata": {},
   "outputs": [
    {
     "name": "stdout",
     "output_type": "stream",
     "text": [
      "0    0.625\n",
      "1    0.375\n",
      "Name: Outcome, dtype: float64\n"
     ]
    },
    {
     "data": {
      "image/png": "[encoded data removed]",
      "text/plain": [
       "<Figure size 432x288 with 1 Axes>"
      ]
     },
     "metadata": {
      "needs_background": "light"
     },
     "output_type": "display_data"
    }
   ],
   "source": [
    "print(train['Outcome'].value_counts()/len(train))\n",
    "fig, ax = plt.subplots()\n",
    "markers = ['x', 'o']\n",
    "for i in range(2):\n",
    "    if i == 0:\n",
    "        color = 'red'\n",
    "    else: color = 'blue'\n",
    "    train[train['Outcome'].eq(i)].plot.scatter(x='Age', y='Outcome', marker=markers[i], color = color, ax=ax)"
   ]
  },
  {
   "cell_type": "code",
   "execution_count": 86,
   "metadata": {},
   "outputs": [
    {
     "data": {
      "text/plain": [
       "<AxesSubplot:>"
      ]
     },
     "execution_count": 86,
     "metadata": {},
     "output_type": "execute_result"
    },
    {
     "data": {
      "image/png": "[encoded data removed]",
      "text/plain": [
       "<Figure size 432x288 with 1 Axes>"
      ]
     },
     "metadata": {
      "needs_background": "light"
     },
     "output_type": "display_data"
    }
   ],
   "source": [
    "train['Age'].hist()"
   ]
  },
  {
   "cell_type": "code",
   "execution_count": 87,
   "metadata": {},
   "outputs": [
    {
     "name": "stderr",
     "output_type": "stream",
     "text": [
      "C:\\Users\\Jenyo\\anaconda3\\lib\\site-packages\\seaborn\\distributions.py:2619: FutureWarning:\n",
      "\n",
      "`distplot` is a deprecated function and will be removed in a future version. Please adapt your code to use either `displot` (a figure-level function with similar flexibility) or `histplot` (an axes-level function for histograms).\n",
      "\n",
      "C:\\Users\\Jenyo\\anaconda3\\lib\\site-packages\\seaborn\\distributions.py:2619: FutureWarning:\n",
      "\n",
      "`distplot` is a deprecated function and will be removed in a future version. Please adapt your code to use either `displot` (a figure-level function with similar flexibility) or `histplot` (an axes-level function for histograms).\n",
      "\n"
     ]
    },
    {
     "data": {
      "text/plain": [
       "<seaborn.axisgrid.FacetGrid at 0x18345c06fa0>"
      ]
     },
     "execution_count": 87,
     "metadata": {},
     "output_type": "execute_result"
    },
    {
     "data": {
      "image/png": "[encoded data removed]",
      "text/plain": [
       "<Figure size 432x216 with 2 Axes>"
      ]
     },
     "metadata": {
      "needs_background": "light"
     },
     "output_type": "display_data"
    }
   ],
   "source": [
    "# Age/survived columns comparison\n",
    "graph = sns.FacetGrid(train, col=\"Outcome\")\n",
    "graph.map(sns.distplot, \"Age\")"
   ]
  },
  {
   "cell_type": "code",
   "execution_count": 88,
   "metadata": {},
   "outputs": [
    {
     "data": {
      "text/plain": [
       "Text(0, 0.5, 'Probability')"
      ]
     },
     "execution_count": 88,
     "metadata": {},
     "output_type": "execute_result"
    },
    {
     "data": {
      "image/png": "[encoded data removed]",
      "text/plain": [
       "<Figure size 432x288 with 1 Axes>"
      ]
     },
     "metadata": {
      "needs_background": "light"
     },
     "output_type": "display_data"
    }
   ],
   "source": [
    "# Probability of infection based on symptomatic display\n",
    "graph = sns.barplot(x=\"Symptomatic\", y=\"Outcome\", data=train)\n",
    "graph.set_ylabel(\"Probability\")"
   ]
  },
  {
   "cell_type": "markdown",
   "metadata": {},
   "source": [
    "## Feature Exploration, Engineering and Cleaning"
   ]
  },
  {
   "cell_type": "code",
   "execution_count": 89,
   "metadata": {},
   "outputs": [],
   "source": [
    "# Applying the pipeline on training/testing data\n",
    "full_dataset=[train, test]"
   ]
  },
  {
   "cell_type": "code",
   "execution_count": 90,
   "metadata": {},
   "outputs": [
    {
     "data": {
      "text/plain": [
       "Index(['Age', 'Sex', 'Symptomatic', 'Outcome'], dtype='object')"
      ]
     },
     "execution_count": 90,
     "metadata": {},
     "output_type": "execute_result"
    }
   ],
   "source": [
    "train.columns"
   ]
  },
  {
   "cell_type": "markdown",
   "metadata": {},
   "source": [
    "#### Feature Selection"
   ]
  },
  {
   "cell_type": "code",
   "execution_count": 18,
   "metadata": {},
   "outputs": [],
   "source": [
    "#Feature Selection\n",
    "data = data[[\"Age\", \"Sex\", \"Symptomatic\", \"Outcome\"]]\n",
    "X = data.drop([\"Outcome\"], axis=1)\n",
    "y = data[\"Outcome\"]\n",
    "x_train, x_test, y_train, y_test = train_test_split(X, y)"
   ]
  },
  {
   "cell_type": "markdown",
   "metadata": {},
   "source": [
    "#### Visualizations"
   ]
  },
  {
   "cell_type": "code",
   "execution_count": 91,
   "metadata": {},
   "outputs": [
    {
     "data": {
      "text/html": [
       "<div>\n",
       "<style scoped>\n",
       "    .dataframe tbody tr th:only-of-type {\n",
       "        vertical-align: middle;\n",
       "    }\n",
       "\n",
       "    .dataframe tbody tr th {\n",
       "        vertical-align: top;\n",
       "    }\n",
       "\n",
       "    .dataframe thead th {\n",
       "        text-align: right;\n",
       "    }\n",
       "</style>\n",
       "<table border=\"1\" class=\"dataframe\">\n",
       "  <thead>\n",
       "    <tr style=\"text-align: right;\">\n",
       "      <th></th>\n",
       "      <th>Age</th>\n",
       "      <th>Sex</th>\n",
       "      <th>Symptomatic</th>\n",
       "      <th>Outcome</th>\n",
       "    </tr>\n",
       "  </thead>\n",
       "  <tbody>\n",
       "    <tr>\n",
       "      <th>0</th>\n",
       "      <td>48</td>\n",
       "      <td>0</td>\n",
       "      <td>0</td>\n",
       "      <td>0</td>\n",
       "    </tr>\n",
       "    <tr>\n",
       "      <th>1</th>\n",
       "      <td>16</td>\n",
       "      <td>1</td>\n",
       "      <td>0</td>\n",
       "      <td>0</td>\n",
       "    </tr>\n",
       "    <tr>\n",
       "      <th>2</th>\n",
       "      <td>63</td>\n",
       "      <td>0</td>\n",
       "      <td>1</td>\n",
       "      <td>1</td>\n",
       "    </tr>\n",
       "    <tr>\n",
       "      <th>3</th>\n",
       "      <td>39</td>\n",
       "      <td>1</td>\n",
       "      <td>0</td>\n",
       "      <td>0</td>\n",
       "    </tr>\n",
       "    <tr>\n",
       "      <th>4</th>\n",
       "      <td>56</td>\n",
       "      <td>0</td>\n",
       "      <td>1</td>\n",
       "      <td>0</td>\n",
       "    </tr>\n",
       "    <tr>\n",
       "      <th>5</th>\n",
       "      <td>34</td>\n",
       "      <td>1</td>\n",
       "      <td>0</td>\n",
       "      <td>0</td>\n",
       "    </tr>\n",
       "    <tr>\n",
       "      <th>6</th>\n",
       "      <td>85</td>\n",
       "      <td>1</td>\n",
       "      <td>1</td>\n",
       "      <td>1</td>\n",
       "    </tr>\n",
       "    <tr>\n",
       "      <th>7</th>\n",
       "      <td>50</td>\n",
       "      <td>0</td>\n",
       "      <td>0</td>\n",
       "      <td>0</td>\n",
       "    </tr>\n",
       "    <tr>\n",
       "      <th>8</th>\n",
       "      <td>70</td>\n",
       "      <td>1</td>\n",
       "      <td>1</td>\n",
       "      <td>0</td>\n",
       "    </tr>\n",
       "    <tr>\n",
       "      <th>9</th>\n",
       "      <td>74</td>\n",
       "      <td>1</td>\n",
       "      <td>0</td>\n",
       "      <td>1</td>\n",
       "    </tr>\n",
       "  </tbody>\n",
       "</table>\n",
       "</div>"
      ],
      "text/plain": [
       "   Age  Sex  Symptomatic  Outcome\n",
       "0   48    0            0        0\n",
       "1   16    1            0        0\n",
       "2   63    0            1        1\n",
       "3   39    1            0        0\n",
       "4   56    0            1        0\n",
       "5   34    1            0        0\n",
       "6   85    1            1        1\n",
       "7   50    0            0        0\n",
       "8   70    1            1        0\n",
       "9   74    1            0        1"
      ]
     },
     "execution_count": 91,
     "metadata": {},
     "output_type": "execute_result"
    }
   ],
   "source": [
    "train.head(10)"
   ]
  },
  {
   "cell_type": "code",
   "execution_count": 92,
   "metadata": {},
   "outputs": [
    {
     "data": {
      "text/plain": [
       "<AxesSubplot:title={'center':'Pearson correlation of features'}>"
      ]
     },
     "execution_count": 92,
     "metadata": {},
     "output_type": "execute_result"
    },
    {
     "data": {
      "image/png": "[encoded data removed]",
      "text/plain": [
       "<Figure size 1152x1152 with 2 Axes>"
      ]
     },
     "metadata": {
      "needs_background": "light"
     },
     "output_type": "display_data"
    }
   ],
   "source": [
    "colormap = plt.cm.RdBu\n",
    "plt.figure(figsize=(16,16))\n",
    "plt.title('Pearson correlation of features')\n",
    "sns.heatmap(train.astype(float).corr(), annot=True)"
   ]
  },
  {
   "cell_type": "markdown",
   "metadata": {},
   "source": [
    "## Ensembling and Stacking Models"
   ]
  },
  {
   "cell_type": "markdown",
   "metadata": {},
   "source": [
    "We will use different algorithms and techniques; therefore, we will create a model object to increase code reusability."
   ]
  },
  {
   "cell_type": "code",
   "execution_count": 93,
   "metadata": {},
   "outputs": [],
   "source": [
    "# Model Class to be used for different ML algorithms\n",
    "class ClassifierModel(object):\n",
    "    def __init__(self, clf, params=None):\n",
    "        self.clf = clf(**params)\n",
    "\n",
    "    def train(self, x_train, y_train):\n",
    "        self.clf.fit(x_train, y_train)\n",
    "    \n",
    "    def fit(self,x,y):\n",
    "        return self.clf.fit(x,y)\n",
    "    \n",
    "    def feature_importances(self,x,y):\n",
    "        return self.clf.fit(x,y).feature_importances_\n",
    "    \n",
    "    def predict(self, x):\n",
    "        return self.clf.predict(x)\n",
    "        "
   ]
  },
  {
   "cell_type": "code",
   "execution_count": 94,
   "metadata": {},
   "outputs": [],
   "source": [
    "# Create Numpy arrays of train, test and target( Outcome) dataframes to feed into our models \n",
    "y_train = train['Outcome'].ravel()\n",
    "train = train.drop(['Outcome'], axis=1)\n",
    "x_train = train.values # Create an array of the train data\n",
    "x_test = test.values # Creates an array of the test data"
   ]
  },
  {
   "cell_type": "code",
   "execution_count": 96,
   "metadata": {},
   "outputs": [],
   "source": [
    "def trainModel(model, x_train, y_train, x_test, n_folds, seed):\n",
    "    cv = KFold(n_splits= n_folds, random_state=seed)\n",
    "    scores = cross_val_score(model.clf, x_train, y_train, scoring='accuracy', cv=cv, n_jobs=-1)\n",
    "    y_pred = cross_val_predict(model.clf, x_train, y_train, cv=cv, n_jobs=-1)\n",
    "    return scores, y_pred"
   ]
  },
  {
   "cell_type": "markdown",
   "metadata": {},
   "source": [
    "#### Random Forest Classifier"
   ]
  },
  {
   "cell_type": "code",
   "execution_count": 122,
   "metadata": {},
   "outputs": [
    {
     "data": {
      "text/plain": [
       "array([0.65034965, 0.70629371, 0.6971831 , 0.62676056, 0.5       ])"
      ]
     },
     "execution_count": 122,
     "metadata": {},
     "output_type": "execute_result"
    }
   ],
   "source": [
    "# Random Forest parameters\n",
    "rf_params = {\n",
    "    'n_estimators': 400,\n",
    "    'max_depth': 5,\n",
    "    'min_samples_leaf': 3,\n",
    "    'max_features' : 'sqrt',\n",
    "}\n",
    "rfc_model = ClassifierModel(clf=RandomForestClassifier, params=rf_params)\n",
    "rfc_scores, rfc_train_pred = trainModel(rfc_model,x_train, y_train, x_test, 5, None)\n",
    "rfc_scores"
   ]
  },
  {
   "cell_type": "code",
   "execution_count": 98,
   "metadata": {},
   "outputs": [
    {
     "data": {
      "text/plain": [
       "array([0.8033147 , 0.12537295, 0.07131235])"
      ]
     },
     "execution_count": 98,
     "metadata": {},
     "output_type": "execute_result"
    }
   ],
   "source": [
    "# Getting features importance\n",
    "rfc_features = rfc_model.feature_importances(x_train, y_train)\n",
    "rfc_features"
   ]
  },
  {
   "cell_type": "markdown",
   "metadata": {},
   "source": [
    "#### Extra Trees Classifier"
   ]
  },
  {
   "cell_type": "code",
   "execution_count": 103,
   "metadata": {},
   "outputs": [
    {
     "data": {
      "text/plain": [
       "array([0.67832168, 0.62937063, 0.69014085, 0.63380282, 0.3943662 ])"
      ]
     },
     "execution_count": 103,
     "metadata": {},
     "output_type": "execute_result"
    }
   ],
   "source": [
    "# Extra Trees Parameters\n",
    "et_params = {\n",
    "    'n_jobs': -1,\n",
    "    'n_estimators':400,\n",
    "    'max_depth': 5,\n",
    "    'min_samples_leaf': 2,\n",
    "}\n",
    "etc_model = ClassifierModel(clf=ExtraTreesClassifier, params=et_params)\n",
    "etc_scores, etc_train_pred = trainModel(etc_model,x_train, y_train, x_test, 5, None) # Random Forest\n",
    "etc_scores"
   ]
  },
  {
   "cell_type": "code",
   "execution_count": 100,
   "metadata": {},
   "outputs": [
    {
     "data": {
      "text/plain": [
       "array([0.51860106, 0.30171053, 0.17968842])"
      ]
     },
     "execution_count": 100,
     "metadata": {},
     "output_type": "execute_result"
    }
   ],
   "source": [
    "etc_features = etc_model.feature_importances(x_train, y_train)\n",
    "etc_features"
   ]
  },
  {
   "cell_type": "markdown",
   "metadata": {},
   "source": [
    "#### AdaBoost Classifier"
   ]
  },
  {
   "cell_type": "code",
   "execution_count": 105,
   "metadata": {},
   "outputs": [
    {
     "data": {
      "text/plain": [
       "array([0.55944056, 0.62937063, 0.67605634, 0.65492958, 0.42253521])"
      ]
     },
     "execution_count": 105,
     "metadata": {},
     "output_type": "execute_result"
    }
   ],
   "source": [
    "# AdaBoost parameters\n",
    "ada_params = {\n",
    "    'n_estimators': 400,\n",
    "    'learning_rate' : 0.65\n",
    "}\n",
    "ada_model = ClassifierModel(clf=AdaBoostClassifier, params=ada_params)\n",
    "ada_scores, ada_train_pred = trainModel(ada_model,x_train, y_train, x_test, 5, None) # Random Forest\n",
    "ada_scores"
   ]
  },
  {
   "cell_type": "code",
   "execution_count": 104,
   "metadata": {},
   "outputs": [
    {
     "data": {
      "text/plain": [
       "array([0.99  , 0.0075, 0.0025])"
      ]
     },
     "execution_count": 104,
     "metadata": {},
     "output_type": "execute_result"
    }
   ],
   "source": [
    "# Getting features importance\n",
    "ada_features = ada_model.feature_importances(x_train, y_train)\n",
    "ada_features"
   ]
  },
  {
   "cell_type": "markdown",
   "metadata": {},
   "source": [
    "#### XGBoost Classifier"
   ]
  },
  {
   "cell_type": "code",
   "execution_count": 106,
   "metadata": {},
   "outputs": [
    {
     "data": {
      "text/plain": [
       "array([0.59440559, 0.62237762, 0.66901408, 0.5915493 , 0.55633803])"
      ]
     },
     "execution_count": 106,
     "metadata": {},
     "output_type": "execute_result"
    }
   ],
   "source": [
    "# Gradient Boosting parameters\n",
    "gb_params = {\n",
    "    'n_estimators': 400,\n",
    "    'max_depth': 6,\n",
    "}\n",
    "gbc_model = ClassifierModel(clf=GradientBoostingClassifier, params=gb_params)\n",
    "gbc_scores, gbc_train_pred = trainModel(gbc_model,x_train, y_train, x_test, 5, None) # Random Forest\n",
    "gbc_scores"
   ]
  },
  {
   "cell_type": "code",
   "execution_count": 107,
   "metadata": {},
   "outputs": [
    {
     "data": {
      "text/plain": [
       "array([0.77034321, 0.11812762, 0.11152918])"
      ]
     },
     "execution_count": 107,
     "metadata": {},
     "output_type": "execute_result"
    }
   ],
   "source": [
    "# Getting features importances\n",
    "gbc_features = gbc_model.feature_importances(x_train, y_train)\n",
    "gbc_features"
   ]
  },
  {
   "cell_type": "markdown",
   "metadata": {},
   "source": [
    "### Support Vector Classifier"
   ]
  },
  {
   "cell_type": "code",
   "execution_count": 109,
   "metadata": {},
   "outputs": [
    {
     "data": {
      "text/plain": [
       "array([0.77622378, 0.63636364, 0.68309859, 0.67605634, 0.35211268])"
      ]
     },
     "execution_count": 109,
     "metadata": {},
     "output_type": "execute_result"
    }
   ],
   "source": [
    "# Support Vector Classifier Parameters\n",
    "svc_params = {\n",
    "    'kernel': 'linear',\n",
    "    'C': 0.025\n",
    "}\n",
    "svc_model = ClassifierModel(clf=SVC, params=svc_params)\n",
    "svc_scores, svc_train_pred = trainModel(svc_model,x_train, y_train, x_test, 5, None) # Random Forest\n",
    "svc_scores"
   ]
  },
  {
   "cell_type": "markdown",
   "metadata": {},
   "source": [
    "#### Feature importance"
   ]
  },
  {
   "cell_type": "code",
   "execution_count": 113,
   "metadata": {},
   "outputs": [],
   "source": [
    "# Create a dataframe with features\n",
    "feature_dataframe = pd.DataFrame( {\n",
    "    'features': train.columns.values,\n",
    "    'Random Forest feature importances': rfc_features,\n",
    "    'Extra Trees feature importances': etc_features,\n",
    "    'AdaBoost feature importances': ada_features,\n",
    "    'Gradient Boost feature importance': gbc_features\n",
    "\n",
    "})"
   ]
  },
  {
   "cell_type": "code",
   "execution_count": 114,
   "metadata": {},
   "outputs": [
    {
     "name": "stderr",
     "output_type": "stream",
     "text": [
      "C:\\Users\\Jenyo\\AppData\\Local\\Temp/ipykernel_20328/1869061000.py:2: FutureWarning:\n",
      "\n",
      "Dropping of nuisance columns in DataFrame reductions (with 'numeric_only=None') is deprecated; in a future version this will raise TypeError.  Select only valid columns before calling the reduction.\n",
      "\n"
     ]
    },
    {
     "data": {
      "text/html": [
       "<div>\n",
       "<style scoped>\n",
       "    .dataframe tbody tr th:only-of-type {\n",
       "        vertical-align: middle;\n",
       "    }\n",
       "\n",
       "    .dataframe tbody tr th {\n",
       "        vertical-align: top;\n",
       "    }\n",
       "\n",
       "    .dataframe thead th {\n",
       "        text-align: right;\n",
       "    }\n",
       "</style>\n",
       "<table border=\"1\" class=\"dataframe\">\n",
       "  <thead>\n",
       "    <tr style=\"text-align: right;\">\n",
       "      <th></th>\n",
       "      <th>features</th>\n",
       "      <th>Random Forest feature importances</th>\n",
       "      <th>Extra Trees feature importances</th>\n",
       "      <th>AdaBoost feature importances</th>\n",
       "      <th>Gradient Boost feature importance</th>\n",
       "      <th>mean</th>\n",
       "    </tr>\n",
       "  </thead>\n",
       "  <tbody>\n",
       "    <tr>\n",
       "      <th>0</th>\n",
       "      <td>Age</td>\n",
       "      <td>0.803315</td>\n",
       "      <td>0.518601</td>\n",
       "      <td>0.9900</td>\n",
       "      <td>0.770343</td>\n",
       "      <td>0.770565</td>\n",
       "    </tr>\n",
       "    <tr>\n",
       "      <th>1</th>\n",
       "      <td>Sex</td>\n",
       "      <td>0.125373</td>\n",
       "      <td>0.301711</td>\n",
       "      <td>0.0075</td>\n",
       "      <td>0.118128</td>\n",
       "      <td>0.138178</td>\n",
       "    </tr>\n",
       "    <tr>\n",
       "      <th>2</th>\n",
       "      <td>Symptomatic</td>\n",
       "      <td>0.071312</td>\n",
       "      <td>0.179688</td>\n",
       "      <td>0.0025</td>\n",
       "      <td>0.111529</td>\n",
       "      <td>0.091257</td>\n",
       "    </tr>\n",
       "  </tbody>\n",
       "</table>\n",
       "</div>"
      ],
      "text/plain": [
       "      features  ...      mean\n",
       "0          Age  ...  0.770565\n",
       "1          Sex  ...  0.138178\n",
       "2  Symptomatic  ...  0.091257\n",
       "\n",
       "[3 rows x 6 columns]"
      ]
     },
     "execution_count": 114,
     "metadata": {},
     "output_type": "execute_result"
    }
   ],
   "source": [
    "# Create the new column containing the average of values\n",
    "feature_dataframe['mean'] = feature_dataframe.mean(axis=1)\n",
    "feature_dataframe"
   ]
  },
  {
   "cell_type": "code",
   "execution_count": 115,
   "metadata": {},
   "outputs": [
    {
     "data": {
      "application/vnd.plotly.v1+json": {
       "config": {
        "linkText": "Export to plot.ly",
        "plotlyServerURL": "https://plot.ly",
        "showLink": false
       },
       "data": [
        {
         "marker": {
          "color": [
           0.7705647398718305,
           0.13817777367651993,
           0.0912574864516495
          ],
          "colorscale": [
           [
            0,
            "rgb(12,51,131)"
           ],
           [
            0.25,
            "rgb(10,136,186)"
           ],
           [
            0.5,
            "rgb(242,211,56)"
           ],
           [
            0.75,
            "rgb(242,143,56)"
           ],
           [
            1,
            "rgb(217,30,30)"
           ]
          ],
          "reversescale": false,
          "showscale": true
         },
         "opacity": 0.6,
         "type": "bar",
         "width": 0.5,
         "x": [
          "Age",
          "Sex",
          "Symptomatic"
         ],
         "y": [
          0.7705647398718305,
          0.13817777367651993,
          0.0912574864516495
         ]
        }
       ],
       "layout": {
        "autosize": true,
        "hovermode": "closest",
        "showlegend": false,
        "template": {
         "data": {
          "bar": [
           {
            "error_x": {
             "color": "#2a3f5f"
            },
            "error_y": {
             "color": "#2a3f5f"
            },
            "marker": {
             "line": {
              "color": "#E5ECF6",
              "width": 0.5
             },
             "pattern": {
              "fillmode": "overlay",
              "size": 10,
              "solidity": 0.2
             }
            },
            "type": "bar"
           }
          ],
          "barpolar": [
           {
            "marker": {
             "line": {
              "color": "#E5ECF6",
              "width": 0.5
             },
             "pattern": {
              "fillmode": "overlay",
              "size": 10,
              "solidity": 0.2
             }
            },
            "type": "barpolar"
           }
          ],
          "carpet": [
           {
            "aaxis": {
             "endlinecolor": "#2a3f5f",
             "gridcolor": "white",
             "linecolor": "white",
             "minorgridcolor": "white",
             "startlinecolor": "#2a3f5f"
            },
            "baxis": {
             "endlinecolor": "#2a3f5f",
             "gridcolor": "white",
             "linecolor": "white",
             "minorgridcolor": "white",
             "startlinecolor": "#2a3f5f"
            },
            "type": "carpet"
           }
          ],
          "choropleth": [
           {
            "colorbar": {
             "outlinewidth": 0,
             "ticks": ""
            },
            "type": "choropleth"
           }
          ],
          "contour": [
           {
            "colorbar": {
             "outlinewidth": 0,
             "ticks": ""
            },
            "colorscale": [
             [
              0,
              "#0d0887"
             ],
             [
              0.1111111111111111,
              "#46039f"
             ],
             [
              0.2222222222222222,
              "#7201a8"
             ],
             [
              0.3333333333333333,
              "#9c179e"
             ],
             [
              0.4444444444444444,
              "#bd3786"
             ],
             [
              0.5555555555555556,
              "#d8576b"
             ],
             [
              0.6666666666666666,
              "#ed7953"
             ],
             [
              0.7777777777777778,
              "#fb9f3a"
             ],
             [
              0.8888888888888888,
              "#fdca26"
             ],
             [
              1,
              "#f0f921"
             ]
            ],
            "type": "contour"
           }
          ],
          "contourcarpet": [
           {
            "colorbar": {
             "outlinewidth": 0,
             "ticks": ""
            },
            "type": "contourcarpet"
           }
          ],
          "heatmap": [
           {
            "colorbar": {
             "outlinewidth": 0,
             "ticks": ""
            },
            "colorscale": [
             [
              0,
              "#0d0887"
             ],
             [
              0.1111111111111111,
              "#46039f"
             ],
             [
              0.2222222222222222,
              "#7201a8"
             ],
             [
              0.3333333333333333,
              "#9c179e"
             ],
             [
              0.4444444444444444,
              "#bd3786"
             ],
             [
              0.5555555555555556,
              "#d8576b"
             ],
             [
              0.6666666666666666,
              "#ed7953"
             ],
             [
              0.7777777777777778,
              "#fb9f3a"
             ],
             [
              0.8888888888888888,
              "#fdca26"
             ],
             [
              1,
              "#f0f921"
             ]
            ],
            "type": "heatmap"
           }
          ],
          "heatmapgl": [
           {
            "colorbar": {
             "outlinewidth": 0,
             "ticks": ""
            },
            "colorscale": [
             [
              0,
              "#0d0887"
             ],
             [
              0.1111111111111111,
              "#46039f"
             ],
             [
              0.2222222222222222,
              "#7201a8"
             ],
             [
              0.3333333333333333,
              "#9c179e"
             ],
             [
              0.4444444444444444,
              "#bd3786"
             ],
             [
              0.5555555555555556,
              "#d8576b"
             ],
             [
              0.6666666666666666,
              "#ed7953"
             ],
             [
              0.7777777777777778,
              "#fb9f3a"
             ],
             [
              0.8888888888888888,
              "#fdca26"
             ],
             [
              1,
              "#f0f921"
             ]
            ],
            "type": "heatmapgl"
           }
          ],
          "histogram": [
           {
            "marker": {
             "pattern": {
              "fillmode": "overlay",
              "size": 10,
              "solidity": 0.2
             }
            },
            "type": "histogram"
           }
          ],
          "histogram2d": [
           {
            "colorbar": {
             "outlinewidth": 0,
             "ticks": ""
            },
            "colorscale": [
             [
              0,
              "#0d0887"
             ],
             [
              0.1111111111111111,
              "#46039f"
             ],
             [
              0.2222222222222222,
              "#7201a8"
             ],
             [
              0.3333333333333333,
              "#9c179e"
             ],
             [
              0.4444444444444444,
              "#bd3786"
             ],
             [
              0.5555555555555556,
              "#d8576b"
             ],
             [
              0.6666666666666666,
              "#ed7953"
             ],
             [
              0.7777777777777778,
              "#fb9f3a"
             ],
             [
              0.8888888888888888,
              "#fdca26"
             ],
             [
              1,
              "#f0f921"
             ]
            ],
            "type": "histogram2d"
           }
          ],
          "histogram2dcontour": [
           {
            "colorbar": {
             "outlinewidth": 0,
             "ticks": ""
            },
            "colorscale": [
             [
              0,
              "#0d0887"
             ],
             [
              0.1111111111111111,
              "#46039f"
             ],
             [
              0.2222222222222222,
              "#7201a8"
             ],
             [
              0.3333333333333333,
              "#9c179e"
             ],
             [
              0.4444444444444444,
              "#bd3786"
             ],
             [
              0.5555555555555556,
              "#d8576b"
             ],
             [
              0.6666666666666666,
              "#ed7953"
             ],
             [
              0.7777777777777778,
              "#fb9f3a"
             ],
             [
              0.8888888888888888,
              "#fdca26"
             ],
             [
              1,
              "#f0f921"
             ]
            ],
            "type": "histogram2dcontour"
           }
          ],
          "mesh3d": [
           {
            "colorbar": {
             "outlinewidth": 0,
             "ticks": ""
            },
            "type": "mesh3d"
           }
          ],
          "parcoords": [
           {
            "line": {
             "colorbar": {
              "outlinewidth": 0,
              "ticks": ""
             }
            },
            "type": "parcoords"
           }
          ],
          "pie": [
           {
            "automargin": true,
            "type": "pie"
           }
          ],
          "scatter": [
           {
            "marker": {
             "colorbar": {
              "outlinewidth": 0,
              "ticks": ""
             }
            },
            "type": "scatter"
           }
          ],
          "scatter3d": [
           {
            "line": {
             "colorbar": {
              "outlinewidth": 0,
              "ticks": ""
             }
            },
            "marker": {
             "colorbar": {
              "outlinewidth": 0,
              "ticks": ""
             }
            },
            "type": "scatter3d"
           }
          ],
          "scattercarpet": [
           {
            "marker": {
             "colorbar": {
              "outlinewidth": 0,
              "ticks": ""
             }
            },
            "type": "scattercarpet"
           }
          ],
          "scattergeo": [
           {
            "marker": {
             "colorbar": {
              "outlinewidth": 0,
              "ticks": ""
             }
            },
            "type": "scattergeo"
           }
          ],
          "scattergl": [
           {
            "marker": {
             "colorbar": {
              "outlinewidth": 0,
              "ticks": ""
             }
            },
            "type": "scattergl"
           }
          ],
          "scattermapbox": [
           {
            "marker": {
             "colorbar": {
              "outlinewidth": 0,
              "ticks": ""
             }
            },
            "type": "scattermapbox"
           }
          ],
          "scatterpolar": [
           {
            "marker": {
             "colorbar": {
              "outlinewidth": 0,
              "ticks": ""
             }
            },
            "type": "scatterpolar"
           }
          ],
          "scatterpolargl": [
           {
            "marker": {
             "colorbar": {
              "outlinewidth": 0,
              "ticks": ""
             }
            },
            "type": "scatterpolargl"
           }
          ],
          "scatterternary": [
           {
            "marker": {
             "colorbar": {
              "outlinewidth": 0,
              "ticks": ""
             }
            },
            "type": "scatterternary"
           }
          ],
          "surface": [
           {
            "colorbar": {
             "outlinewidth": 0,
             "ticks": ""
            },
            "colorscale": [
             [
              0,
              "#0d0887"
             ],
             [
              0.1111111111111111,
              "#46039f"
             ],
             [
              0.2222222222222222,
              "#7201a8"
             ],
             [
              0.3333333333333333,
              "#9c179e"
             ],
             [
              0.4444444444444444,
              "#bd3786"
             ],
             [
              0.5555555555555556,
              "#d8576b"
             ],
             [
              0.6666666666666666,
              "#ed7953"
             ],
             [
              0.7777777777777778,
              "#fb9f3a"
             ],
             [
              0.8888888888888888,
              "#fdca26"
             ],
             [
              1,
              "#f0f921"
             ]
            ],
            "type": "surface"
           }
          ],
          "table": [
           {
            "cells": {
             "fill": {
              "color": "#EBF0F8"
             },
             "line": {
              "color": "white"
             }
            },
            "header": {
             "fill": {
              "color": "#C8D4E3"
             },
             "line": {
              "color": "white"
             }
            },
            "type": "table"
           }
          ]
         },
         "layout": {
          "annotationdefaults": {
           "arrowcolor": "#2a3f5f",
           "arrowhead": 0,
           "arrowwidth": 1
          },
          "autotypenumbers": "strict",
          "coloraxis": {
           "colorbar": {
            "outlinewidth": 0,
            "ticks": ""
           }
          },
          "colorscale": {
           "diverging": [
            [
             0,
             "#8e0152"
            ],
            [
             0.1,
             "#c51b7d"
            ],
            [
             0.2,
             "#de77ae"
            ],
            [
             0.3,
             "#f1b6da"
            ],
            [
             0.4,
             "#fde0ef"
            ],
            [
             0.5,
             "#f7f7f7"
            ],
            [
             0.6,
             "#e6f5d0"
            ],
            [
             0.7,
             "#b8e186"
            ],
            [
             0.8,
             "#7fbc41"
            ],
            [
             0.9,
             "#4d9221"
            ],
            [
             1,
             "#276419"
            ]
           ],
           "sequential": [
            [
             0,
             "#0d0887"
            ],
            [
             0.1111111111111111,
             "#46039f"
            ],
            [
             0.2222222222222222,
             "#7201a8"
            ],
            [
             0.3333333333333333,
             "#9c179e"
            ],
            [
             0.4444444444444444,
             "#bd3786"
            ],
            [
             0.5555555555555556,
             "#d8576b"
            ],
            [
             0.6666666666666666,
             "#ed7953"
            ],
            [
             0.7777777777777778,
             "#fb9f3a"
            ],
            [
             0.8888888888888888,
             "#fdca26"
            ],
            [
             1,
             "#f0f921"
            ]
           ],
           "sequentialminus": [
            [
             0,
             "#0d0887"
            ],
            [
             0.1111111111111111,
             "#46039f"
            ],
            [
             0.2222222222222222,
             "#7201a8"
            ],
            [
             0.3333333333333333,
             "#9c179e"
            ],
            [
             0.4444444444444444,
             "#bd3786"
            ],
            [
             0.5555555555555556,
             "#d8576b"
            ],
            [
             0.6666666666666666,
             "#ed7953"
            ],
            [
             0.7777777777777778,
             "#fb9f3a"
            ],
            [
             0.8888888888888888,
             "#fdca26"
            ],
            [
             1,
             "#f0f921"
            ]
           ]
          },
          "colorway": [
           "#636efa",
           "#EF553B",
           "#00cc96",
           "#ab63fa",
           "#FFA15A",
           "#19d3f3",
           "#FF6692",
           "#B6E880",
           "#FF97FF",
           "#FECB52"
          ],
          "font": {
           "color": "#2a3f5f"
          },
          "geo": {
           "bgcolor": "white",
           "lakecolor": "white",
           "landcolor": "#E5ECF6",
           "showlakes": true,
           "showland": true,
           "subunitcolor": "white"
          },
          "hoverlabel": {
           "align": "left"
          },
          "hovermode": "closest",
          "mapbox": {
           "style": "light"
          },
          "paper_bgcolor": "white",
          "plot_bgcolor": "#E5ECF6",
          "polar": {
           "angularaxis": {
            "gridcolor": "white",
            "linecolor": "white",
            "ticks": ""
           },
           "bgcolor": "#E5ECF6",
           "radialaxis": {
            "gridcolor": "white",
            "linecolor": "white",
            "ticks": ""
           }
          },
          "scene": {
           "xaxis": {
            "backgroundcolor": "#E5ECF6",
            "gridcolor": "white",
            "gridwidth": 2,
            "linecolor": "white",
            "showbackground": true,
            "ticks": "",
            "zerolinecolor": "white"
           },
           "yaxis": {
            "backgroundcolor": "#E5ECF6",
            "gridcolor": "white",
            "gridwidth": 2,
            "linecolor": "white",
            "showbackground": true,
            "ticks": "",
            "zerolinecolor": "white"
           },
           "zaxis": {
            "backgroundcolor": "#E5ECF6",
            "gridcolor": "white",
            "gridwidth": 2,
            "linecolor": "white",
            "showbackground": true,
            "ticks": "",
            "zerolinecolor": "white"
           }
          },
          "shapedefaults": {
           "line": {
            "color": "#2a3f5f"
           }
          },
          "ternary": {
           "aaxis": {
            "gridcolor": "white",
            "linecolor": "white",
            "ticks": ""
           },
           "baxis": {
            "gridcolor": "white",
            "linecolor": "white",
            "ticks": ""
           },
           "bgcolor": "#E5ECF6",
           "caxis": {
            "gridcolor": "white",
            "linecolor": "white",
            "ticks": ""
           }
          },
          "title": {
           "x": 0.05
          },
          "xaxis": {
           "automargin": true,
           "gridcolor": "white",
           "linecolor": "white",
           "ticks": "",
           "title": {
            "standoff": 15
           },
           "zerolinecolor": "white",
           "zerolinewidth": 2
          },
          "yaxis": {
           "automargin": true,
           "gridcolor": "white",
           "linecolor": "white",
           "ticks": "",
           "title": {
            "standoff": 15
           },
           "zerolinecolor": "white",
           "zerolinewidth": 2
          }
         }
        },
        "title": {
         "text": "Barplots of Mean Feature Importance"
        },
        "yaxis": {
         "gridwidth": 2,
         "ticklen": 5,
         "title": {
          "text": "Feature Importance"
         }
        }
       }
      },
      "text/html": [
       "<div>                            <div id=\"3ba25949-bb3c-4aec-9117-ad27ab2cb70e\" class=\"plotly-graph-div\" style=\"height:525px; width:100%;\"></div>            <script type=\"text/javascript\">                require([\"plotly\"], function(Plotly) {                    window.PLOTLYENV=window.PLOTLYENV || {};                                    if (document.getElementById(\"3ba25949-bb3c-4aec-9117-ad27ab2cb70e\")) {                    Plotly.newPlot(                        \"3ba25949-bb3c-4aec-9117-ad27ab2cb70e\",                        [{\"marker\":{\"color\":[0.7705647398718305,0.13817777367651993,0.0912574864516495],\"colorscale\":[[0.0,\"rgb(12,51,131)\"],[0.25,\"rgb(10,136,186)\"],[0.5,\"rgb(242,211,56)\"],[0.75,\"rgb(242,143,56)\"],[1.0,\"rgb(217,30,30)\"]],\"reversescale\":false,\"showscale\":true},\"opacity\":0.6,\"width\":0.5,\"x\":[\"Age\",\"Sex\",\"Symptomatic\"],\"y\":[0.7705647398718305,0.13817777367651993,0.0912574864516495],\"type\":\"bar\"}],                        {\"autosize\":true,\"hovermode\":\"closest\",\"showlegend\":false,\"template\":{\"data\":{\"barpolar\":[{\"marker\":{\"line\":{\"color\":\"#E5ECF6\",\"width\":0.5},\"pattern\":{\"fillmode\":\"overlay\",\"size\":10,\"solidity\":0.2}},\"type\":\"barpolar\"}],\"bar\":[{\"error_x\":{\"color\":\"#2a3f5f\"},\"error_y\":{\"color\":\"#2a3f5f\"},\"marker\":{\"line\":{\"color\":\"#E5ECF6\",\"width\":0.5},\"pattern\":{\"fillmode\":\"overlay\",\"size\":10,\"solidity\":0.2}},\"type\":\"bar\"}],\"carpet\":[{\"aaxis\":{\"endlinecolor\":\"#2a3f5f\",\"gridcolor\":\"white\",\"linecolor\":\"white\",\"minorgridcolor\":\"white\",\"startlinecolor\":\"#2a3f5f\"},\"baxis\":{\"endlinecolor\":\"#2a3f5f\",\"gridcolor\":\"white\",\"linecolor\":\"white\",\"minorgridcolor\":\"white\",\"startlinecolor\":\"#2a3f5f\"},\"type\":\"carpet\"}],\"choropleth\":[{\"colorbar\":{\"outlinewidth\":0,\"ticks\":\"\"},\"type\":\"choropleth\"}],\"contourcarpet\":[{\"colorbar\":{\"outlinewidth\":0,\"ticks\":\"\"},\"type\":\"contourcarpet\"}],\"contour\":[{\"colorbar\":{\"outlinewidth\":0,\"ticks\":\"\"},\"colorscale\":[[0.0,\"#0d0887\"],[0.1111111111111111,\"#46039f\"],[0.2222222222222222,\"#7201a8\"],[0.3333333333333333,\"#9c179e\"],[0.4444444444444444,\"#bd3786\"],[0.5555555555555556,\"#d8576b\"],[0.6666666666666666,\"#ed7953\"],[0.7777777777777778,\"#fb9f3a\"],[0.8888888888888888,\"#fdca26\"],[1.0,\"#f0f921\"]],\"type\":\"contour\"}],\"heatmapgl\":[{\"colorbar\":{\"outlinewidth\":0,\"ticks\":\"\"},\"colorscale\":[[0.0,\"#0d0887\"],[0.1111111111111111,\"#46039f\"],[0.2222222222222222,\"#7201a8\"],[0.3333333333333333,\"#9c179e\"],[0.4444444444444444,\"#bd3786\"],[0.5555555555555556,\"#d8576b\"],[0.6666666666666666,\"#ed7953\"],[0.7777777777777778,\"#fb9f3a\"],[0.8888888888888888,\"#fdca26\"],[1.0,\"#f0f921\"]],\"type\":\"heatmapgl\"}],\"heatmap\":[{\"colorbar\":{\"outlinewidth\":0,\"ticks\":\"\"},\"colorscale\":[[0.0,\"#0d0887\"],[0.1111111111111111,\"#46039f\"],[0.2222222222222222,\"#7201a8\"],[0.3333333333333333,\"#9c179e\"],[0.4444444444444444,\"#bd3786\"],[0.5555555555555556,\"#d8576b\"],[0.6666666666666666,\"#ed7953\"],[0.7777777777777778,\"#fb9f3a\"],[0.8888888888888888,\"#fdca26\"],[1.0,\"#f0f921\"]],\"type\":\"heatmap\"}],\"histogram2dcontour\":[{\"colorbar\":{\"outlinewidth\":0,\"ticks\":\"\"},\"colorscale\":[[0.0,\"#0d0887\"],[0.1111111111111111,\"#46039f\"],[0.2222222222222222,\"#7201a8\"],[0.3333333333333333,\"#9c179e\"],[0.4444444444444444,\"#bd3786\"],[0.5555555555555556,\"#d8576b\"],[0.6666666666666666,\"#ed7953\"],[0.7777777777777778,\"#fb9f3a\"],[0.8888888888888888,\"#fdca26\"],[1.0,\"#f0f921\"]],\"type\":\"histogram2dcontour\"}],\"histogram2d\":[{\"colorbar\":{\"outlinewidth\":0,\"ticks\":\"\"},\"colorscale\":[[0.0,\"#0d0887\"],[0.1111111111111111,\"#46039f\"],[0.2222222222222222,\"#7201a8\"],[0.3333333333333333,\"#9c179e\"],[0.4444444444444444,\"#bd3786\"],[0.5555555555555556,\"#d8576b\"],[0.6666666666666666,\"#ed7953\"],[0.7777777777777778,\"#fb9f3a\"],[0.8888888888888888,\"#fdca26\"],[1.0,\"#f0f921\"]],\"type\":\"histogram2d\"}],\"histogram\":[{\"marker\":{\"pattern\":{\"fillmode\":\"overlay\",\"size\":10,\"solidity\":0.2}},\"type\":\"histogram\"}],\"mesh3d\":[{\"colorbar\":{\"outlinewidth\":0,\"ticks\":\"\"},\"type\":\"mesh3d\"}],\"parcoords\":[{\"line\":{\"colorbar\":{\"outlinewidth\":0,\"ticks\":\"\"}},\"type\":\"parcoords\"}],\"pie\":[{\"automargin\":true,\"type\":\"pie\"}],\"scatter3d\":[{\"line\":{\"colorbar\":{\"outlinewidth\":0,\"ticks\":\"\"}},\"marker\":{\"colorbar\":{\"outlinewidth\":0,\"ticks\":\"\"}},\"type\":\"scatter3d\"}],\"scattercarpet\":[{\"marker\":{\"colorbar\":{\"outlinewidth\":0,\"ticks\":\"\"}},\"type\":\"scattercarpet\"}],\"scattergeo\":[{\"marker\":{\"colorbar\":{\"outlinewidth\":0,\"ticks\":\"\"}},\"type\":\"scattergeo\"}],\"scattergl\":[{\"marker\":{\"colorbar\":{\"outlinewidth\":0,\"ticks\":\"\"}},\"type\":\"scattergl\"}],\"scattermapbox\":[{\"marker\":{\"colorbar\":{\"outlinewidth\":0,\"ticks\":\"\"}},\"type\":\"scattermapbox\"}],\"scatterpolargl\":[{\"marker\":{\"colorbar\":{\"outlinewidth\":0,\"ticks\":\"\"}},\"type\":\"scatterpolargl\"}],\"scatterpolar\":[{\"marker\":{\"colorbar\":{\"outlinewidth\":0,\"ticks\":\"\"}},\"type\":\"scatterpolar\"}],\"scatter\":[{\"marker\":{\"colorbar\":{\"outlinewidth\":0,\"ticks\":\"\"}},\"type\":\"scatter\"}],\"scatterternary\":[{\"marker\":{\"colorbar\":{\"outlinewidth\":0,\"ticks\":\"\"}},\"type\":\"scatterternary\"}],\"surface\":[{\"colorbar\":{\"outlinewidth\":0,\"ticks\":\"\"},\"colorscale\":[[0.0,\"#0d0887\"],[0.1111111111111111,\"#46039f\"],[0.2222222222222222,\"#7201a8\"],[0.3333333333333333,\"#9c179e\"],[0.4444444444444444,\"#bd3786\"],[0.5555555555555556,\"#d8576b\"],[0.6666666666666666,\"#ed7953\"],[0.7777777777777778,\"#fb9f3a\"],[0.8888888888888888,\"#fdca26\"],[1.0,\"#f0f921\"]],\"type\":\"surface\"}],\"table\":[{\"cells\":{\"fill\":{\"color\":\"#EBF0F8\"},\"line\":{\"color\":\"white\"}},\"header\":{\"fill\":{\"color\":\"#C8D4E3\"},\"line\":{\"color\":\"white\"}},\"type\":\"table\"}]},\"layout\":{\"annotationdefaults\":{\"arrowcolor\":\"#2a3f5f\",\"arrowhead\":0,\"arrowwidth\":1},\"autotypenumbers\":\"strict\",\"coloraxis\":{\"colorbar\":{\"outlinewidth\":0,\"ticks\":\"\"}},\"colorscale\":{\"diverging\":[[0,\"#8e0152\"],[0.1,\"#c51b7d\"],[0.2,\"#de77ae\"],[0.3,\"#f1b6da\"],[0.4,\"#fde0ef\"],[0.5,\"#f7f7f7\"],[0.6,\"#e6f5d0\"],[0.7,\"#b8e186\"],[0.8,\"#7fbc41\"],[0.9,\"#4d9221\"],[1,\"#276419\"]],\"sequential\":[[0.0,\"#0d0887\"],[0.1111111111111111,\"#46039f\"],[0.2222222222222222,\"#7201a8\"],[0.3333333333333333,\"#9c179e\"],[0.4444444444444444,\"#bd3786\"],[0.5555555555555556,\"#d8576b\"],[0.6666666666666666,\"#ed7953\"],[0.7777777777777778,\"#fb9f3a\"],[0.8888888888888888,\"#fdca26\"],[1.0,\"#f0f921\"]],\"sequentialminus\":[[0.0,\"#0d0887\"],[0.1111111111111111,\"#46039f\"],[0.2222222222222222,\"#7201a8\"],[0.3333333333333333,\"#9c179e\"],[0.4444444444444444,\"#bd3786\"],[0.5555555555555556,\"#d8576b\"],[0.6666666666666666,\"#ed7953\"],[0.7777777777777778,\"#fb9f3a\"],[0.8888888888888888,\"#fdca26\"],[1.0,\"#f0f921\"]]},\"colorway\":[\"#636efa\",\"#EF553B\",\"#00cc96\",\"#ab63fa\",\"#FFA15A\",\"#19d3f3\",\"#FF6692\",\"#B6E880\",\"#FF97FF\",\"#FECB52\"],\"font\":{\"color\":\"#2a3f5f\"},\"geo\":{\"bgcolor\":\"white\",\"lakecolor\":\"white\",\"landcolor\":\"#E5ECF6\",\"showlakes\":true,\"showland\":true,\"subunitcolor\":\"white\"},\"hoverlabel\":{\"align\":\"left\"},\"hovermode\":\"closest\",\"mapbox\":{\"style\":\"light\"},\"paper_bgcolor\":\"white\",\"plot_bgcolor\":\"#E5ECF6\",\"polar\":{\"angularaxis\":{\"gridcolor\":\"white\",\"linecolor\":\"white\",\"ticks\":\"\"},\"bgcolor\":\"#E5ECF6\",\"radialaxis\":{\"gridcolor\":\"white\",\"linecolor\":\"white\",\"ticks\":\"\"}},\"scene\":{\"xaxis\":{\"backgroundcolor\":\"#E5ECF6\",\"gridcolor\":\"white\",\"gridwidth\":2,\"linecolor\":\"white\",\"showbackground\":true,\"ticks\":\"\",\"zerolinecolor\":\"white\"},\"yaxis\":{\"backgroundcolor\":\"#E5ECF6\",\"gridcolor\":\"white\",\"gridwidth\":2,\"linecolor\":\"white\",\"showbackground\":true,\"ticks\":\"\",\"zerolinecolor\":\"white\"},\"zaxis\":{\"backgroundcolor\":\"#E5ECF6\",\"gridcolor\":\"white\",\"gridwidth\":2,\"linecolor\":\"white\",\"showbackground\":true,\"ticks\":\"\",\"zerolinecolor\":\"white\"}},\"shapedefaults\":{\"line\":{\"color\":\"#2a3f5f\"}},\"ternary\":{\"aaxis\":{\"gridcolor\":\"white\",\"linecolor\":\"white\",\"ticks\":\"\"},\"baxis\":{\"gridcolor\":\"white\",\"linecolor\":\"white\",\"ticks\":\"\"},\"bgcolor\":\"#E5ECF6\",\"caxis\":{\"gridcolor\":\"white\",\"linecolor\":\"white\",\"ticks\":\"\"}},\"title\":{\"x\":0.05},\"xaxis\":{\"automargin\":true,\"gridcolor\":\"white\",\"linecolor\":\"white\",\"ticks\":\"\",\"title\":{\"standoff\":15},\"zerolinecolor\":\"white\",\"zerolinewidth\":2},\"yaxis\":{\"automargin\":true,\"gridcolor\":\"white\",\"linecolor\":\"white\",\"ticks\":\"\",\"title\":{\"standoff\":15},\"zerolinecolor\":\"white\",\"zerolinewidth\":2}}},\"title\":{\"text\":\"Barplots of Mean Feature Importance\"},\"yaxis\":{\"gridwidth\":2,\"ticklen\":5,\"title\":{\"text\":\"Feature Importance\"}}},                        {\"responsive\": true}                    ).then(function(){\n",
       "                            \n",
       "var gd = document.getElementById('3ba25949-bb3c-4aec-9117-ad27ab2cb70e');\n",
       "var x = new MutationObserver(function (mutations, observer) {{\n",
       "        var display = window.getComputedStyle(gd).display;\n",
       "        if (!display || display === 'none') {{\n",
       "            console.log([gd, 'removed!']);\n",
       "            Plotly.purge(gd);\n",
       "            observer.disconnect();\n",
       "        }}\n",
       "}});\n",
       "\n",
       "// Listen for the removal of the full notebook cells\n",
       "var notebookContainer = gd.closest('#notebook-container');\n",
       "if (notebookContainer) {{\n",
       "    x.observe(notebookContainer, {childList: true});\n",
       "}}\n",
       "\n",
       "// Listen for the clearing of the current output cell\n",
       "var outputEl = gd.closest('.output');\n",
       "if (outputEl) {{\n",
       "    x.observe(outputEl, {childList: true});\n",
       "}}\n",
       "\n",
       "                        })                };                });            </script>        </div>"
      ]
     },
     "metadata": {},
     "output_type": "display_data"
    }
   ],
   "source": [
    "y = feature_dataframe['mean'].values\n",
    "x = feature_dataframe['features'].values\n",
    "data = [go.Bar(\n",
    "            x= x,\n",
    "             y= y,\n",
    "            width = 0.5,\n",
    "            marker=dict(\n",
    "               color = feature_dataframe['mean'].values,\n",
    "            colorscale='Portland',\n",
    "            showscale=True,\n",
    "            reversescale = False\n",
    "            ),\n",
    "            opacity=0.6\n",
    "        )]\n",
    "\n",
    "layout= go.Layout(\n",
    "    autosize= True,\n",
    "    title= 'Barplots of Mean Feature Importance',\n",
    "    hovermode= 'closest',\n",
    "    yaxis=dict(\n",
    "        title= 'Feature Importance',\n",
    "        ticklen= 5,\n",
    "        gridwidth= 2\n",
    "    ),\n",
    "    showlegend= False\n",
    ")\n",
    "fig = go.Figure(data=data, layout=layout)\n",
    "py.iplot(fig, filename='bar-direct-labels')"
   ]
  },
  {
   "cell_type": "code",
   "execution_count": 119,
   "metadata": {},
   "outputs": [
    {
     "data": {
      "text/html": [
       "<div>\n",
       "<style scoped>\n",
       "    .dataframe tbody tr th:only-of-type {\n",
       "        vertical-align: middle;\n",
       "    }\n",
       "\n",
       "    .dataframe tbody tr th {\n",
       "        vertical-align: top;\n",
       "    }\n",
       "\n",
       "    .dataframe thead th {\n",
       "        text-align: right;\n",
       "    }\n",
       "</style>\n",
       "<table border=\"1\" class=\"dataframe\">\n",
       "  <thead>\n",
       "    <tr style=\"text-align: right;\">\n",
       "      <th></th>\n",
       "      <th>RandomForest</th>\n",
       "      <th>ExtraTrees</th>\n",
       "      <th>AdaBoost</th>\n",
       "      <th>GradientBoost</th>\n",
       "    </tr>\n",
       "  </thead>\n",
       "  <tbody>\n",
       "    <tr>\n",
       "      <th>0</th>\n",
       "      <td>0.650350</td>\n",
       "      <td>0.678322</td>\n",
       "      <td>0.559441</td>\n",
       "      <td>0.594406</td>\n",
       "    </tr>\n",
       "    <tr>\n",
       "      <th>1</th>\n",
       "      <td>0.706294</td>\n",
       "      <td>0.678322</td>\n",
       "      <td>0.559441</td>\n",
       "      <td>0.594406</td>\n",
       "    </tr>\n",
       "    <tr>\n",
       "      <th>2</th>\n",
       "      <td>0.697183</td>\n",
       "      <td>0.678322</td>\n",
       "      <td>0.559441</td>\n",
       "      <td>0.594406</td>\n",
       "    </tr>\n",
       "    <tr>\n",
       "      <th>3</th>\n",
       "      <td>0.640845</td>\n",
       "      <td>0.678322</td>\n",
       "      <td>0.559441</td>\n",
       "      <td>0.594406</td>\n",
       "    </tr>\n",
       "    <tr>\n",
       "      <th>4</th>\n",
       "      <td>0.500000</td>\n",
       "      <td>0.678322</td>\n",
       "      <td>0.559441</td>\n",
       "      <td>0.594406</td>\n",
       "    </tr>\n",
       "  </tbody>\n",
       "</table>\n",
       "</div>"
      ],
      "text/plain": [
       "   RandomForest  ExtraTrees  AdaBoost  GradientBoost\n",
       "0      0.650350    0.678322  0.559441       0.594406\n",
       "1      0.706294    0.678322  0.559441       0.594406\n",
       "2      0.697183    0.678322  0.559441       0.594406\n",
       "3      0.640845    0.678322  0.559441       0.594406\n",
       "4      0.500000    0.678322  0.559441       0.594406"
      ]
     },
     "execution_count": 119,
     "metadata": {},
     "output_type": "execute_result"
    }
   ],
   "source": [
    "acc_pred_train = pd.DataFrame ({\n",
    "    'RandomForest': rfc_scores[0],\n",
    "     'ExtraTrees': etc_scores[0],\n",
    "     'AdaBoost': ada_scores[0],\n",
    "      'GradientBoost': gbc_scores[0]\n",
    "    })\n",
    "acc_pred_train.head()"
   ]
  },
  {
   "cell_type": "code",
   "execution_count": 121,
   "metadata": {},
   "outputs": [
    {
     "data": {
      "text/plain": [
       "<AxesSubplot:title={'center':'Pearson correlation of features'}>"
      ]
     },
     "execution_count": 121,
     "metadata": {},
     "output_type": "execute_result"
    },
    {
     "data": {
      "image/png": "[encoded data removed]",
      "text/plain": [
       "<Figure size 504x504 with 2 Axes>"
      ]
     },
     "metadata": {
      "needs_background": "light"
     },
     "output_type": "display_data"
    }
   ],
   "source": [
    "colormap = plt.cm.RdBu\n",
    "plt.figure(figsize=(7,7))\n",
    "plt.title('Pearson correlation of features', y=1.05, size=15)\n",
    "sns.heatmap(acc_pred_train.astype(float).corr(), annot=True)"
   ]
  },
  {
   "cell_type": "markdown",
   "metadata": {},
   "source": [
    "### Feature Importances"
   ]
  },
  {
   "cell_type": "code",
   "execution_count": 110,
   "metadata": {},
   "outputs": [],
   "source": [
    "x_train = np.column_stack(( etc_train_pred, rfc_train_pred, ada_train_pred, gbc_train_pred, svc_train_pred))\n"
   ]
  },
  {
   "cell_type": "code",
   "execution_count": 123,
   "metadata": {},
   "outputs": [
    {
     "data": {
      "text/plain": [
       "(712, 3)"
      ]
     },
     "execution_count": 123,
     "metadata": {},
     "output_type": "execute_result"
    }
   ],
   "source": [
    "x_train.shape"
   ]
  },
  {
   "cell_type": "code",
   "execution_count": 124,
   "metadata": {},
   "outputs": [
    {
     "data": {
      "text/html": [
       "<div>\n",
       "<style scoped>\n",
       "    .dataframe tbody tr th:only-of-type {\n",
       "        vertical-align: middle;\n",
       "    }\n",
       "\n",
       "    .dataframe tbody tr th {\n",
       "        vertical-align: top;\n",
       "    }\n",
       "\n",
       "    .dataframe thead th {\n",
       "        text-align: right;\n",
       "    }\n",
       "</style>\n",
       "<table border=\"1\" class=\"dataframe\">\n",
       "  <thead>\n",
       "    <tr style=\"text-align: right;\">\n",
       "      <th></th>\n",
       "      <th>RandomForest</th>\n",
       "      <th>ExtraTrees</th>\n",
       "      <th>AdaBoost</th>\n",
       "      <th>GradientBoost</th>\n",
       "    </tr>\n",
       "  </thead>\n",
       "  <tbody>\n",
       "    <tr>\n",
       "      <th>0</th>\n",
       "      <td>0.650350</td>\n",
       "      <td>0.678322</td>\n",
       "      <td>0.559441</td>\n",
       "      <td>0.594406</td>\n",
       "    </tr>\n",
       "    <tr>\n",
       "      <th>1</th>\n",
       "      <td>0.706294</td>\n",
       "      <td>0.678322</td>\n",
       "      <td>0.559441</td>\n",
       "      <td>0.594406</td>\n",
       "    </tr>\n",
       "    <tr>\n",
       "      <th>2</th>\n",
       "      <td>0.697183</td>\n",
       "      <td>0.678322</td>\n",
       "      <td>0.559441</td>\n",
       "      <td>0.594406</td>\n",
       "    </tr>\n",
       "    <tr>\n",
       "      <th>3</th>\n",
       "      <td>0.640845</td>\n",
       "      <td>0.678322</td>\n",
       "      <td>0.559441</td>\n",
       "      <td>0.594406</td>\n",
       "    </tr>\n",
       "    <tr>\n",
       "      <th>4</th>\n",
       "      <td>0.500000</td>\n",
       "      <td>0.678322</td>\n",
       "      <td>0.559441</td>\n",
       "      <td>0.594406</td>\n",
       "    </tr>\n",
       "  </tbody>\n",
       "</table>\n",
       "</div>"
      ],
      "text/plain": [
       "   RandomForest  ExtraTrees  AdaBoost  GradientBoost\n",
       "0      0.650350    0.678322  0.559441       0.594406\n",
       "1      0.706294    0.678322  0.559441       0.594406\n",
       "2      0.697183    0.678322  0.559441       0.594406\n",
       "3      0.640845    0.678322  0.559441       0.594406\n",
       "4      0.500000    0.678322  0.559441       0.594406"
      ]
     },
     "execution_count": 124,
     "metadata": {},
     "output_type": "execute_result"
    }
   ],
   "source": [
    "acc_pred_train"
   ]
  },
  {
   "cell_type": "code",
   "execution_count": 125,
   "metadata": {},
   "outputs": [],
   "source": [
    "def trainStackModel(x_train, y_train, x_test, n_folds, seed):\n",
    "    cv = KFold(n_splits= n_folds, random_state=seed)\n",
    "    gbm = xgb.XGBClassifier(\n",
    "     n_estimators= 2000,\n",
    "     max_depth= 4,\n",
    "     min_child_weight= 2,\n",
    "     gamma=0.9,                        \n",
    "     subsample=0.8,\n",
    "     colsample_bytree=0.8,\n",
    "     objective= 'binary:logistic',\n",
    "     scale_pos_weight=1).fit(x_train, y_train)\n",
    "    \n",
    "    scores = cross_val_score(gbm, x_train, y_train, scoring='accuracy', cv=cv)\n",
    "    return scores"
   ]
  },
  {
   "cell_type": "code",
   "execution_count": 127,
   "metadata": {},
   "outputs": [
    {
     "name": "stderr",
     "output_type": "stream",
     "text": [
      "C:\\Users\\Jenyo\\anaconda3\\lib\\site-packages\\xgboost\\sklearn.py:1224: UserWarning:\n",
      "\n",
      "The use of label encoder in XGBClassifier is deprecated and will be removed in a future release. To remove this warning, do the following: 1) Pass option use_label_encoder=False when constructing XGBClassifier object; and 2) Encode your labels (y) as integers starting with 0, i.e. 0, 1, 2, ..., [num_class - 1].\n",
      "\n"
     ]
    },
    {
     "name": "stdout",
     "output_type": "stream",
     "text": [
      "[13:17:54] WARNING: C:/Users/Administrator/workspace/xgboost-win64_release_1.5.1/src/learner.cc:1115: Starting in XGBoost 1.3.0, the default evaluation metric used with the objective 'binary:logistic' was changed from 'error' to 'logloss'. Explicitly set eval_metric if you'd like to restore the old behavior.\n"
     ]
    },
    {
     "name": "stderr",
     "output_type": "stream",
     "text": [
      "C:\\Users\\Jenyo\\anaconda3\\lib\\site-packages\\xgboost\\sklearn.py:1224: UserWarning:\n",
      "\n",
      "The use of label encoder in XGBClassifier is deprecated and will be removed in a future release. To remove this warning, do the following: 1) Pass option use_label_encoder=False when constructing XGBClassifier object; and 2) Encode your labels (y) as integers starting with 0, i.e. 0, 1, 2, ..., [num_class - 1].\n",
      "\n"
     ]
    },
    {
     "name": "stdout",
     "output_type": "stream",
     "text": [
      "[13:18:02] WARNING: C:/Users/Administrator/workspace/xgboost-win64_release_1.5.1/src/learner.cc:1115: Starting in XGBoost 1.3.0, the default evaluation metric used with the objective 'binary:logistic' was changed from 'error' to 'logloss'. Explicitly set eval_metric if you'd like to restore the old behavior.\n"
     ]
    },
    {
     "name": "stderr",
     "output_type": "stream",
     "text": [
      "C:\\Users\\Jenyo\\anaconda3\\lib\\site-packages\\xgboost\\sklearn.py:1224: UserWarning:\n",
      "\n",
      "The use of label encoder in XGBClassifier is deprecated and will be removed in a future release. To remove this warning, do the following: 1) Pass option use_label_encoder=False when constructing XGBClassifier object; and 2) Encode your labels (y) as integers starting with 0, i.e. 0, 1, 2, ..., [num_class - 1].\n",
      "\n"
     ]
    },
    {
     "name": "stdout",
     "output_type": "stream",
     "text": [
      "[13:18:10] WARNING: C:/Users/Administrator/workspace/xgboost-win64_release_1.5.1/src/learner.cc:1115: Starting in XGBoost 1.3.0, the default evaluation metric used with the objective 'binary:logistic' was changed from 'error' to 'logloss'. Explicitly set eval_metric if you'd like to restore the old behavior.\n"
     ]
    },
    {
     "name": "stderr",
     "output_type": "stream",
     "text": [
      "C:\\Users\\Jenyo\\anaconda3\\lib\\site-packages\\xgboost\\sklearn.py:1224: UserWarning:\n",
      "\n",
      "The use of label encoder in XGBClassifier is deprecated and will be removed in a future release. To remove this warning, do the following: 1) Pass option use_label_encoder=False when constructing XGBClassifier object; and 2) Encode your labels (y) as integers starting with 0, i.e. 0, 1, 2, ..., [num_class - 1].\n",
      "\n"
     ]
    },
    {
     "name": "stdout",
     "output_type": "stream",
     "text": [
      "[13:18:19] WARNING: C:/Users/Administrator/workspace/xgboost-win64_release_1.5.1/src/learner.cc:1115: Starting in XGBoost 1.3.0, the default evaluation metric used with the objective 'binary:logistic' was changed from 'error' to 'logloss'. Explicitly set eval_metric if you'd like to restore the old behavior.\n"
     ]
    },
    {
     "name": "stderr",
     "output_type": "stream",
     "text": [
      "C:\\Users\\Jenyo\\anaconda3\\lib\\site-packages\\xgboost\\sklearn.py:1224: UserWarning:\n",
      "\n",
      "The use of label encoder in XGBClassifier is deprecated and will be removed in a future release. To remove this warning, do the following: 1) Pass option use_label_encoder=False when constructing XGBClassifier object; and 2) Encode your labels (y) as integers starting with 0, i.e. 0, 1, 2, ..., [num_class - 1].\n",
      "\n"
     ]
    },
    {
     "name": "stdout",
     "output_type": "stream",
     "text": [
      "[13:18:26] WARNING: C:/Users/Administrator/workspace/xgboost-win64_release_1.5.1/src/learner.cc:1115: Starting in XGBoost 1.3.0, the default evaluation metric used with the objective 'binary:logistic' was changed from 'error' to 'logloss'. Explicitly set eval_metric if you'd like to restore the old behavior.\n"
     ]
    },
    {
     "name": "stderr",
     "output_type": "stream",
     "text": [
      "C:\\Users\\Jenyo\\anaconda3\\lib\\site-packages\\xgboost\\sklearn.py:1224: UserWarning:\n",
      "\n",
      "The use of label encoder in XGBClassifier is deprecated and will be removed in a future release. To remove this warning, do the following: 1) Pass option use_label_encoder=False when constructing XGBClassifier object; and 2) Encode your labels (y) as integers starting with 0, i.e. 0, 1, 2, ..., [num_class - 1].\n",
      "\n"
     ]
    },
    {
     "name": "stdout",
     "output_type": "stream",
     "text": [
      "[13:18:34] WARNING: C:/Users/Administrator/workspace/xgboost-win64_release_1.5.1/src/learner.cc:1115: Starting in XGBoost 1.3.0, the default evaluation metric used with the objective 'binary:logistic' was changed from 'error' to 'logloss'. Explicitly set eval_metric if you'd like to restore the old behavior.\n"
     ]
    }
   ],
   "source": [
    "stackModel_scores = trainStackModel(x_train, y_train, x_test, 5, None)\n"
   ]
  },
  {
   "cell_type": "code",
   "execution_count": 128,
   "metadata": {},
   "outputs": [
    {
     "data": {
      "text/html": [
       "<div>\n",
       "<style scoped>\n",
       "    .dataframe tbody tr th:only-of-type {\n",
       "        vertical-align: middle;\n",
       "    }\n",
       "\n",
       "    .dataframe tbody tr th {\n",
       "        vertical-align: top;\n",
       "    }\n",
       "\n",
       "    .dataframe thead th {\n",
       "        text-align: right;\n",
       "    }\n",
       "</style>\n",
       "<table border=\"1\" class=\"dataframe\">\n",
       "  <thead>\n",
       "    <tr style=\"text-align: right;\">\n",
       "      <th></th>\n",
       "      <th>RandomForest</th>\n",
       "      <th>ExtraTrees</th>\n",
       "      <th>AdaBoost</th>\n",
       "      <th>GradientBoost</th>\n",
       "      <th>stackingModel</th>\n",
       "    </tr>\n",
       "  </thead>\n",
       "  <tbody>\n",
       "    <tr>\n",
       "      <th>0</th>\n",
       "      <td>0.650350</td>\n",
       "      <td>0.678322</td>\n",
       "      <td>0.559441</td>\n",
       "      <td>0.594406</td>\n",
       "      <td>0.615385</td>\n",
       "    </tr>\n",
       "    <tr>\n",
       "      <th>1</th>\n",
       "      <td>0.706294</td>\n",
       "      <td>0.678322</td>\n",
       "      <td>0.559441</td>\n",
       "      <td>0.594406</td>\n",
       "      <td>0.615385</td>\n",
       "    </tr>\n",
       "    <tr>\n",
       "      <th>2</th>\n",
       "      <td>0.697183</td>\n",
       "      <td>0.678322</td>\n",
       "      <td>0.559441</td>\n",
       "      <td>0.594406</td>\n",
       "      <td>0.661972</td>\n",
       "    </tr>\n",
       "    <tr>\n",
       "      <th>3</th>\n",
       "      <td>0.640845</td>\n",
       "      <td>0.678322</td>\n",
       "      <td>0.559441</td>\n",
       "      <td>0.594406</td>\n",
       "      <td>0.619718</td>\n",
       "    </tr>\n",
       "    <tr>\n",
       "      <th>4</th>\n",
       "      <td>0.500000</td>\n",
       "      <td>0.678322</td>\n",
       "      <td>0.559441</td>\n",
       "      <td>0.594406</td>\n",
       "      <td>0.542254</td>\n",
       "    </tr>\n",
       "  </tbody>\n",
       "</table>\n",
       "</div>"
      ],
      "text/plain": [
       "   RandomForest  ExtraTrees  AdaBoost  GradientBoost  stackingModel\n",
       "0      0.650350    0.678322  0.559441       0.594406       0.615385\n",
       "1      0.706294    0.678322  0.559441       0.594406       0.615385\n",
       "2      0.697183    0.678322  0.559441       0.594406       0.661972\n",
       "3      0.640845    0.678322  0.559441       0.594406       0.619718\n",
       "4      0.500000    0.678322  0.559441       0.594406       0.542254"
      ]
     },
     "execution_count": 128,
     "metadata": {},
     "output_type": "execute_result"
    }
   ],
   "source": [
    "acc_pred_train['stackingModel'] = stackModel_scores\n",
    "acc_pred_train"
   ]
  },
  {
   "cell_type": "markdown",
   "metadata": {},
   "source": []
  },
  {
   "cell_type": "markdown",
   "metadata": {},
   "source": [
    "Build stacking model where a new stronger model learns from the predictions from all 4 weaker models"
   ]
  },
  {
   "cell_type": "code",
   "execution_count": 52,
   "metadata": {},
   "outputs": [],
   "source": [
    "# x_train = np.column_stack(( etc_scores, rfc_scores, ada_scores, gbc_scores))\n",
    "x_train = np.column_stack(( etc_train_pred, rfc_train_pred, ada_train_pred, gbc_train_pred, svc_train_pred))\n"
   ]
  },
  {
   "cell_type": "code",
   "execution_count": 61,
   "metadata": {},
   "outputs": [
    {
     "data": {
      "text/plain": [
       "(5, 4)"
      ]
     },
     "execution_count": 61,
     "metadata": {},
     "output_type": "execute_result"
    }
   ],
   "source": [
    "x_train.shape"
   ]
  },
  {
   "cell_type": "markdown",
   "metadata": {},
   "source": [
    "##### Correlation between classifiers XGBoost, AdaBoost, Extra Trees and Random Forest Classifiers predictions"
   ]
  },
  {
   "cell_type": "code",
   "execution_count": 48,
   "metadata": {},
   "outputs": [
    {
     "data": {
      "text/html": [
       "<div>\n",
       "<style scoped>\n",
       "    .dataframe tbody tr th:only-of-type {\n",
       "        vertical-align: middle;\n",
       "    }\n",
       "\n",
       "    .dataframe tbody tr th {\n",
       "        vertical-align: top;\n",
       "    }\n",
       "\n",
       "    .dataframe thead th {\n",
       "        text-align: right;\n",
       "    }\n",
       "</style>\n",
       "<table border=\"1\" class=\"dataframe\">\n",
       "  <thead>\n",
       "    <tr style=\"text-align: right;\">\n",
       "      <th></th>\n",
       "      <th>ExtraTrees</th>\n",
       "      <th>RandomForest</th>\n",
       "      <th>Adaboost</th>\n",
       "      <th>XGBoost</th>\n",
       "    </tr>\n",
       "  </thead>\n",
       "  <tbody>\n",
       "    <tr>\n",
       "      <th>ExtraTrees</th>\n",
       "      <td>1.000000</td>\n",
       "      <td>0.820454</td>\n",
       "      <td>-0.177440</td>\n",
       "      <td>0.153670</td>\n",
       "    </tr>\n",
       "    <tr>\n",
       "      <th>RandomForest</th>\n",
       "      <td>0.820454</td>\n",
       "      <td>1.000000</td>\n",
       "      <td>-0.552776</td>\n",
       "      <td>0.149901</td>\n",
       "    </tr>\n",
       "    <tr>\n",
       "      <th>Adaboost</th>\n",
       "      <td>-0.177440</td>\n",
       "      <td>-0.552776</td>\n",
       "      <td>1.000000</td>\n",
       "      <td>0.522037</td>\n",
       "    </tr>\n",
       "    <tr>\n",
       "      <th>XGBoost</th>\n",
       "      <td>0.153670</td>\n",
       "      <td>0.149901</td>\n",
       "      <td>0.522037</td>\n",
       "      <td>1.000000</td>\n",
       "    </tr>\n",
       "  </tbody>\n",
       "</table>\n",
       "</div>"
      ],
      "text/plain": [
       "              ExtraTrees  RandomForest  Adaboost   XGBoost\n",
       "ExtraTrees      1.000000      0.820454 -0.177440  0.153670\n",
       "RandomForest    0.820454      1.000000 -0.552776  0.149901\n",
       "Adaboost       -0.177440     -0.552776  1.000000  0.522037\n",
       "XGBoost         0.153670      0.149901  0.522037  1.000000"
      ]
     },
     "execution_count": 48,
     "metadata": {},
     "output_type": "execute_result"
    }
   ],
   "source": [
    "import numpy as np\n",
    "np.concatenate\n",
    "all_pred = pd.DataFrame({\"ExtraTrees\":etc_scores, \"RandomForest\": rfc_scores, \"Adaboost\": ada_scores, \"XGBoost\": gbc_scores})\n",
    "# all_pred.rename(rows={0: \"Extra Trees\", 1: \"Random Forest\", 2: \"AdaBoost\", 3: \"XGBoost\"}, inplace=True)\n",
    "pearsons_ = all_pred.corr(method='pearson')\n",
    "pearsons_"
   ]
  },
  {
   "cell_type": "code",
   "execution_count": 51,
   "metadata": {},
   "outputs": [
    {
     "data": {
      "image/png": "[encoded data removed]",
      "text/plain": [
       "<Figure size 1296x1080 with 2 Axes>"
      ]
     },
     "metadata": {},
     "output_type": "display_data"
    }
   ],
   "source": [
    "# To improve visualization, we generate a plot of this result\n",
    "sns.set(rc = {'figure.figsize':(18,15)})\n",
    "corr_seaborn_plot = sns.heatmap(pearsons_, \n",
    "            xticklabels=pearsons_.columns,\n",
    "            yticklabels=pearsons_.columns,\n",
    "            cmap='RdBu_r',\n",
    "            annot=True,\n",
    "            linewidth=0.5)\n",
    "figure = corr_seaborn_plot.get_figure()    \n",
    "# figure.savefig('./images/Pearson_corr_coef_seaborn_dp.png', dpi=400)"
   ]
  },
  {
   "cell_type": "code",
   "execution_count": 56,
   "metadata": {},
   "outputs": [],
   "source": [
    "def trainStackModel(x_train, y_train, x_test, n_folds, seed):\n",
    "    cv = KFold(n_splits= n_folds, random_state=seed)\n",
    "    gbm = xgb.XGBClassifier(\n",
    "     n_estimators= 2000,\n",
    "     max_depth= 4,\n",
    "     min_child_weight= 2,\n",
    "     gamma=0.9,                        \n",
    "     subsample=0.8,\n",
    "     colsample_bytree=0.8,\n",
    "     objective= 'binary:logistic',\n",
    "     scale_pos_weight=1).fit(x_train, y_train)\n",
    "    \n",
    "    scores = cross_val_score(gbm, x_train, y_train, scoring='accuracy', cv=cv)\n",
    "    return scores"
   ]
  },
  {
   "cell_type": "code",
   "execution_count": 129,
   "metadata": {},
   "outputs": [
    {
     "name": "stderr",
     "output_type": "stream",
     "text": [
      "C:\\Users\\Jenyo\\anaconda3\\lib\\site-packages\\xgboost\\sklearn.py:1224: UserWarning:\n",
      "\n",
      "The use of label encoder in XGBClassifier is deprecated and will be removed in a future release. To remove this warning, do the following: 1) Pass option use_label_encoder=False when constructing XGBClassifier object; and 2) Encode your labels (y) as integers starting with 0, i.e. 0, 1, 2, ..., [num_class - 1].\n",
      "\n"
     ]
    },
    {
     "name": "stdout",
     "output_type": "stream",
     "text": [
      "[10:58:18] WARNING: C:/Users/Administrator/workspace/xgboost-win64_release_1.5.1/src/learner.cc:1115: Starting in XGBoost 1.3.0, the default evaluation metric used with the objective 'binary:logistic' was changed from 'error' to 'logloss'. Explicitly set eval_metric if you'd like to restore the old behavior.\n"
     ]
    },
    {
     "name": "stderr",
     "output_type": "stream",
     "text": [
      "C:\\Users\\Jenyo\\anaconda3\\lib\\site-packages\\xgboost\\sklearn.py:1224: UserWarning:\n",
      "\n",
      "The use of label encoder in XGBClassifier is deprecated and will be removed in a future release. To remove this warning, do the following: 1) Pass option use_label_encoder=False when constructing XGBClassifier object; and 2) Encode your labels (y) as integers starting with 0, i.e. 0, 1, 2, ..., [num_class - 1].\n",
      "\n"
     ]
    },
    {
     "name": "stdout",
     "output_type": "stream",
     "text": [
      "[10:58:26] WARNING: C:/Users/Administrator/workspace/xgboost-win64_release_1.5.1/src/learner.cc:1115: Starting in XGBoost 1.3.0, the default evaluation metric used with the objective 'binary:logistic' was changed from 'error' to 'logloss'. Explicitly set eval_metric if you'd like to restore the old behavior.\n"
     ]
    },
    {
     "name": "stderr",
     "output_type": "stream",
     "text": [
      "C:\\Users\\Jenyo\\anaconda3\\lib\\site-packages\\xgboost\\sklearn.py:1224: UserWarning:\n",
      "\n",
      "The use of label encoder in XGBClassifier is deprecated and will be removed in a future release. To remove this warning, do the following: 1) Pass option use_label_encoder=False when constructing XGBClassifier object; and 2) Encode your labels (y) as integers starting with 0, i.e. 0, 1, 2, ..., [num_class - 1].\n",
      "\n"
     ]
    },
    {
     "name": "stdout",
     "output_type": "stream",
     "text": [
      "[10:58:33] WARNING: C:/Users/Administrator/workspace/xgboost-win64_release_1.5.1/src/learner.cc:1115: Starting in XGBoost 1.3.0, the default evaluation metric used with the objective 'binary:logistic' was changed from 'error' to 'logloss'. Explicitly set eval_metric if you'd like to restore the old behavior.\n"
     ]
    },
    {
     "name": "stderr",
     "output_type": "stream",
     "text": [
      "C:\\Users\\Jenyo\\anaconda3\\lib\\site-packages\\xgboost\\sklearn.py:1224: UserWarning:\n",
      "\n",
      "The use of label encoder in XGBClassifier is deprecated and will be removed in a future release. To remove this warning, do the following: 1) Pass option use_label_encoder=False when constructing XGBClassifier object; and 2) Encode your labels (y) as integers starting with 0, i.e. 0, 1, 2, ..., [num_class - 1].\n",
      "\n"
     ]
    },
    {
     "name": "stdout",
     "output_type": "stream",
     "text": [
      "[10:58:41] WARNING: C:/Users/Administrator/workspace/xgboost-win64_release_1.5.1/src/learner.cc:1115: Starting in XGBoost 1.3.0, the default evaluation metric used with the objective 'binary:logistic' was changed from 'error' to 'logloss'. Explicitly set eval_metric if you'd like to restore the old behavior.\n"
     ]
    },
    {
     "name": "stderr",
     "output_type": "stream",
     "text": [
      "C:\\Users\\Jenyo\\anaconda3\\lib\\site-packages\\xgboost\\sklearn.py:1224: UserWarning:\n",
      "\n",
      "The use of label encoder in XGBClassifier is deprecated and will be removed in a future release. To remove this warning, do the following: 1) Pass option use_label_encoder=False when constructing XGBClassifier object; and 2) Encode your labels (y) as integers starting with 0, i.e. 0, 1, 2, ..., [num_class - 1].\n",
      "\n"
     ]
    },
    {
     "name": "stdout",
     "output_type": "stream",
     "text": [
      "[10:58:49] WARNING: C:/Users/Administrator/workspace/xgboost-win64_release_1.5.1/src/learner.cc:1115: Starting in XGBoost 1.3.0, the default evaluation metric used with the objective 'binary:logistic' was changed from 'error' to 'logloss'. Explicitly set eval_metric if you'd like to restore the old behavior.\n"
     ]
    },
    {
     "name": "stderr",
     "output_type": "stream",
     "text": [
      "C:\\Users\\Jenyo\\anaconda3\\lib\\site-packages\\xgboost\\sklearn.py:1224: UserWarning:\n",
      "\n",
      "The use of label encoder in XGBClassifier is deprecated and will be removed in a future release. To remove this warning, do the following: 1) Pass option use_label_encoder=False when constructing XGBClassifier object; and 2) Encode your labels (y) as integers starting with 0, i.e. 0, 1, 2, ..., [num_class - 1].\n",
      "\n"
     ]
    },
    {
     "name": "stdout",
     "output_type": "stream",
     "text": [
      "[10:58:56] WARNING: C:/Users/Administrator/workspace/xgboost-win64_release_1.5.1/src/learner.cc:1115: Starting in XGBoost 1.3.0, the default evaluation metric used with the objective 'binary:logistic' was changed from 'error' to 'logloss'. Explicitly set eval_metric if you'd like to restore the old behavior.\n"
     ]
    }
   ],
   "source": [
    "tsm_scores = trainStackModel(x_train, y_train, x_test, 5, None)"
   ]
  },
  {
   "cell_type": "code",
   "execution_count": 59,
   "metadata": {},
   "outputs": [
    {
     "data": {
      "text/plain": [
       "569    1\n",
       "211    0\n",
       "195    1\n",
       "762    1\n",
       "868    1\n",
       "      ..\n",
       "604    0\n",
       "401    1\n",
       "497    0\n",
       "795    1\n",
       "498    1\n",
       "Name: Outcome, Length: 667, dtype: int64"
      ]
     },
     "execution_count": 59,
     "metadata": {},
     "output_type": "execute_result"
    }
   ],
   "source": [
    "y_train"
   ]
  },
  {
   "cell_type": "code",
   "execution_count": 60,
   "metadata": {},
   "outputs": [
    {
     "data": {
      "text/plain": [
       "<AxesSubplot:>"
      ]
     },
     "execution_count": 60,
     "metadata": {},
     "output_type": "execute_result"
    },
    {
     "data": {
      "image/png": "[encoded data removed]",
      "text/plain": [
       "<Figure size 1296x1080 with 1 Axes>"
      ]
     },
     "metadata": {},
     "output_type": "display_data"
    }
   ],
   "source": [
    "x_test['Age'].hist()"
   ]
  },
  {
   "cell_type": "code",
   "execution_count": null,
   "metadata": {},
   "outputs": [],
   "source": []
  }
 ],
 "metadata": {
  "interpreter": {
   "hash": "5acde8ab851b20e868c724d3dcba95e0427659cdedc46e3cf26c18b741723a05"
  },
  "kernelspec": {
   "display_name": "Python 3.9.7 ('base')",
   "language": "python",
   "name": "python3"
  },
  "language_info": {
   "codemirror_mode": {
    "name": "ipython",
    "version": 3
   },
   "file_extension": ".py",
   "mimetype": "text/x-python",
   "name": "python",
   "nbconvert_exporter": "python",
   "pygments_lexer": "ipython3",
   "version": "3.9.7"
  },
  "orig_nbformat": 4
 },
 "nbformat": 4,
 "nbformat_minor": 2
}
